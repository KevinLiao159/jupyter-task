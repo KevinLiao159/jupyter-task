{
 "cells": [
  {
   "cell_type": "code",
   "execution_count": 2,
   "metadata": {
    "collapsed": true
   },
   "outputs": [],
   "source": [
    "import pandas as pd\n",
    "import numpy as np\n",
    "import matplotlib.pyplot as plt\n",
    "%matplotlib inline\n",
    "\n",
    "import seaborn as sns\n",
    "sns.set(color_codes=True, style=\"ticks\")\n",
    "sns.set(style='whitegrid', context='notebook')\n",
    "from mpld3._display import display as d3_display\n",
    "\n",
    "from ipywidgets import widgets, interactive, interact, Layout, HTML as ipyHTML\n",
    "from IPython.display import display, HTML, clear_output, display_html\n",
    "\n",
    "pd.set_option('display.max_rows', 200)\n",
    "pd.set_option('display.max_columns', 100)"
   ]
  },
  {
   "cell_type": "code",
   "execution_count": 3,
   "metadata": {
    "collapsed": true
   },
   "outputs": [],
   "source": [
    "df_statquant_fillmin = pd.read_pickle('df_sample.pkl')\n",
    "df = df_statquant_fillmin[['price_future_12m', 'price', 'f__roe', 'f__bv_to_marketcap', 'f__stock_performance_12m',\n",
    "                      'f__earnings_to_marketcap']].sample(frac=0.01)"
   ]
  },
  {
   "cell_type": "code",
   "execution_count": 16,
   "metadata": {
    "collapsed": true
   },
   "outputs": [],
   "source": [
    "\"\"\"Prepare data for regression\"\"\"\n",
    "X = df.drop('price_future_12m', axis = 1).values\n",
    "y = df['price_future_12m'].values"
   ]
  },
  {
   "cell_type": "markdown",
   "metadata": {},
   "source": [
    "## Random Forest"
   ]
  },
  {
   "cell_type": "code",
   "execution_count": 4,
   "metadata": {
    "collapsed": true
   },
   "outputs": [],
   "source": [
    "from sklearn.ensemble import RandomForestRegressor\n",
    "forest = RandomForestRegressor(n_estimators=10,criterion='mse',random_state=1, max_depth = 2)\n",
    "forest.fit(X,y)\n",
    "y_pred = forest.predict(X)            "
   ]
  },
  {
   "cell_type": "code",
   "execution_count": 19,
   "metadata": {
    "scrolled": false
   },
   "outputs": [
    {
     "data": {
      "text/plain": [
       "DecisionTreeRegressor(criterion='mse', max_depth=2, max_features='auto',\n",
       "           max_leaf_nodes=None, min_impurity_split=1e-07,\n",
       "           min_samples_leaf=1, min_samples_split=2,\n",
       "           min_weight_fraction_leaf=0.0, presort=False,\n",
       "           random_state=1791095845, splitter='best')"
      ]
     },
     "execution_count": 19,
     "metadata": {},
     "output_type": "execute_result"
    }
   ],
   "source": [
    "forest.estimators_[0]\n",
    "#dir(forest)\n",
    "#dir(forest)[0:3]"
   ]
  },
  {
   "cell_type": "code",
   "execution_count": 20,
   "metadata": {
    "collapsed": true
   },
   "outputs": [],
   "source": [
    "from sklearn.tree import export_graphviz\n",
    "export_graphviz(forest.estimators_[0],\n",
    "      out_file='rftree.dot')\n",
    "      #feature_names=['price', 'f__roe', 'f__bv_to_marketcap', 'f__stock_performance_12m',\n",
    "                      #'f__earnings_to_marketcap'])"
   ]
  },
  {
   "cell_type": "markdown",
   "metadata": {},
   "source": [
    "## Tree Regressor"
   ]
  },
  {
   "cell_type": "code",
   "execution_count": 21,
   "metadata": {},
   "outputs": [],
   "source": [
    "from sklearn.tree import DecisionTreeRegressor\n",
    "rgtree = DecisionTreeRegressor(criterion='mse', max_depth=5)\n",
    "rgtree.fit(X,y)\n",
    "y_pred = rgtree.predict(X)"
   ]
  },
  {
   "cell_type": "code",
   "execution_count": 22,
   "metadata": {
    "collapsed": true
   },
   "outputs": [],
   "source": [
    "from sklearn.tree import export_graphviz\n",
    "export_graphviz(rgtree, \n",
    "                out_file='rgtree.dot',\n",
    "                feature_names = ['price', 'f__roe', 'f__bv_to_marketcap', 'f__stock_performance_12m', 'f__earnings_to_marketcap']\n",
    "               )"
   ]
  },
  {
   "cell_type": "markdown",
   "metadata": {},
   "source": [
    "## Decision Tree Classifier"
   ]
  },
  {
   "cell_type": "code",
   "execution_count": 44,
   "metadata": {},
   "outputs": [],
   "source": [
    "\"\"\"Prepare data for classification\"\"\"\n",
    "df['price_return'] = (df['price_future_12m'].values - df['price']) / df['price']\n",
    "df.loc[(df.price_return >= 0), 'long_short'] = 1\n",
    "df.loc[(df.price_return < 0), 'long_short'] = -1\n",
    "\n",
    "X = df.drop(['price_future_12m', 'price_return', 'long_short'], axis = 1).values\n",
    "y = df['long_short'].values"
   ]
  },
  {
   "cell_type": "code",
   "execution_count": 45,
   "metadata": {},
   "outputs": [],
   "source": [
    "from sklearn.tree import DecisionTreeClassifier\n",
    "tree = DecisionTreeClassifier(criterion='entropy', max_depth=3, random_state=0)\n",
    "tree.fit(X, y)\n",
    "y_pred = tree.predict(X)"
   ]
  },
  {
   "cell_type": "code",
   "execution_count": 46,
   "metadata": {},
   "outputs": [],
   "source": [
    "from sklearn.tree import export_graphviz\n",
    "export_graphviz(tree, \n",
    "                out_file='tree.dot',\n",
    "                feature_names = ['price', 'f__roe', 'f__bv_to_marketcap', 'f__stock_performance_12m', 'f__earnings_to_marketcap']\n",
    "               )"
   ]
  },
  {
   "cell_type": "markdown",
   "metadata": {},
   "source": [
    "## Decision Tree Classifier for full statquant data"
   ]
  },
  {
   "cell_type": "code",
   "execution_count": 58,
   "metadata": {},
   "outputs": [],
   "source": [
    "\"\"\"data preparation\"\"\"\n",
    "exclu_feilds = ['date', 'tradingitemid', 'companyid', 'companyname', 'exchange', 'exchangeid', 'industry', \n",
    "                'sector', 'symbol', 'symbolstartdate', u'date_next', 'price_next', u'date_historical_12m', \n",
    "                u'date_historical_6m', u'date_historical_3m', u'date_future_1m', u'price_future_1m',\n",
    "                u'price_growth_avg_1m', u'price_growth_std_1m', u'price_min_1m',\n",
    "                u'price_max_1m', u'date_future_3m', u'price_future_3m',\n",
    "                u'price_growth_avg_3m', u'price_growth_std_3m', u'price_min_3m',\n",
    "                u'price_max_3m', u'date_future_6m', u'price_future_6m',\n",
    "                u'price_growth_avg_6m', u'price_growth_std_6m', u'price_min_6m',\n",
    "                u'price_max_6m', u'date_future_12m', #u'price_future_12m',\n",
    "                u'price_growth_avg_12m', u'price_growth_std_12m', u'price_min_12m',\n",
    "                u'price_max_12m', u'date_future_24m', u'price_future_24m',\n",
    "                u'price_growth_avg_24m', u'price_growth_std_24m', u'price_min_24m',\n",
    "                u'price_max_24m', u'date_future_36m', u'price_future_36m',\n",
    "                u'price_growth_avg_36m', u'price_growth_std_36m', u'price_min_36m',\n",
    "                u'price_max_36m']\n",
    "\n",
    "df_full_statquant = df_statquant_fillmin.drop(exclu_feilds, axis=1).sample(frac = 0.1)\n",
    "\"\"\"reclassify target variable\"\"\"\n",
    "df_full_statquant['price_return'] = (df_full_statquant['price_future_12m'].values - df_full_statquant['price']) / df_full_statquant['price']\n",
    "df_full_statquant.loc[(df_full_statquant.price_return >= 0), 'long_short'] = 1\n",
    "df_full_statquant.loc[(df_full_statquant.price_return < 0), 'long_short'] = 0\n",
    "\n",
    "X = df_full_statquant.drop(['price_future_12m', 'price_return', 'long_short'], axis = 1).values\n",
    "y = df_full_statquant['long_short'].values\n"
   ]
  },
  {
   "cell_type": "code",
   "execution_count": 66,
   "metadata": {},
   "outputs": [],
   "source": [
    "\"\"\"features to look at\"\"\"\n",
    "all_features = df_full_statquant.drop(['price_future_12m', 'price_return', 'long_short'], axis = 1).columns.values"
   ]
  },
  {
   "cell_type": "code",
   "execution_count": 108,
   "metadata": {},
   "outputs": [],
   "source": [
    "\"\"\"20 random trees for depth = 3\"\"\"\n",
    "import random \n",
    "from sklearn.tree import DecisionTreeClassifier\n",
    "trees_depth3 = []\n",
    "y_preds = []\n",
    "i = 0\n",
    "for n in range(20):\n",
    "    trees_depth3.append(DecisionTreeClassifier(criterion='entropy', \n",
    "                                               max_depth=3, \n",
    "                                               random_state=n))\n",
    "    trees_depth3[n].fit(X, y)\n",
    "    y_preds.append(trees_depth3[n].predict(X))\n",
    "    \n",
    "    \"\"\"output file\"\"\"\n",
    "    with open('tree_depth3_' + str(i) + '.dot', 'w') as my_file:\n",
    "        my_file = export_graphviz(trees_depth3[n],\n",
    "                                  out_file = my_file,\n",
    "                                  feature_names = all_features\n",
    "                                 )\n",
    "        i = i + 1"
   ]
  },
  {
   "cell_type": "code",
   "execution_count": 102,
   "metadata": {},
   "outputs": [
    {
     "data": {
      "text/plain": [
       "[2]"
      ]
     },
     "execution_count": 102,
     "metadata": {},
     "output_type": "execute_result"
    }
   ],
   "source": [
    "i_tree = 0\n",
    "for tree_in_forest in forest.estimators_:\n",
    "    with open('tree_' + str(i_tree) + '.dot', 'w') as my_file:\n",
    "        my_file = tree.export_graphviz(tree_in_forest, out_file = my_file)\n",
    "    i_tree = i_tree + 1\n"
   ]
  },
  {
   "cell_type": "code",
   "execution_count": null,
   "metadata": {
    "collapsed": true
   },
   "outputs": [],
   "source": [
    "i_tree = 0\n",
    "for tree_in_forest in forest.estimators_:\n",
    "    with open('tree_' + str(i_tree) + '.dot', 'w') as my_file:\n",
    "        my_file = tree.export_graphviz(tree_in_forest, out_file = my_file)\n",
    "    i_tree = i_tree + 1"
   ]
  },
  {
   "cell_type": "code",
   "execution_count": 71,
   "metadata": {
    "collapsed": true
   },
   "outputs": [],
   "source": [
    "from sklearn.tree import export_graphviz\n",
    "export_graphviz(tree, \n",
    "                out_file='statquant_tree3.dot',\n",
    "                feature_names = all_features)\n",
    "                "
   ]
  }
 ],
 "metadata": {
  "kernelspec": {
   "display_name": "Python 2",
   "language": "python",
   "name": "python2"
  },
  "language_info": {
   "codemirror_mode": {
    "name": "ipython",
    "version": 2
   },
   "file_extension": ".py",
   "mimetype": "text/x-python",
   "name": "python",
   "nbconvert_exporter": "python",
   "pygments_lexer": "ipython2",
   "version": "2.7.13"
  }
 },
 "nbformat": 4,
 "nbformat_minor": 2
}
