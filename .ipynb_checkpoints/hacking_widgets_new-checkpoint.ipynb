{
 "cells": [
  {
   "cell_type": "code",
   "execution_count": 2,
   "metadata": {
    "collapsed": true,
    "extensions": {
     "jupyter_dashboards": {
      "version": 1,
      "views": {
       "grid_default": {
        "hidden": true
       },
       "report_default": {
        "hidden": true
       }
      }
     }
    },
    "scrolled": true
   },
   "outputs": [],
   "source": [
    "import pandas as pd\n",
    "import numpy as np\n",
    "import matplotlib.pyplot as plt\n",
    "\n",
    "from ipywidgets import widgets, interactive, interact, Layout, Box, HTML as ipyHTML\n",
    "from IPython.display import display, HTML, clear_output\n",
    "\n",
    "df_static_paths = pd.read_pickle(\"df_static_paths.pkl\")\n",
    "df_dynamic_paths = pd.read_pickle(\"df_dynamic_paths.pkl\")\n",
    "metrics_df = pd.read_pickle(\"metrics_df.pkl\")\n",
    "df_p = pd.read_pickle(\"portfolio.pkl\")\n",
    "df_tp = pd.read_pickle(\"target_portfolio.pkl\")"
   ]
  },
  {
   "cell_type": "code",
   "execution_count": null,
   "metadata": {
    "collapsed": true,
    "extensions": {
     "jupyter_dashboards": {
      "version": 1,
      "views": {
       "grid_default": {
        "hidden": true
       },
       "report_default": {
        "hidden": true
       }
      }
     }
    }
   },
   "outputs": [],
   "source": [
    "# %%html\n",
    "# <style>\n",
    "# .output_wrapper, .output {\n",
    "#     height:auto !important;\n",
    "# }\n",
    "# .output_scroll {\n",
    "#     box-shadow:none !important;\n",
    "#     webkit-box-shadow:none !important;\n",
    "# }\n",
    "# .output_subarea table {\n",
    "#     box-shadow: 10px 5px 5px black;\n",
    "#     border: 4px solid rgba(0,0,0,0.8);\n",
    "# }\n",
    "# #.widget-datepicker {\n",
    "#     #visibility: hidden;\n",
    "# #}\n",
    "# </style>"
   ]
  },
  {
   "cell_type": "code",
   "execution_count": 21,
   "metadata": {
    "extensions": {
     "jupyter_dashboards": {
      "version": 1,
      "views": {
       "grid_default": {
        "col": 4,
        "height": 4,
        "hidden": false,
        "row": 2,
        "width": 4
       },
       "report_default": {
        "hidden": false
       }
      }
     }
    }
   },
   "outputs": [
    {
     "data": {
      "text/html": [
       "<style>\n",
       ".widget-select-multiple option {\n",
       "    font-size: 26px;\n",
       "    margin: 5px 0px 10px;\n",
       "}\n",
       ".widget-select-multiple select {\n",
       "    padding: 0px 20px;\n",
       "}\n",
       "div.output_scroll {\n",
       "    overflow: scroll;\n",
       "    height: 60em;\n",
       "}\n",
       ".output_scroll > .output_area:first-child {\n",
       "    border-bottom: 3px solid black;\n",
       "    min-height: 30px;\n",
       "}\n",
       ".output_scroll > .output_area:nth-child(2) {\n",
       "    overflow: auto;\n",
       "}\n",
       ".output_scroll > .output_area:nth-child(2) .output_subarea {\n",
       "    overflow: scroll;\n",
       "    min-width: 1015px;\n",
       "}\n",
       "\n",
       "</style>"
      ],
      "text/plain": [
       "<IPython.core.display.HTML object>"
      ]
     },
     "metadata": {},
     "output_type": "display_data"
    }
   ],
   "source": [
    "%%html\n",
    "<style>\n",
    ".widget-select-multiple option {\n",
    "    font-size: 26px;\n",
    "    margin: 5px 0px 10px;\n",
    "}\n",
    ".widget-select-multiple select {\n",
    "    padding: 0px 20px;\n",
    "}\n",
    "div.output_scroll {\n",
    "    overflow: scroll;\n",
    "    height: 60em;\n",
    "}\n",
    ".output_scroll > .output_area:first-child {\n",
    "    border-bottom: 3px solid black;\n",
    "    min-height: 30px;\n",
    "}\n",
    ".output_scroll > .output_area:nth-child(2) {\n",
    "    overflow: auto;\n",
    "}\n",
    ".output_scroll > .output_area:nth-child(2) .output_subarea {\n",
    "    overflow: scroll;\n",
    "    min-width: 1015px;\n",
    "}\n",
    "\n",
    "</style>"
   ]
  },
  {
   "cell_type": "code",
   "execution_count": 4,
   "metadata": {
    "extensions": {
     "jupyter_dashboards": {
      "version": 1,
      "views": {
       "grid_default": {},
       "report_default": {
        "hidden": false
       }
      }
     }
    }
   },
   "outputs": [
    {
     "data": {
      "application/vnd.jupyter.widget-view+json": {
       "model_id": "e43851d5a5754d0bb31a7e121934c1b7"
      }
     },
     "metadata": {},
     "output_type": "display_data"
    }
   ],
   "source": [
    "batchid = widgets.Select(options=[917239704889096439], description=\"Select batchid\")"
   ]
  },
  {
   "cell_type": "markdown",
   "metadata": {
    "extensions": {
     "jupyter_dashboards": {
      "version": 1,
      "views": {
       "grid_default": {
        "col": 0,
        "height": 4,
        "hidden": false,
        "row": 2,
        "width": 4
       },
       "report_default": {
        "hidden": false
       }
      }
     }
    }
   },
   "source": [
    "### Batch View"
   ]
  },
  {
   "cell_type": "code",
   "execution_count": 13,
   "metadata": {
    "collapsed": true,
    "extensions": {
     "jupyter_dashboards": {
      "version": 1,
      "views": {
       "grid_default": {},
       "report_default": {
        "hidden": true
       }
      }
     }
    }
   },
   "outputs": [],
   "source": [
    "def parameter_view(batchid, df_static_paths, df_dynamic_paths):\n",
    "    template = \"\"\"<H2>batchid: {}</H2><br> Run: {}<br><h3>Static Parameters</h3>\"\"\"\n",
    "    display(HTML(template.format(batchid, \"2017-06-11\")))\n",
    "    display(df_static_paths, height = 400)\n",
    "    display(HTML(\"<h3>Varied Parameters</h3>\"))\n",
    "    display(df_dynamic_paths, height=400)"
   ]
  },
  {
   "cell_type": "code",
   "execution_count": 17,
   "metadata": {
    "extensions": {
     "jupyter_dashboards": {
      "version": 1,
      "views": {
       "grid_default": {
        "hidden": true
       },
       "report_default": {
        "hidden": false
       }
      }
     }
    }
   },
   "outputs": [],
   "source": [
    "def batchid_summary_view(batchid, df_dynamic_paths):\n",
    "#     metrics_df = df_dynamic_paths.reset_index().rename(\n",
    "#         columns={'index': 'simulationid'}\n",
    "#     ).merge(metrics_df.drop('created_at', axis=1), how='left', on='simulationid')\n",
    "\n",
    "    \"\"\"setting html style for metrics dataframe\"\"\"\n",
    "    styles =[\n",
    "        {'selector': '.row_heading, .blank', 'props': [('display', 'none;')]},\n",
    "        {'selector': 'tr:nth-child(even)', 'props': [('background-color', '#f2f2f2;')]},\n",
    "        {'selector': 'td', 'props': [('height', '20px;')]},\n",
    "    ]\n",
    "    attributes = 'class=\"table\";'\n",
    "\n",
    "    \"\"\"multiselect box for plots\"\"\"\n",
    "    plotboxes = widgets.SelectMultiple(\n",
    "        options=[x for x in metrics_df.index],        \n",
    "        disabled=False,\n",
    "        layout=Layout(display=\"flex\", flex_flow='column', height='100%', width='100%')\n",
    "    )\n",
    "\n",
    "    left_box = widgets.VBox([widgets.Label(value = 'Plot ?'), plotboxes]) \n",
    "    global table\n",
    "    table = widgets.HBox([\n",
    "        left_box, \n",
    "        ipyHTML(\n",
    "            metrics_df.style.set_table_styles(styles).set_table_attributes(attributes).render(),\n",
    "            layout=Layout(overflow_x='scroll', hight = '50%')\n",
    "               )\n",
    "    ])\n",
    "\n",
    "    display(table)\n",
    "pd.set_option('display.max_colwidth', 3000)\n",
    "pd.set_option('display.precision', 12) "
   ]
  },
  {
   "cell_type": "code",
   "execution_count": 18,
   "metadata": {
    "extensions": {
     "jupyter_dashboards": {
      "version": 1,
      "views": {
       "grid_default": {},
       "report_default": {
        "hidden": false
       }
      }
     }
    }
   },
   "outputs": [
    {
     "data": {
      "application/vnd.jupyter.widget-view+json": {
       "model_id": "2f17d17a71c5404bb2273e55f6234454"
      }
     },
     "metadata": {},
     "output_type": "display_data"
    }
   ],
   "source": [
    "def interact_combined_view(batchid):\n",
    "    \"\"\"This is the plot function for display both parameter_view and batchid_summary_view\"\"\"\n",
    "    clear_output(True)\n",
    "\n",
    "    parameter_view(batchid, df_static_paths, df_dynamic_paths)\n",
    "    batchid_summary_view(batchid, df_dynamic_paths)\n",
    "    \n",
    "\n",
    "pd.set_option('display.max_colwidth', 3000)\n",
    "pd.set_option('display.precision', 12)    \n",
    "\n",
    "\"\"\"main container\"\"\"\n",
    "interactive(\n",
    "    interact_combined_view, \n",
    "    batchid=batchid\n",
    ")"
   ]
  },
  {
   "cell_type": "markdown",
   "metadata": {
    "extensions": {
     "jupyter_dashboards": {
      "version": 1,
      "views": {
       "grid_default": {
        "col": 0,
        "height": 2,
        "hidden": false,
        "row": 0,
        "width": 12
       },
       "report_default": {
        "hidden": false
       }
      }
     }
    }
   },
   "source": [
    "### Portfolio View"
   ]
  },
  {
   "cell_type": "code",
   "execution_count": null,
   "metadata": {
    "extensions": {
     "jupyter_dashboards": {
      "version": 1,
      "views": {
       "grid_default": {
        "hidden": true
       },
       "report_default": {
        "hidden": false
       }
      }
     }
    }
   },
   "outputs": [],
   "source": [
    "def portfolio_view(_df_p):\n",
    "    \"\"\"This funtion returns a new view of portfolio dataframe and keep track of net_exposure of portfolio at date\"\"\"\n",
    "    df = _df_p.copy()\n",
    "\n",
    "    df['value'] = (df.price * df.shares)\n",
    "    df_net_exposure = df.groupby(by=['date'])[['value']].sum().rename(columns={'value': 'net_exposure'}).reset_index()\n",
    "    df = pd.merge(df, df_net_exposure, on='date', how='outer')    \n",
    "    df['percent_of_net'] = (df.value / df.net_exposure)\n",
    "    df['amount'] = (df.price * df.shares.abs())\n",
    "    df['extra_stuff1'] = 'TBD1'\n",
    "    df['extra_stuff2'] = 'TBD2'\n",
    "    df['extra_stuff3'] = 'TBD3'\n",
    "    df['extra_stuff4'] = 'TBD4'\n",
    "    \n",
    "    \"\"\"select cols\"\"\"\n",
    "    cols = ['date', 'tradingitemid', 'companyname', 'symbol', 'exchange', 'price', 'shares', \n",
    "            'value', 'percent_of_net', 'batch', 'name', 'amount', 'extra_stuff1', 'extra_stuff2', 'extra_stuff3',\n",
    "           'extra_stuff4']\n",
    "    df = df.loc[:, cols]\n",
    "    \n",
    "    return df, df_net_exposure\n",
    "\n",
    "df_p_view, df_net_exposure = portfolio_view(df_p)    \n",
    "\n",
    "\n",
    "def portfolio_view_date_select(date):\n",
    "    \"\"\"This function interacts with datePick and SortBy to display the target_portfolio dataframe\"\"\"\n",
    "    df = df_p_view.loc[df_p_view.date == date, :]  \n",
    "    \n",
    "    print(\"net exposure: \" + str(df_net_exposure.loc[df_net_exposure.date == date].iloc[0,1]))\n",
    "\n",
    "    display(df)\n",
    "\n",
    "    \n",
    "\n",
    "\"\"\"create the interactive object\"\"\" \n",
    "interact_df_p = interactive(portfolio_view_date_select, \n",
    "                            date=widgets.DatePicker(value = df_p_view.date[0], description='Date'))\n",
    "\n",
    "\"\"\"button for skip date\"\"\"\n",
    "last_week = widgets.Button(description=\"previous date\") \n",
    "next_week = widgets.Button(description=\"next date\")    \n",
    "\n",
    "df_date_t = pd.DataFrame({\"date\": df_p.date.unique()})\n",
    "\n",
    "def forward(next_week):\n",
    "    interact_df_p.children[0].value=df_date_t.iloc[df_date_t.index[df_date_t.date==interact_df_p.children[0].value] + 1].iloc[0,0]\n",
    "    \n",
    "def backward(last_week):\n",
    "    interact_df_p.children[0].value=df_date_t.iloc[df_date_t.index[df_date_t.date==interact_df_p.children[0].value] - 1].iloc[0,0]\n",
    "\n",
    "next_week.on_click(forward)\n",
    "last_week.on_click(backward)  \n",
    "\n",
    "button_box = widgets.HBox([widgets.Label(\"Click here: \"), last_week, next_week])    \n",
    "\n",
    "\n",
    "display(button_box, interact_df_p)\n",
    "\n",
    "pd.set_option(\"display.max_rows\", None)"
   ]
  },
  {
   "cell_type": "code",
   "execution_count": null,
   "metadata": {
    "collapsed": true,
    "extensions": {
     "jupyter_dashboards": {
      "version": 1,
      "views": {
       "grid_default": {
        "hidden": true
       },
       "report_default": {
        "hidden": true
       }
      }
     }
    }
   },
   "outputs": [],
   "source": [
    "display(HTML(\"<h3>Target Portfolio View</h3>\"))"
   ]
  },
  {
   "cell_type": "code",
   "execution_count": 20,
   "metadata": {},
   "outputs": [
    {
     "data": {
      "application/vnd.jupyter.widget-view+json": {
       "model_id": "9ef8887bf4234a92904fb8282a6de26b"
      }
     },
     "metadata": {},
     "output_type": "display_data"
    },
    {
     "data": {
      "application/vnd.jupyter.widget-view+json": {
       "model_id": "f0f8f59717dc47a89a713b79f496b96a"
      }
     },
     "metadata": {},
     "output_type": "display_data"
    }
   ],
   "source": [
    "\"\"\"This chunk is for displaying df_target_portfolio\"\"\"\n",
    "def target_portfolio_view(_df_tp):\n",
    "    \"\"\"This funtion takes target_portfolio dataframe and returns a new view of relevant feilds sorted by date\"\"\"     \n",
    "    df = _df_tp.copy()\n",
    "    \"\"\"cols to display\"\"\"\n",
    "    cols = ['date', 'tradingitemid', 'companyname', 'symbol', 'exchange', 'score', 'position_type',\n",
    "            'amount', 'price', 'limit_lo', 'limit_hi']    \n",
    "    return df.loc[:, cols]\n",
    "\n",
    "\"\"\"store the df_tp in df_tp_view\"\"\"\n",
    "df_tp_view = target_portfolio_view(df_tp)\n",
    "\n",
    "def target_portfolio_view_date_select(date, sortby, ascending, filterby, tradingitemid):\n",
    "    \"\"\"This function interacts with datePick and SortBy to display the target_portfolio dataframe\"\"\"\n",
    "    \"\"\"sort first\"\"\"\n",
    "    if not filterby:        \n",
    "        df = df_tp_view.loc[df_tp_view.tradingitemid == tradingitemid, :].sort_values(by=sortby, ascending=ascending)\n",
    "    else:\n",
    "        df = df_tp_view.loc[\n",
    "            df_tp_view.date == date, :\n",
    "        ].loc[df_tp_view.position_type != filterby, :].sort_values(by=sortby, ascending=ascending)   \n",
    "    \"\"\"format\"\"\"    \n",
    "    df['tradingitemid'] = df['tradingitemid'].astype(int)\n",
    "    df['amount'] = df['amount'].map('{:,.2%}'.format)\n",
    "    df['limit_hi'] = df['limit_hi'].map('${:,.2f}'.format) \n",
    "    df['limit_lo'] = df['limit_lo'].map('${:,.2f}'.format)  \n",
    "    df['price'] = df['price'].map('${:,.2f}'.format) \n",
    "    df['score'] = df['score'].map('{:,.2%}'.format)\n",
    "    ##############################   \n",
    "    print (\"place_holder\")\n",
    "    pd.set_option(\"display.max_rows\", None)\n",
    "    display(df)\n",
    " \n",
    "\"\"\"create the interactive object\"\"\"\n",
    "if len(df_tp_view) == 0:\n",
    "    interact_df_tp = None\n",
    "    print('I am sorry, data is empty')\n",
    "    \n",
    "else:\n",
    "    interact_df_tp = interactive(target_portfolio_view_date_select, \n",
    "                             date= widgets.DatePicker(value = df_tp_view.date[0], description='Date'),\n",
    "                                                      #layout=Layout(height='180px')),\n",
    "                             sortby = widgets.Dropdown(options=[col for col in df_tp_view.columns.values],\n",
    "                                                       value=df_tp_view.columns.values[0],\n",
    "                                                       description='Sort by'),\n",
    "                                                       #layout=Layout(height='250px')) \n",
    "                             ascending = widgets.Dropdown(options={\"Ascending\": True, \"Descending\": False},\n",
    "                                                          value=True,\n",
    "                                                          description='Sort order'),\n",
    "                             filterby = widgets.Dropdown(options={\"All\": \"all\", \"Only Long\": \"SHORT_EQUITY\", \n",
    "                                                                  \"Only Short\": \"LONG_EQUITY\", \"tradingitemid\": False},\n",
    "                                                         value=\"all\",\n",
    "                                                         description='Filter by'),\n",
    "                             tradingitemid = widgets.FloatText(description='Filter by tradingitemid ', \n",
    "                                                               value=df_tp_view.tradingitemid[0])\n",
    "                            )\n",
    "\"\"\"button for skip date\"\"\"\n",
    "last_month = widgets.Button(description=\"previous date\") \n",
    "next_month = widgets.Button(description=\"next date\")    \n",
    "\n",
    "df_date_tp = pd.DataFrame({\"date\": df_tp_view.date.unique()})\n",
    "\n",
    "def forward(next_month):    \n",
    "    interact_df_tp.children[0].value=df_date_tp.iloc[df_date_tp.index[df_date_tp.date==interact_df_tp.children[0].value] + 1].iloc[0,0]\n",
    "    \n",
    "    \n",
    "def backward(last_month):\n",
    "    interact_df_tp.children[0].value=df_date_tp.iloc[df_date_tp.index[df_date_tp.date==interact_df_tp.children[0].value] - 1].iloc[0,0]\n",
    "\n",
    "next_month.on_click(forward)\n",
    "last_month.on_click(backward)    \n",
    "    \n",
    "\"\"\"box\"\"\"    \n",
    "button_box = widgets.HBox([widgets.Label(\"Click here: \"), last_month, next_month])      \n",
    "\"\"\"main container display\"\"\"\n",
    "display(button_box, interact_df_tp)\n",
    "\n",
    "# pd.set_option(\"display.max_rows\", None)"
   ]
  }
 ],
 "metadata": {
  "extensions": {
   "jupyter_dashboards": {
    "activeView": "report_default",
    "version": 1,
    "views": {
     "grid_default": {
      "cellMargin": 10,
      "defaultCellHeight": 20,
      "maxColumns": 12,
      "name": "grid",
      "type": "grid"
     },
     "report_default": {
      "name": "report",
      "type": "report"
     }
    }
   }
  },
  "kernelspec": {
   "display_name": "Python 2",
   "language": "python",
   "name": "python2"
  },
  "language_info": {
   "codemirror_mode": {
    "name": "ipython",
    "version": 2
   },
   "file_extension": ".py",
   "mimetype": "text/x-python",
   "name": "python",
   "nbconvert_exporter": "python",
   "pygments_lexer": "ipython2",
   "version": "2.7.13"
  }
 },
 "nbformat": 4,
 "nbformat_minor": 2
}
