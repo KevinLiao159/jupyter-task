{
 "cells": [
  {
   "cell_type": "code",
   "execution_count": 1,
   "metadata": {
    "collapsed": true
   },
   "outputs": [],
   "source": [
    "import pandas as pd\n",
    "import numpy as np\n",
    "import matplotlib.pyplot as plt\n",
    "%matplotlib inline\n",
    "\n",
    "import seaborn as sns\n",
    "sns.set(color_codes=True, style=\"ticks\")\n",
    "sns.set(style='whitegrid', context='notebook')\n",
    "from mpld3._display import display as d3_display\n",
    "\n",
    "from ipywidgets import widgets, interactive, interact, Layout, HTML as ipyHTML\n",
    "from IPython.display import display, HTML, clear_output, display_html\n",
    "\n",
    "pd.set_option('display.max_rows', 200)\n",
    "pd.set_option('display.max_columns', 100)"
   ]
  },
  {
   "cell_type": "code",
   "execution_count": 6,
   "metadata": {
    "collapsed": true
   },
   "outputs": [],
   "source": [
    "\"\"\"load in data and reset index\"\"\"\n",
    "df_statquant_fillmin = pd.read_pickle('df_sample.pkl')"
   ]
  },
  {
   "cell_type": "markdown",
   "metadata": {},
   "source": [
    "Statquant Visualization Report\n",
    "========="
   ]
  },
  {
   "cell_type": "code",
   "execution_count": 8,
   "metadata": {
    "collapsed": true
   },
   "outputs": [],
   "source": [
    "\"\"\"let's make a list of fields we look at\"\"\"\n",
    "fields = [field for field in df_statquant_fillmin.columns if field not in \n",
    "          {\n",
    "              'date', 'tradingitemid', 'companyid', 'companyname', 'exchange', 'exchangeid', 'industry', \n",
    "              'sector', 'symbol', 'symbolstartdate', u'date_next', u'date_historical_12m', u'date_historical_6m', \n",
    "              u'date_historical_3m', u'date_future_1m',u'date_future_3m',u'date_future_6m', u'date_future_12m', \n",
    "              u'date_future_24m', u'date_future_36m', 'f__negative_tev', 'year'\n",
    "          }\n",
    "         ]              "
   ]
  },
  {
   "cell_type": "markdown",
   "metadata": {},
   "source": [
    "### Distribution View"
   ]
  },
  {
   "cell_type": "code",
   "execution_count": 9,
   "metadata": {},
   "outputs": [
    {
     "data": {
      "application/vnd.jupyter.widget-view+json": {
       "model_id": "09abc434fa66441c92e1a5a5f74574af"
      }
     },
     "metadata": {},
     "output_type": "display_data"
    }
   ],
   "source": [
    "def initial_df(_df):\n",
    "    \"\"\"This function takes statquant dataframe, imputes inf and nan and add columns for plot purpose\"\"\"\n",
    "    df = _df.copy()\n",
    "    \"\"\"first step: handle inf\"\"\"\n",
    "    #df.replace([np.inf, -np.inf], np.nan, inplace=True)\n",
    "    \"\"\"second step: fill NaN with the minimum value of each column\"\"\"\n",
    "    #df.fillna(df.min(), inplace=True)\n",
    "    df['year'] = df['date'].dt.year\n",
    "    \n",
    "    return df\n",
    "\n",
    "df_dist = initial_df(df_statquant_fillmin)\n",
    "\n",
    "def plot_distribution(year, sector, field, density):\n",
    "    \"\"\"This function interacts with year, sector, fields to plot distribution\"\"\"\n",
    "    \"\"\"filter by year\"\"\"\n",
    "    df_selected = df_dist.loc[\n",
    "        (df_dist.year == year) & (df_dist.sector == sector), field\n",
    "    ]\n",
    "    \"\"\"create fig\"\"\"\n",
    "    fig, subplots = plt.subplots(ncols=1, nrows=1, figsize=(10, 6))\n",
    "    sns.distplot(df_selected, kde=density, ax=subplots)   \n",
    "    display(d3_display(fig))\n",
    "\n",
    " \n",
    "\"\"\"create the interactive object\"\"\"\n",
    "interact_plot_distribution = interactive(plot_distribution, \n",
    "                                         year = widgets.Dropdown(\n",
    "                                             options=[year for year in df_dist.year.unique()],\n",
    "                                             value=df_dist.year.unique()[0], \n",
    "                                             description='Select year: '),\n",
    "                                         \n",
    "                                         sector = widgets.Dropdown(\n",
    "                                             options=[sector for sector in df_dist.sector.unique()],\n",
    "                                             value=df_dist.sector.unique()[0],\n",
    "                                             description='Select a sector: '),\n",
    "                                         \n",
    "                                         field = widgets.Dropdown(\n",
    "                                             options=fields,\n",
    "                                             value=fields[0],\n",
    "                                             description='Select a field: '),\n",
    "                                         \n",
    "                                         density = widgets.Dropdown(\n",
    "                                             options={'with density': True, 'remove density': False},\n",
    "                                             value=True,\n",
    "                                             description='Want density? '),\n",
    "                  \n",
    "                                        )\n",
    "\n",
    "interact_plot_distribution"
   ]
  },
  {
   "cell_type": "markdown",
   "metadata": {},
   "source": [
    "### Distribution view after standardization"
   ]
  },
  {
   "cell_type": "code",
   "execution_count": 10,
   "metadata": {},
   "outputs": [
    {
     "data": {
      "application/vnd.jupyter.widget-view+json": {
       "model_id": "7f397ffeb5c84de8a3be127446653c59"
      }
     },
     "metadata": {},
     "output_type": "display_data"
    }
   ],
   "source": [
    "from sklearn.preprocessing import StandardScaler\n",
    "stdsc = StandardScaler()\n",
    "\n",
    "def initial_df_standardized(_df):\n",
    "    \"\"\"This function takes statquant dataframe, imputes inf and nan and add columns for plot purpose\"\"\"\n",
    "    df = _df.copy()\n",
    "    df['year'] = df['date'].dt.year\n",
    "    \"\"\"first step: handle inf\"\"\"\n",
    "    #df.replace([np.inf, -np.inf], np.nan, inplace=True)\n",
    "    \"\"\"second step: fill NaN with the minimum value of each column\"\"\"\n",
    "    #df.fillna(df.min(), inplace=True)   \n",
    "    \"\"\"third step: standardize df\"\"\"    \n",
    "    df_filter = df[['year', 'sector']]\n",
    "    df_fields = df[fields]\n",
    "    df_fields = pd.DataFrame(stdsc.fit_transform(df_fields), index = df_fields.index, columns = df_fields.columns)    \n",
    "    \n",
    "    return df_fields.join(df_filter, how='left')\n",
    "\n",
    "df_dist_std = initial_df_standardized(df_statquant_fillmin)\n",
    "\n",
    "def plot_distribution_standardized(year, sector, field, density):\n",
    "    \"\"\"This function interacts with year, sector, fields to plot distribution\"\"\"\n",
    "    \"\"\"filter by year\"\"\"\n",
    "    df_selected = df_dist_std.loc[\n",
    "        (df_dist_std.year == year) & (df_dist_std.sector == sector), field\n",
    "    ]\n",
    "    \"\"\"create fig\"\"\"\n",
    "    fig, subplots = plt.subplots(ncols=1, nrows=1, figsize=(10, 6))\n",
    "    sns.distplot(df_selected, kde=density, ax=subplots)                             \n",
    "    display(d3_display(fig))\n",
    " \n",
    "\"\"\"create the interactive object\"\"\"\n",
    "interact_plot_distribution_standardized = interactive(plot_distribution_standardized, \n",
    "                                                      year = widgets.Dropdown(\n",
    "                                                          options=[year for year in df_dist_std.year.unique()],\n",
    "                                                          value=df_dist_std.year.unique()[0], \n",
    "                                                          description='Select year: '),\n",
    "                                         \n",
    "                                                      sector = widgets.Dropdown(\n",
    "                                                          options=[sector for sector in df_dist_std.sector.unique()],\n",
    "                                                          value=df_dist_std.sector.unique()[0],\n",
    "                                                          description='Select a sector: '),\n",
    "                                         \n",
    "                                                      field = widgets.Dropdown(\n",
    "                                                          options=fields,\n",
    "                                                          value=fields[0],\n",
    "                                                          description='Sort a field: '),\n",
    "                                         \n",
    "                                                      density = widgets.Dropdown(\n",
    "                                                          options={'with density': True, 'remove density': False},\n",
    "                                                          value=True,\n",
    "                                                          description='Want density? ')\n",
    "                                                     )\n",
    "\n",
    "interact_plot_distribution_standardized"
   ]
  },
  {
   "cell_type": "markdown",
   "metadata": {},
   "source": [
    "### Pairplot view"
   ]
  },
  {
   "cell_type": "code",
   "execution_count": 11,
   "metadata": {},
   "outputs": [
    {
     "data": {
      "application/vnd.jupyter.widget-view+json": {
       "model_id": "25404064714c44f79e397ed4182b2a9f"
      }
     },
     "metadata": {},
     "output_type": "display_data"
    },
    {
     "data": {
      "image/png": "[encoded data removed]",
      "text/plain": [
       "<matplotlib.figure.Figure at 0x121a9ce50>"
      ]
     },
     "metadata": {},
     "output_type": "display_data"
    }
   ],
   "source": [
    "def initial_df(_df):\n",
    "    \"\"\"This function takes statquant dataframe, imputes inf and nan and add columns for plot purpose\"\"\"\n",
    "    df = _df.copy()\n",
    "    \"\"\"first step: handle inf\"\"\"\n",
    "    #df.replace([np.inf, -np.inf], np.nan, inplace=True)\n",
    "    \"\"\"second step: fill NaN with the minimum value of each column\"\"\"\n",
    "    #df.fillna(df.min(), inplace=True)\n",
    "    df['year'] = df['date'].dt.year\n",
    "    \n",
    "    return df\n",
    "\n",
    "df_pairplot = initial_df(df_statquant_fillmin)\n",
    "\n",
    "def plot_pairplot(year, sector, field, kind):\n",
    "    \"\"\"This function interacts with year, sector, fields to plot distribution\"\"\"\n",
    "    \"\"\"filter by year\"\"\"\n",
    "    df_selected = df_pairplot.loc[\n",
    "        (df_pairplot.year == year) & (df_pairplot.sector == sector), field\n",
    "    ]\n",
    "    \"\"\"create fig\"\"\"\n",
    "    #fig, subplots = plt.subplots(ncols=1, nrows=1, figsize=(10, 6))\n",
    "    sns.pairplot(df_selected, kind)   \n",
    "    #display(d3_display(fig))\n",
    "\n",
    " \n",
    "\"\"\"create the interactive object\"\"\"\n",
    "# interact_pairplot = interactive(plot_pairplot, \n",
    "#                                          year = widgets.Dropdown(\n",
    "#                                              options=[year for year in df_pairplot.year.unique()],\n",
    "#                                              value=df_pairplot.year.unique()[0], \n",
    "#                                              description='Select year: '),\n",
    "                                         \n",
    "#                                          sector = widgets.Dropdown(\n",
    "#                                              options=[sector for sector in df_pairplot.sector.unique()],\n",
    "#                                              value=df_pairplot.sector.unique()[0],\n",
    "#                                              description='Select a sector: '),\n",
    "                                         \n",
    "#                                          field = widgets.SelectMultiple(\n",
    "#                                              options=fields,\n",
    "#                                              value=[fields[0], fields[1]] ,\n",
    "#                                              description='Select fields: ',\n",
    "#                                              layout=Layout(display=\"flex\", flex_flow='column', height='400px', width='100%')),\n",
    "   \n",
    "#                                          kind = widgets.Dropdown(\n",
    "#                                              options={'yes': 'reg', 'no': None},\n",
    "#                                              value=None,\n",
    "#                                              description='Show linear? ')\n",
    "                  \n",
    "#                                         )\n",
    "\"\"\"plot box\"\"\"\n",
    "year = widgets.Dropdown(\n",
    "    options=[year for year in df_pairplot.year.unique()],\n",
    "    value=df_pairplot.year.unique()[0], \n",
    "    description='Select year: ')\n",
    "\n",
    "sector = widgets.Dropdown(\n",
    "     options=[sector for sector in df_pairplot.sector.unique()],\n",
    "     value=df_pairplot.sector.unique()[0],\n",
    "     description='Select a sector: ')\n",
    "\n",
    "field = widgets.SelectMultiple(\n",
    "    options=fields,\n",
    "    value=[fields[0], fields[1]] ,\n",
    "    description='Select fields: ',\n",
    "    layout=Layout(display=\"flex\", flex_flow='column', height='400px', width='100%'))\n",
    "\n",
    "kind = widgets.Dropdown(\n",
    "    options={'yes': 'reg', 'no': None},\n",
    "    value=None,\n",
    "    description='Show linear? ')\n",
    "\n",
    "\n",
    "\"\"\"create a button for plot\"\"\"\n",
    "make_plot = widgets.Button(description=\"Plot\") \n",
    "\n",
    "\n",
    "def interact_plot(make_plot):\n",
    "    plot_pairplot(year.value, sector.value, field.value, kind.value)\n",
    "    \n",
    "make_plot.on_click(interact_plot)\n",
    "\n",
    "plot_box = widgets.VBox([year, sector, kind, field])\n",
    "\n",
    "button_box = widgets.HBox([plot_box, widgets.Label(\"Click here: \"), make_plot]) \n",
    "\n",
    "display(button_box)"
   ]
  }
 ],
 "metadata": {
  "kernelspec": {
   "display_name": "Python 2",
   "language": "python",
   "name": "python2"
  },
  "language_info": {
   "codemirror_mode": {
    "name": "ipython",
    "version": 2
   },
   "file_extension": ".py",
   "mimetype": "text/x-python",
   "name": "python",
   "nbconvert_exporter": "python",
   "pygments_lexer": "ipython2",
   "version": "2.7.13"
  }
 },
 "nbformat": 4,
 "nbformat_minor": 2
}
