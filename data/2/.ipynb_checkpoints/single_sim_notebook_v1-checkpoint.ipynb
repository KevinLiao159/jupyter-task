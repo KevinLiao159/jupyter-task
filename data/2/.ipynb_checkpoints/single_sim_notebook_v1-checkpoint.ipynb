{
 "cells": [
  {
   "cell_type": "code",
   "execution_count": 1,
   "metadata": {
    "collapsed": true,
    "extensions": {
     "jupyter_dashboards": {
      "version": 1,
      "views": {
       "grid_default": {
        "hidden": true
       },
       "report_default": {
        "hidden": true
       }
      }
     }
    },
    "scrolled": true
   },
   "outputs": [],
   "source": [
    "import pandas as pd\n",
    "import numpy as np\n",
    "import matplotlib.pyplot as plt\n",
    "\n",
    "\n",
    "from ipywidgets import widgets, interactive, interact, Layout, HTML as ipyHTML\n",
    "from IPython.display import display, HTML, clear_output, display_html\n",
    "\n",
    "\n",
    "%matplotlib inline\n",
    "from mpld3._display import display as d3_display\n",
    "\n",
    "df_simulation = pd.read_pickle('simulation.pkl')\n",
    "df_target_portfolio = pd.read_pickle('target_portfolio.pkl')\n",
    "df_orders = pd.read_pickle('orders.pkl')\n",
    "df_transactions = pd.read_pickle('transactions.pkl')\n",
    "df_portfolio = pd.read_pickle('portfolio.pkl')\n",
    "df_metrics = pd.read_pickle('metrics.pkl')"
   ]
  },
  {
   "cell_type": "code",
   "execution_count": 2,
   "metadata": {},
   "outputs": [
    {
     "data": {
      "text/html": [
       "<style>\n",
       ".output_wrapper, .output {\n",
       "    height:auto !important;\n",
       "}\n",
       ".output_scroll {\n",
       "    box-shadow:none !important;\n",
       "    webkit-box-shadow:none !important;\n",
       "}\n",
       ".output_subarea table {\n",
       "    box-shadow: 10px 5px 5px black;\n",
       "    border: 4px solid rgba(0,0,0,0.8);\n",
       "}\n",
       "#.widget-datepicker {\n",
       "    #visibility: hidden;\n",
       "#}\n",
       "</style>"
      ],
      "text/plain": [
       "<IPython.core.display.HTML object>"
      ]
     },
     "metadata": {},
     "output_type": "display_data"
    }
   ],
   "source": [
    "%%html\n",
    "<style>\n",
    ".output_wrapper, .output {\n",
    "    height:auto !important;\n",
    "}\n",
    ".output_scroll {\n",
    "    box-shadow:none !important;\n",
    "    webkit-box-shadow:none !important;\n",
    "}\n",
    ".output_subarea table {\n",
    "    box-shadow: 10px 5px 5px black;\n",
    "    border: 4px solid rgba(0,0,0,0.8);\n",
    "}\n",
    "#.widget-datepicker {\n",
    "    #visibility: hidden;\n",
    "#}\n",
    "</style>"
   ]
  },
  {
   "cell_type": "code",
   "execution_count": 3,
   "metadata": {
    "scrolled": true
   },
   "outputs": [
    {
     "data": {
      "text/html": [
       "<div>\n",
       "<table border=\"1\" class=\"dataframe\">\n",
       "  <thead>\n",
       "    <tr style=\"text-align: right;\">\n",
       "      <th></th>\n",
       "      <th>gross_exposure_max</th>\n",
       "      <th>loss_max_1y</th>\n",
       "      <th>loss_max_2y</th>\n",
       "      <th>loss_max_3y</th>\n",
       "      <th>max_net_exposure</th>\n",
       "      <th>return_12w_bot</th>\n",
       "      <th>return_12w_max</th>\n",
       "      <th>return_12w_mean</th>\n",
       "      <th>return_12w_min</th>\n",
       "      <th>return_12w_std</th>\n",
       "      <th>return_12w_top</th>\n",
       "      <th>return_1w_bot</th>\n",
       "      <th>return_1w_max</th>\n",
       "      <th>return_1w_mean</th>\n",
       "      <th>return_1w_min</th>\n",
       "      <th>return_1w_std</th>\n",
       "      <th>return_1w_top</th>\n",
       "      <th>return_4w_bot</th>\n",
       "      <th>return_4w_max</th>\n",
       "      <th>return_4w_mean</th>\n",
       "      <th>return_4w_min</th>\n",
       "      <th>return_4w_std</th>\n",
       "      <th>return_4w_top</th>\n",
       "      <th>return_52w_bot</th>\n",
       "      <th>return_52w_max</th>\n",
       "      <th>return_52w_mean</th>\n",
       "      <th>return_52w_min</th>\n",
       "      <th>return_52w_std</th>\n",
       "      <th>return_52w_top</th>\n",
       "      <th>batchid</th>\n",
       "      <th>simulationid</th>\n",
       "    </tr>\n",
       "  </thead>\n",
       "  <tbody>\n",
       "    <tr>\n",
       "      <th>0</th>\n",
       "      <td>1.042265</td>\n",
       "      <td>0.210746</td>\n",
       "      <td>0.335471</td>\n",
       "      <td>0.452859</td>\n",
       "      <td>0.680625</td>\n",
       "      <td>-0.075354</td>\n",
       "      <td>0.039675</td>\n",
       "      <td>-0.034463</td>\n",
       "      <td>-0.116196</td>\n",
       "      <td>0.023325</td>\n",
       "      <td>0.006019</td>\n",
       "      <td>-0.011064</td>\n",
       "      <td>0.023641</td>\n",
       "      <td>-0.002926</td>\n",
       "      <td>-0.057657</td>\n",
       "      <td>0.006268</td>\n",
       "      <td>0.005899</td>\n",
       "      <td>-0.031757</td>\n",
       "      <td>0.049844</td>\n",
       "      <td>-0.011674</td>\n",
       "      <td>-0.081091</td>\n",
       "      <td>0.013775</td>\n",
       "      <td>0.008952</td>\n",
       "      <td>-0.184371</td>\n",
       "      <td>-0.004517</td>\n",
       "      <td>-0.139614</td>\n",
       "      <td>-0.210746</td>\n",
       "      <td>0.039013</td>\n",
       "      <td>-0.045254</td>\n",
       "      <td>913352341023274511</td>\n",
       "      <td>2</td>\n",
       "    </tr>\n",
       "  </tbody>\n",
       "</table>\n",
       "</div>"
      ],
      "text/plain": [
       "   gross_exposure_max  loss_max_1y  loss_max_2y  loss_max_3y  \\\n",
       "0            1.042265     0.210746     0.335471     0.452859   \n",
       "\n",
       "   max_net_exposure  return_12w_bot  return_12w_max  return_12w_mean  \\\n",
       "0          0.680625       -0.075354        0.039675        -0.034463   \n",
       "\n",
       "   return_12w_min  return_12w_std  return_12w_top  return_1w_bot  \\\n",
       "0       -0.116196        0.023325        0.006019      -0.011064   \n",
       "\n",
       "   return_1w_max  return_1w_mean  return_1w_min  return_1w_std  return_1w_top  \\\n",
       "0       0.023641       -0.002926      -0.057657       0.006268       0.005899   \n",
       "\n",
       "   return_4w_bot  return_4w_max  return_4w_mean  return_4w_min  return_4w_std  \\\n",
       "0      -0.031757       0.049844       -0.011674      -0.081091       0.013775   \n",
       "\n",
       "   return_4w_top  return_52w_bot  return_52w_max  return_52w_mean  \\\n",
       "0       0.008952       -0.184371       -0.004517        -0.139614   \n",
       "\n",
       "   return_52w_min  return_52w_std  return_52w_top             batchid  \\\n",
       "0       -0.210746        0.039013       -0.045254  913352341023274511   \n",
       "\n",
       "   simulationid  \n",
       "0             2  "
      ]
     },
     "execution_count": 3,
     "metadata": {},
     "output_type": "execute_result"
    }
   ],
   "source": [
    "def metrics_summary(_df_m):\n",
    "    \"\"\"This funtion takes metrics dataframe and returns a new view of relevant feilds sorted by date\"\"\"\n",
    "    df = _df_m.copy()\n",
    "    \"\"\"get the names of columns whose values are constant over time\"\"\"\n",
    "    ls = zip([len(df[col].unique()) for col in df.columns.values], df.columns.values)\n",
    "    cols = [c for c in [ls[x][1] for x in range(len(ls)) if ls[x][0] == 1] if c not in {'name', 'batch'}]\n",
    "    \"\"\"\"\"\"\n",
    "    return df.reset_index().drop('index', axis=1).loc[:, cols].iloc[[0]]\n",
    "\n",
    "\n",
    "\n",
    "def metrics_view(_df_m):\n",
    "    \"\"\"This funtion takes metrics dataframe and returns a new view of relevant feilds sorted by date\"\"\"    \n",
    "    df = _df_m.copy()\n",
    "    \"\"\"fix date type\"\"\"\n",
    "    df.date = df.date.apply(lambda x: x.date()).astype(np.dtype('<M8[ns]'))\n",
    "\n",
    "    \"\"\"cols to display\"\"\"\n",
    "    cols = ['date', 'cash', 'assets', 'liabilities', 'equity', 'long_exposure', 'short_exposure', 'gross_exposure', \n",
    "            'net_exposure', 'positions', 'drawdown_max', 'ratio_calmar', 'ratio_sharpe', 'ratio_sortino',\n",
    "            'return_annualized'] \n",
    "    \n",
    "    return df.reset_index().drop('index', axis=1).loc[:, cols]\n",
    "\n",
    "\n",
    "\n",
    "pd.set_option(\"display.max_columns\", None)\n",
    "\n",
    "metrics_view(_df_m=df_metrics)\n",
    "metrics_summary(df_metrics)\n",
    "\n"
   ]
  },
  {
   "cell_type": "markdown",
   "metadata": {
    "extensions": {
     "jupyter_dashboards": {
      "version": 1,
      "views": {
       "grid_default": {
        "col": 0,
        "height": 3,
        "hidden": false,
        "row": 0,
        "width": 12
       },
       "report_default": {
        "hidden": false
       }
      }
     }
    }
   },
   "source": [
    "Single Simulation Report\n",
    "========="
   ]
  },
  {
   "cell_type": "markdown",
   "metadata": {
    "extensions": {
     "jupyter_dashboards": {
      "version": 1,
      "views": {
       "grid_default": {
        "col": 0,
        "height": 2,
        "hidden": false,
        "row": 3,
        "width": 12
       },
       "report_default": {
        "hidden": false
       }
      }
     }
    }
   },
   "source": [
    "### Target Portfolio View"
   ]
  },
  {
   "cell_type": "code",
   "execution_count": 4,
   "metadata": {
    "extensions": {
     "jupyter_dashboards": {
      "version": 1,
      "views": {
       "grid_default": {
        "hidden": true
       },
       "report_default": {
        "hidden": false
       }
      }
     }
    },
    "scrolled": true
   },
   "outputs": [
    {
     "data": {
      "application/vnd.jupyter.widget-view+json": {
       "model_id": "ee690f8f08314be286890b78ff9bec09"
      }
     },
     "metadata": {},
     "output_type": "display_data"
    },
    {
     "data": {
      "application/vnd.jupyter.widget-view+json": {
       "model_id": "5e88156a5a2f43629ce921ee66499b4b"
      }
     },
     "metadata": {},
     "output_type": "display_data"
    }
   ],
   "source": [
    "\"\"\"This chunk is for displaying df_target_portfolio\"\"\"\n",
    "def target_portfolio_view(_df_tp):\n",
    "    \"\"\"This funtion takes target_portfolio dataframe and returns a new view of relevant feilds sorted by date\"\"\"     \n",
    "    df = _df_tp.copy()\n",
    "    \"\"\"cols to display\"\"\"\n",
    "    cols = ['date', 'tradingitemid', 'companyname', 'symbol', 'exchange', 'score', 'position_type',\n",
    "            'amount', 'price', 'limit_lo', 'limit_hi']    \n",
    "    return df.loc[:, cols]\n",
    "\n",
    "\"\"\"store the df_tp in df_tp_view\"\"\"\n",
    "df_tp_view = target_portfolio_view(df_target_portfolio)\n",
    "\n",
    "def target_portfolio_view_date_select(date, sortby, ascending, filterby, tradingitemid):\n",
    "    \"\"\"This function interacts with datePick and SortBy to display the target_portfolio dataframe\"\"\"\n",
    "    \"\"\"sort first\"\"\"\n",
    "    if not filterby:        \n",
    "        df = df_tp_view.loc[df_tp_view.tradingitemid == tradingitemid, :].sort_values(by=sortby, ascending=ascending)\n",
    "    else:\n",
    "        df = df_tp_view.loc[\n",
    "            df_tp_view.date == date, :\n",
    "        ].loc[df_tp_view.position_type != filterby, :].sort_values(by=sortby, ascending=ascending)   \n",
    "    \"\"\"format\"\"\"    \n",
    "    df['tradingitemid'] = df['tradingitemid'].astype(int)\n",
    "    df['amount'] = df['amount'].map('{:,.2%}'.format)\n",
    "    df['limit_hi'] = df['limit_hi'].map('${:,.2f}'.format) \n",
    "    df['limit_lo'] = df['limit_lo'].map('${:,.2f}'.format)  \n",
    "    df['price'] = df['price'].map('${:,.2f}'.format) \n",
    "    df['score'] = df['score'].map('{:,.2%}'.format)\n",
    "    ##############################                               \n",
    "    display(df)\n",
    " \n",
    "\"\"\"create the interactive object\"\"\"\n",
    "interact_df_tp = interactive(target_portfolio_view_date_select, \n",
    "                             date= widgets.DatePicker(value = df_tp_view.date[0], description='Date'),\n",
    "                                                      #layout=Layout(height='180px')),\n",
    "                             sortby = widgets.Dropdown(options=[col for col in df_tp_view.columns.values],\n",
    "                                                       value=df_tp_view.columns.values[0],\n",
    "                                                       description='Sort by'),\n",
    "                                                       #layout=Layout(height='250px')) \n",
    "                             ascending = widgets.Dropdown(options={\"Ascending\": True, \"Descending\": False},\n",
    "                                                          value=True,\n",
    "                                                          description='Sort order'),\n",
    "                             filterby = widgets.Dropdown(options={\"All\": \"all\", \"Only Long\": \"SHORT_EQUITY\", \n",
    "                                                                  \"Only Short\": \"LONG_EQUITY\", \"tradingitemid\": False},\n",
    "                                                         value=\"all\",\n",
    "                                                         description='Filter by'),\n",
    "                             tradingitemid = widgets.FloatText(description='Filter by tradingitemid ', \n",
    "                                                               value=df_tp_view.tradingitemid[0])\n",
    "                            )\n",
    "\"\"\"button for skip date\"\"\"\n",
    "last_month = widgets.Button(description=\"previous date\") \n",
    "next_month = widgets.Button(description=\"next date\")    \n",
    "\n",
    "df_date_tp = pd.DataFrame({\"date\": df_target_portfolio.date.unique()})\n",
    "\n",
    "def forward(next_month):    \n",
    "    interact_df_tp.children[0].value=df_date_tp.iloc[df_date_tp.index[df_date_tp.date==interact_df_tp.children[0].value] + 1].iloc[0,0]\n",
    "    \n",
    "    \n",
    "def backward(last_month):\n",
    "    interact_df_tp.children[0].value=df_date_tp.iloc[df_date_tp.index[df_date_tp.date==interact_df_tp.children[0].value] - 1].iloc[0,0]\n",
    "\n",
    "next_month.on_click(forward)\n",
    "last_month.on_click(backward)    \n",
    "    \n",
    "\"\"\"box\"\"\"    \n",
    "button_box = widgets.HBox([widgets.Label(\"Click here: \"), last_month, next_month])      \n",
    "\"\"\"main container display\"\"\"\n",
    "display(button_box, interact_df_tp)\n",
    "\n",
    "pd.set_option(\"display.max_rows\", None)"
   ]
  },
  {
   "cell_type": "markdown",
   "metadata": {
    "extensions": {
     "jupyter_dashboards": {
      "version": 1,
      "views": {
       "grid_default": {
        "col": 0,
        "height": 3,
        "hidden": false,
        "row": 32,
        "width": 12
       },
       "report_default": {
        "hidden": false
       }
      }
     }
    }
   },
   "source": [
    "### Portfolio View"
   ]
  },
  {
   "cell_type": "code",
   "execution_count": 5,
   "metadata": {
    "collapsed": true
   },
   "outputs": [],
   "source": [
    "def add_hd_score_amount_to_portfolio(_df_tp, _df_o, _df_t, _df_p):\n",
    "    \"\"\"\n",
    "    This function takes four dataframes and returns a portfolio dataframe with \n",
    "    holding period, date_entered, price_entered, price changed, score, target amount\n",
    "    \"\"\"\n",
    "    df_tp, df_o, df_t, df_p = _df_tp.copy(), _df_o.copy(), _df_t.copy(), _df_p.copy()\n",
    "    def order_join_transaction(df_o, df_t):\n",
    "        \"\"\"This function inner joins two dataframes (orders and transactions)\"\"\"\n",
    "        idx_cols = ['orderid', 'tradingitemid']\n",
    "        df0 = df_o[\n",
    "            [c for c in df_o.columns if c not in {'name', 'batch'}]\n",
    "        ].rename(columns={\n",
    "            'amount': 'target_amount_percent'\n",
    "        }).set_index(idx_cols)\n",
    "    \n",
    "        df1 = df_t[\n",
    "            [c for c in df_t.columns if c not in {'name', 'batch'}]\n",
    "        ].set_index(idx_cols)\n",
    "        return df0.join(df1, how='inner', lsuffix='__order', rsuffix='__transaction').reset_index()\n",
    "    \"\"\"create a join dataframe\"\"\"\n",
    "    df_o_t = order_join_transaction(df_o, df_t)\n",
    "    \n",
    "    \"\"\"fill in date_entered by joining tables and wrangling\"\"\"\n",
    "    df_o_t_status = df_o_t.sort_values(by=['tradingitemid', 'date__transaction'])[\n",
    "        ['tradingitemid', 'date__transaction', 'position_status']\n",
    "    ]\n",
    "    \n",
    "    df_p_status = df_p.sort_values(by=['tradingitemid', 'date'])[['tradingitemid', 'date']]\n",
    "    \n",
    "    df_p_date_entered = df_p_status.merge(df_o_t_status.loc[\n",
    "        df_o_t_status.position_status==\"NEW\", :\n",
    "    ].rename(columns={\"date__transaction\": \"date\"}), how='left', on = [\"date\", \"tradingitemid\"])\n",
    "    \"\"\"adding date_entered\"\"\"\n",
    "    df_p_date_entered.loc[\n",
    "        df_p_date_entered.position_status==\"NEW\", 'date_entered'\n",
    "    ] = df_p_date_entered.loc[df_p_date_entered.position_status==\"NEW\", 'date']\n",
    "    \n",
    "    df_p_date_entered.date_entered = df_p_date_entered.date_entered.fillna(method='ffill')\n",
    "    \"\"\"addding price_entered\"\"\"\n",
    "    df_p_price_entered = df_p_date_entered.merge(df_p[\n",
    "        ['tradingitemid','date','price']\n",
    "    ].rename(columns={'date': 'date_entered'}), how='left', on=[\n",
    "        'tradingitemid', 'date_entered'\n",
    "    ]).rename(columns={'price': 'price_entered'})\n",
    "\n",
    "    df_p_hd = df_p.merge(df_p_price_entered.drop('position_status', axis = 1), how='left', on=['tradingitemid', 'date'])\n",
    "    \"\"\"adding new fields\"\"\"\n",
    "    df_p_hd['holding_period'] = df_p_hd.date - df_p_hd.date_entered\n",
    "    df_p_hd['price_change'] = df_p_hd.price - df_p_hd.price_entered\n",
    "    df_p_hd.loc[df_p_hd.position_type == 'SHORT_EQUITY', 'price_change'] = -1* df_p_hd.loc[df_p_hd.position_type == 'SHORT_EQUITY', 'price_change']\n",
    "    df_p_hd['price_return'] =  df_p_hd.price_change / df_p_hd.price_entered\n",
    "    \n",
    "    \"\"\"\n",
    "    join df_tp to df_p require a trick--need dates in df_o_t\n",
    "    so join df_tp with df_o_t to be able to use the date for linking btw df_tp with df_p\n",
    "    \"\"\"\n",
    "    df_tp_ot_temp = df_tp[\n",
    "        ['date', 'tradingitemid', 'amount', 'position_type', 'portfolioid', 'score']\n",
    "    ].merge(df_o_t[\n",
    "        ['tradingitemid','date__order','date__transaction','portfolioid', 'position_status']\n",
    "    ].rename(columns={\"date__order\": \"date\"}), how='left', on=['tradingitemid','date','portfolioid'])\n",
    "    \n",
    "    \"\"\"only needs score and amount and change column name for merge\"\"\"\n",
    "    df_s_a_temp = df_tp_ot_temp[\n",
    "        ['date__transaction','tradingitemid','score','amount']\n",
    "    ].rename(columns={'date__transaction': 'date', 'amount': 'target_amount'})\n",
    "    \n",
    "    \"\"\"return portfolio with  score and target_amount\"\"\"\n",
    "    df_p_with_s_m_hd = df_p_hd.merge(df_s_a_temp, how='left', on=[\n",
    "        'date','tradingitemid'\n",
    "    ]).sort_values(['tradingitemid', 'date']).fillna(method='ffill')\n",
    "    \n",
    "    return df_p_with_s_m_hd.sort_values(['date'])   "
   ]
  },
  {
   "cell_type": "code",
   "execution_count": 6,
   "metadata": {
    "extensions": {
     "jupyter_dashboards": {
      "version": 1,
      "views": {
       "grid_default": {
        "col": 0,
        "height": 27,
        "hidden": false,
        "row": 5,
        "width": 12
       },
       "report_default": {
        "hidden": true
       }
      }
     }
    },
    "scrolled": true
   },
   "outputs": [
    {
     "data": {
      "application/vnd.jupyter.widget-view+json": {
       "model_id": "a0ee6d6637e649949cfa1da871268652"
      }
     },
     "metadata": {},
     "output_type": "display_data"
    },
    {
     "data": {
      "application/vnd.jupyter.widget-view+json": {
       "model_id": "278c149e491b47c78774c9f5e6e82cf9"
      }
     },
     "metadata": {},
     "output_type": "display_data"
    }
   ],
   "source": [
    "\"\"\"This chunk is for displaying df_portfolio\"\"\"\n",
    "df_p=add_hd_score_amount_to_portfolio(df_target_portfolio, df_orders, df_transactions, df_portfolio)\n",
    "\n",
    "def join_cash_to_portfolio(df_p, df_m):\n",
    "    \"\"\"This function join cash column from df_metrics to df_portfolio\"\"\"\n",
    "    return df_p.assign(date=lambda x: x.date).merge(\n",
    "        df_m.assign(date=lambda x: x.date.dt.tz_localize(None)),\n",
    "        on='date',\n",
    "        how='left'\n",
    "    )[['date', 'tradingitemid', 'position_type', 'price', 'shares', 'companyname', 'symbol', 'exchange',\n",
    "       'score', 'target_amount', 'date_entered','holding_period', 'price_entered', 'price_change', 'price_return', \n",
    "       'cash']]\n",
    "\n",
    "df_p_with_cash = join_cash_to_portfolio(df_p, df_metrics)\n",
    "\n",
    "def portfolio_view(_df_p):\n",
    "    \"\"\"This funtion takes the portfolio_with_cash dataframe and returns a new view of relevant feilds sorted by date\"\"\"\n",
    "    df = _df_p.copy()    \n",
    "    \"\"\"\n",
    "    create new cols: value,  total_value, percent_of_net, percent_of_total, \n",
    "    and new dataframes: df_net_exposure, df_total_value \n",
    "    \"\"\"\n",
    "    df['value'] = (df.price * df.shares)\n",
    "    df_net_exposure = df.groupby(by=['date'])[['value']].sum().rename(columns={'value': 'net_exposure'}).reset_index()\n",
    "    df = pd.merge(df, df_net_exposure, on='date', how='outer')    \n",
    "    df['total_value'] = (df.cash + df.net_exposure)\n",
    "    df['percent_of_net'] = (df.value / df.net_exposure)\n",
    "    df['percent_of_total'] = (df.value / df.total_value)\n",
    "    df_total_value = df[['date','total_value']].groupby(by=['date']).mean().reset_index()  \n",
    "    \n",
    "    df_net_exposure['net_exposure'] = df_net_exposure['net_exposure'].map('${:,.2f}'.format)\n",
    "    df_total_value['total_value'] = df_total_value['total_value'].map('${:,.2f}'.format) \n",
    "    \"\"\"add LONG/SHORT\"\"\"\n",
    "    df.loc[df.shares > 0, 'status'] = 'LONG'\n",
    "    df.loc[df.shares < 0, 'status'] = 'SHORT'\n",
    "    \n",
    "    \"\"\"select cols\"\"\"\n",
    "    cols = ['date', 'tradingitemid', 'companyname', 'symbol', 'exchange', 'status', 'price', 'shares', \n",
    "            'value', 'percent_of_net', 'percent_of_total', 'target_amount', 'score',\n",
    "            'date_entered', 'price_entered', 'holding_period', 'price_change', 'price_return']\n",
    "    \n",
    "    return df.loc[:, cols], df_net_exposure, df_total_value\n",
    "\n",
    "df_p_view, df_net_exposure, df_total_value = portfolio_view(df_p_with_cash)    \n",
    "\n",
    "\n",
    "def portfolio_view_date_select(date, sortby, ascending, filterby, tradingitemid):\n",
    "    \"\"\"This function interacts with datePick and SortBy to display the target_portfolio dataframe\"\"\"\n",
    "    \"\"\"sort first\"\"\"\n",
    "    if not filterby:        \n",
    "        df = df_p_view.loc[df_p_view.tradingitemid == tradingitemid, :].sort_values(by=sortby, ascending=ascending)\n",
    "    else:\n",
    "        df = df_p_view.loc[\n",
    "            df_p_view.date == date, :\n",
    "        ].loc[df_p_view.status != filterby, :].sort_values(by=sortby, ascending=ascending)       \n",
    "\n",
    "    \"\"\"format\"\"\"   \n",
    "    df.date = df.date.apply(lambda x: x.date())\n",
    "    df.date_entered = df.date_entered.apply(lambda x: x.date())\n",
    "    df.holding_period = df.holding_period.apply(lambda x: str(x).split(\"00\")[0])\n",
    "    df['score'] = df['score'].map('{:,.2%}'.format)\n",
    "    df['target_amount'] = df['target_amount'].map('{:,.2%}'.format)\n",
    "    df['price_entered'] = df['price_entered'].map('${:,.2f}'.format) \n",
    "    \n",
    "    df['shares'] = df['shares'].astype(int).map('{:,.0f}'.format)\n",
    "    df['price'] = df['price'].map('${:,.2f}'.format) \n",
    "    df['value'] = df['value'].map('${:,.2f}'.format) \n",
    "    df['percent_of_net'] = df['percent_of_net'].map('{:,.2%}'.format)\n",
    "    df['percent_of_total'] = df['percent_of_total'].map('{:,.2%}'.format)\n",
    "    df['price_change'] = df['price_change'].map('${:,.2f}'.format) \n",
    "    df['price_return'] = df['price_return'].map('{:,.2%}'.format)\n",
    "    #df['total_value'] = df['total_value'].map('${:,.2f}'.format)   \n",
    "    \"\"\"temperarily display value -- need to think a better way\"\"\"   \n",
    "    to_print = \"net exposure: \" + df_net_exposure.loc[df_net_exposure.date == date].iloc[0,1] + \"   \" + \"total value: \" + df_total_value.loc[df_total_value.date == date].iloc[0,1]\n",
    "    #df_print = pd.DataFrame({\"a\": [to_print]}).to_html()\n",
    "    \"\"\"styling\"\"\"\n",
    "    print(to_print) \n",
    "    display(df.style.set_caption('   '))\n",
    "    \n",
    "\n",
    "\"\"\"create the interactive object\"\"\" \n",
    "interact_df_p = interactive(portfolio_view_date_select, \n",
    "                            date=widgets.DatePicker(value = df_p_view.date[0], description='Date'),\n",
    "                                                    #layout=Layout(height='200px')), \n",
    "                            sortby = widgets.Dropdown(options=[col for col in df_p_view.columns.values], \n",
    "                                                      value=df_p_view.columns.values[0], \n",
    "                                                      description='Sort by'),\n",
    "                                                      #layout=Layout(height='300px'))\n",
    "                            ascending = widgets.Dropdown(options={\"Ascending\": True, \"Descending\": False},\n",
    "                                                         value=True,\n",
    "                                                         description='Sort order'),\n",
    "                            filterby = widgets.Dropdown(options={\"All\": \"all\", \"Only Long\": \"SHORT\", \n",
    "                                                                  \"Only Short\": \"LONG\", \"tradingitemid\": False},\n",
    "                                                        value=\"all\",\n",
    "                                                        description='Filter by'),\n",
    "                            tradingitemid = widgets.FloatText(description='Filter by tradingitemid ', \n",
    "                                                              value=df_p_view.tradingitemid[0])                            \n",
    "                           )\n",
    "\n",
    "\"\"\"button for skip date\"\"\"\n",
    "last_week = widgets.Button(description=\"previous date\") \n",
    "next_week = widgets.Button(description=\"next date\")    \n",
    "\n",
    "df_date_t = pd.DataFrame({\"date\": df_portfolio.date.unique()})\n",
    "\n",
    "def forward(next_week):\n",
    "    interact_df_p.children[0].value=df_date_t.iloc[df_date_t.index[df_date_t.date==interact_df_p.children[0].value] + 1].iloc[0,0]\n",
    "    \n",
    "def backward(last_week):\n",
    "    interact_df_p.children[0].value=df_date_t.iloc[df_date_t.index[df_date_t.date==interact_df_p.children[0].value] - 1].iloc[0,0]\n",
    "\n",
    "next_week.on_click(forward)\n",
    "last_week.on_click(backward)  \n",
    "\n",
    "button_box = widgets.HBox([widgets.Label(\"Click here: \"), last_week, next_week])    \n",
    "\n",
    "\"\"\"main container display\"\"\"\n",
    "display(button_box, interact_df_p)\n",
    "\n",
    "pd.set_option(\"display.max_rows\", None)"
   ]
  },
  {
   "cell_type": "markdown",
   "metadata": {
    "extensions": {
     "jupyter_dashboards": {
      "version": 1,
      "views": {
       "grid_default": {},
       "report_default": {
        "hidden": false
       }
      }
     }
    }
   },
   "source": [
    "Simulation Plot\n",
    "========="
   ]
  },
  {
   "cell_type": "markdown",
   "metadata": {
    "extensions": {
     "jupyter_dashboards": {
      "version": 1,
      "views": {
       "grid_default": {},
       "report_default": {
        "hidden": false
       }
      }
     }
    }
   },
   "source": [
    "### Score vs Time Plot"
   ]
  },
  {
   "cell_type": "code",
   "execution_count": 7,
   "metadata": {
    "collapsed": true,
    "extensions": {
     "jupyter_dashboards": {
      "version": 1,
      "views": {
       "grid_default": {},
       "report_default": {
        "hidden": true
       }
      }
     }
    }
   },
   "outputs": [],
   "source": [
    "def prepare_score_time_series(df_tp):\n",
    "    \"\"\"\n",
    "    This function will take a df_target_portfolio and \n",
    "    return two dataframes of score vs date, one for long, the other for short\n",
    "    \"\"\"   \n",
    "    df_long = df_tp.loc[df_tp.position_type == \"LONG_EQUITY\", [\"date\", \"score\"]].sort_values(by='date')\n",
    "    df_long_max_score = df_long.groupby(by=['date']).max().rename(columns={\"score\": \"max_score\"})\n",
    "    df_long_median_score = df_long.groupby(by=['date']).median().rename(columns={\"score\": \"median_score\"})\n",
    "    df_long_min_score = df_long.groupby(by=['date']).min().rename(columns={\"score\": \"min_score\"})\n",
    "    df_long_sts = df_long_min_score.join(df_long_median_score).join(df_long_max_score)\n",
    "  \n",
    "    df_short = df_tp.loc[df_tp.position_type == \"SHORT_EQUITY\", [\"date\", \"score\"]].sort_values(by='date')\n",
    "    df_short_max_score = df_short.groupby(by=['date']).max().rename(columns={\"score\": \"max_score\"})\n",
    "    df_short_median_score = df_short.groupby(by=['date']).median().rename(columns={\"score\": \"median_score\"})\n",
    "    df_short_min_score = df_short.groupby(by=['date']).min().rename(columns={\"score\": \"min_score\"})\n",
    "    df_short_sts = df_short_min_score.join(df_short_median_score).join(df_short_max_score)    \n",
    "\n",
    "    return df_long_sts, df_short_sts\n",
    "\n",
    "df_long_sts, df_short_sts = prepare_score_time_series(df_target_portfolio)"
   ]
  },
  {
   "cell_type": "code",
   "execution_count": 8,
   "metadata": {
    "extensions": {
     "jupyter_dashboards": {
      "version": 1,
      "views": {
       "grid_default": {},
       "report_default": {
        "hidden": false
       }
      }
     }
    }
   },
   "outputs": [
    {
     "data": {
      "text/html": [
       "\n",
       "\n",
       "<style>\n",
       "\n",
       "</style>\n",
       "\n",
       "<div id=\"fig_el310845539504166615009945\"></div>\n",
       "<script>\n",
       "function mpld3_load_lib(url, callback){\n",
       "  var s = document.createElement('script');\n",
       "  s.src = url;\n",
       "  s.async = true;\n",
       "  s.onreadystatechange = s.onload = callback;\n",
       "  s.onerror = function(){console.warn(\"failed to load library \" + url);};\n",
       "  document.getElementsByTagName(\"head\")[0].appendChild(s);\n",
       "}\n",
       "\n",
       "if(typeof(mpld3) !== \"undefined\" && mpld3._mpld3IsLoaded){\n",
       "   // already loaded: just create the figure\n",
       "   !function(mpld3){\n",
       "       \n",
       "       mpld3.draw_figure(\"fig_el310845539504166615009945\", {\"axes\": [{\"xlim\": [732490.6, 736679.4], \"yscale\": \"linear\", \"axesbg\": \"#FFFFFF\", \"texts\": [{\"v_baseline\": \"hanging\", \"h_anchor\": \"middle\", \"color\": \"#000000\", \"text\": \"Time Line\", \"coordinates\": \"axes\", \"zorder\": 3, \"alpha\": 1, \"fontsize\": 15.0, \"position\": [0.49999999999999994, -0.07322175732217584], \"rotation\": -0.0, \"id\": \"el31084751909264\"}, {\"v_baseline\": \"auto\", \"h_anchor\": \"middle\", \"color\": \"#000000\", \"text\": \"Score\", \"coordinates\": \"axes\", \"zorder\": 3, \"alpha\": 1, \"fontsize\": 15.0, \"position\": [-0.042218778659751426, 0.5], \"rotation\": -90.0, \"id\": \"el31084752002064\"}, {\"v_baseline\": \"auto\", \"h_anchor\": \"middle\", \"color\": \"#000000\", \"text\": \"LONG BUY: score vs time\", \"coordinates\": \"axes\", \"zorder\": 3, \"alpha\": 1, \"fontsize\": 20.0, \"position\": [0.49999999999999994, 1.0209205020920502], \"rotation\": -0.0, \"id\": \"el31084773610640\"}], \"zoomable\": true, \"images\": [], \"xdomain\": [[2006, 5, 28, 14, 24, 0, 0.0], [2017, 11, 16, 9, 36, 0, 0.0]], \"ylim\": [0.5815753400325775, 0.8513900578022003], \"paths\": [], \"sharey\": [], \"sharex\": [], \"axesbgalpha\": null, \"axes\": [{\"scale\": \"linear\", \"tickformat\": null, \"grid\": {\"color\": \"#D3D3D3\", \"alpha\": 0.7, \"dasharray\": \"none\", \"gridOn\": true}, \"visible\": true, \"fontsize\": 10.0, \"position\": \"bottom\", \"nticks\": 6, \"tickvalues\": null}, {\"scale\": \"linear\", \"tickformat\": null, \"grid\": {\"color\": \"#D3D3D3\", \"alpha\": 0.7, \"dasharray\": \"none\", \"gridOn\": true}, \"visible\": true, \"fontsize\": 10.0, \"position\": \"left\", \"nticks\": 8, \"tickvalues\": null}], \"lines\": [{\"drawstyle\": \"default\", \"color\": \"#1F77B4\", \"yindex\": 1, \"coordinates\": \"data\", \"dasharray\": \"none\", \"zorder\": 2, \"alpha\": 1, \"xindex\": 0, \"linewidth\": 1.5, \"data\": \"data01\", \"id\": \"el31084726745488\"}, {\"drawstyle\": \"default\", \"color\": \"#FF7F0E\", \"yindex\": 2, \"coordinates\": \"data\", \"dasharray\": \"none\", \"zorder\": 2, \"alpha\": 1, \"xindex\": 0, \"linewidth\": 1.5, \"data\": \"data01\", \"id\": \"el31084720916112\"}, {\"drawstyle\": \"default\", \"color\": \"#2CA02C\", \"yindex\": 3, \"coordinates\": \"data\", \"dasharray\": \"none\", \"zorder\": 2, \"alpha\": 1, \"xindex\": 0, \"linewidth\": 1.5, \"data\": \"data01\", \"id\": \"el31084720916496\"}], \"markers\": [], \"id\": \"el31084751763536\", \"ydomain\": [0.5815753400325775, 0.8513900578022003], \"collections\": [], \"xscale\": \"date\", \"bbox\": [0.06848958333333334, 0.5574999999999999, 0.9149594907407408, 0.39833333333333343]}, {\"xlim\": [732490.6, 736679.4], \"yscale\": \"linear\", \"axesbg\": \"#FFFFFF\", \"texts\": [{\"v_baseline\": \"hanging\", \"h_anchor\": \"middle\", \"color\": \"#000000\", \"text\": \"Time Line\", \"coordinates\": \"axes\", \"zorder\": 3, \"alpha\": 1, \"fontsize\": 15.0, \"position\": [0.49999999999999994, -0.07322175732217573], \"rotation\": -0.0, \"id\": \"el31084725691792\"}, {\"v_baseline\": \"auto\", \"h_anchor\": \"middle\", \"color\": \"#000000\", \"text\": \"Score\", \"coordinates\": \"axes\", \"zorder\": 3, \"alpha\": 1, \"fontsize\": 15.0, \"position\": [-0.03415451756743936, 0.5], \"rotation\": -90.0, \"id\": \"el31084725797968\"}, {\"v_baseline\": \"auto\", \"h_anchor\": \"middle\", \"color\": \"#000000\", \"text\": \"SHORT SELL: score vs time\", \"coordinates\": \"axes\", \"zorder\": 3, \"alpha\": 1, \"fontsize\": 20.0, \"position\": [0.49999999999999994, 1.0209205020920502], \"rotation\": -0.0, \"id\": \"el31084721420816\"}], \"zoomable\": true, \"images\": [], \"xdomain\": [[2006, 5, 28, 14, 24, 0, 0.0], [2017, 11, 16, 9, 36, 0, 0.0]], \"ylim\": [0.4978043258190155, 0.9986159384250641], \"paths\": [], \"sharey\": [], \"sharex\": [], \"axesbgalpha\": null, \"axes\": [{\"scale\": \"linear\", \"tickformat\": null, \"grid\": {\"color\": \"#D3D3D3\", \"alpha\": 0.7, \"dasharray\": \"none\", \"gridOn\": true}, \"visible\": true, \"fontsize\": 10.0, \"position\": \"bottom\", \"nticks\": 6, \"tickvalues\": null}, {\"scale\": \"linear\", \"tickformat\": null, \"grid\": {\"color\": \"#D3D3D3\", \"alpha\": 0.7, \"dasharray\": \"none\", \"gridOn\": true}, \"visible\": true, \"fontsize\": 10.0, \"position\": \"left\", \"nticks\": 7, \"tickvalues\": null}], \"lines\": [{\"drawstyle\": \"default\", \"color\": \"#1F77B4\", \"yindex\": 4, \"coordinates\": \"data\", \"dasharray\": \"none\", \"zorder\": 2, \"alpha\": 1, \"xindex\": 0, \"linewidth\": 1.5, \"data\": \"data01\", \"id\": \"el31084721360016\"}, {\"drawstyle\": \"default\", \"color\": \"#FF7F0E\", \"yindex\": 5, \"coordinates\": \"data\", \"dasharray\": \"none\", \"zorder\": 2, \"alpha\": 1, \"xindex\": 0, \"linewidth\": 1.5, \"data\": \"data01\", \"id\": \"el31084725693968\"}, {\"drawstyle\": \"default\", \"color\": \"#2CA02C\", \"yindex\": 6, \"coordinates\": \"data\", \"dasharray\": \"none\", \"zorder\": 2, \"alpha\": 1, \"xindex\": 0, \"linewidth\": 1.5, \"data\": \"data01\", \"id\": \"el31084725693328\"}], \"markers\": [], \"id\": \"el31084725593552\", \"ydomain\": [0.4978043258190155, 0.9986159384250641], \"collections\": [], \"xscale\": \"date\", \"bbox\": [0.06848958333333334, 0.06499999999999984, 0.9149594907407408, 0.39833333333333343]}], \"height\": 720.0, \"width\": 864.0, \"plugins\": [{\"type\": \"reset\"}, {\"enabled\": false, \"button\": true, \"type\": \"zoom\"}, {\"enabled\": false, \"button\": true, \"type\": \"boxzoom\"}], \"data\": {\"data01\": [[732681.0, 0.713436484336853, 0.7309778928756714, 0.820862889289856, 0.7491977214813232, 0.8136807680130005, 0.9165987372398376], [732709.0, 0.6622775197029114, 0.7275950908660889, 0.7940688729286194, 0.6823346018791199, 0.8117141723632812, 0.9165619611740112], [732737.0, 0.6597810983657837, 0.7269667983055115, 0.8002645373344421, 0.6949123740196228, 0.8121342658996582, 0.904912531375885], [732765.0, 0.6601282954216003, 0.7290099859237671, 0.8015827536582947, 0.68520188331604, 0.8094369173049927, 0.9104328751564026], [732793.0, 0.6491002440452576, 0.7197351455688477, 0.7923904657363892, 0.6916465163230896, 0.8096568584442139, 0.9109789133071899], [732821.0, 0.6343467831611633, 0.7153071761131287, 0.8133428692817688, 0.6901605129241943, 0.8103151321411133, 0.9061159491539001], [732849.0, 0.6268396377563477, 0.7110117673873901, 0.7981686592102051, 0.6880340576171875, 0.7994461059570312, 0.9053915143013], [732877.0, 0.6248247623443604, 0.710502028465271, 0.7997320890426636, 0.7003641724586487, 0.8070008754730225, 0.9108291268348694], [732905.0, 0.6431615352630615, 0.713897705078125, 0.8173727989196777, 0.6619446873664856, 0.8041051626205444, 0.9355422854423523], [732933.0, 0.645195722579956, 0.7285569310188293, 0.8188142776489258, 0.681446373462677, 0.803856372833252, 0.9486517310142517], [732961.0, 0.636495053768158, 0.7100010514259338, 0.8044306635856628, 0.6815977096557617, 0.8106803894042969, 0.9211299419403076], [732989.0, 0.6533440351486206, 0.7261049747467041, 0.8327649235725403, 0.6765880584716797, 0.8063832521438599, 0.9099534153938293], [733017.0, 0.6520641446113586, 0.718710720539093, 0.8084774613380432, 0.6619579792022705, 0.8094204664230347, 0.9000197052955627], [733045.0, 0.657996654510498, 0.7366470098495483, 0.8236832022666931, 0.6845629215240479, 0.7921174764633179, 0.8889620900154114], [733073.0, 0.6728015542030334, 0.7363385558128357, 0.8232748508453369, 0.6674827337265015, 0.798755407333374, 0.9663191437721252], [733101.0, 0.6719823479652405, 0.7423692941665649, 0.82932049036026, 0.6526756286621094, 0.793405294418335, 0.9663814902305603], [733129.0, 0.6678348779678345, 0.7390753626823425, 0.8286342024803162, 0.6465153694152832, 0.800324022769928, 0.9642695784568787], [733157.0, 0.6657320857048035, 0.7272053360939026, 0.8245849013328552, 0.6574039459228516, 0.7893168926239014, 0.9660824537277222], [733185.0, 0.6646444201469421, 0.7479225397109985, 0.8203662633895874, 0.65533447265625, 0.7972233295440674, 0.9661986827850342], [733213.0, 0.6614859104156494, 0.7485034465789795, 0.8168267607688904, 0.6706400513648987, 0.7993360757827759, 0.9653931856155396], [733241.0, 0.6641640663146973, 0.7511316537857056, 0.8303695321083069, 0.6535605192184448, 0.782844066619873, 0.9653931856155396], [733269.0, 0.6572926640510559, 0.7283831834793091, 0.8365569710731506, 0.6512237787246704, 0.7870568037033081, 0.8971490263938904], [733297.0, 0.6704400181770325, 0.7367602586746216, 0.836491048336029, 0.6314884424209595, 0.7586847543716431, 0.9139045476913452], [733325.0, 0.6695114374160767, 0.7421383857727051, 0.8345299959182739, 0.6135482788085938, 0.735129714012146, 0.9140577912330627], [733353.0, 0.6716184020042419, 0.7428815364837646, 0.8159852623939514, 0.6067894697189331, 0.7313269972801208, 0.9156512022018433], [733381.0, 0.6730920672416687, 0.7387492656707764, 0.8160240054130554, 0.57334303855896, 0.707419753074646, 0.9160690903663635], [733409.0, 0.6358363032341003, 0.6830908060073853, 0.8205785751342773, 0.5814358592033386, 0.7114760875701904, 0.9120914340019226], [733437.0, 0.6403597593307495, 0.6990413665771484, 0.8160560727119446, 0.5589820742607117, 0.7067053914070129, 0.9086281657218933], [733465.0, 0.6474102735519409, 0.7158445119857788, 0.8017289042472839, 0.5483077764511108, 0.6779787540435791, 0.9088577032089233], [733493.0, 0.6381255984306335, 0.6970552206039429, 0.8017240166664124, 0.5531536936759949, 0.6828000545501709, 0.9034629464149475], [733521.0, 0.6394955515861511, 0.6975706219673157, 0.800032377243042, 0.5637320876121521, 0.6970596313476562, 0.9137673377990723], [733549.0, 0.6358133554458618, 0.6954637765884399, 0.8391257524490356, 0.5595683455467224, 0.7054044604301453, 0.9128909111022949], [733577.0, 0.6329728960990906, 0.6900694370269775, 0.8140183687210083, 0.5725666284561157, 0.7058425545692444, 0.9128886461257935], [733605.0, 0.6272115111351013, 0.6867473125457764, 0.8160183429718018, 0.5680696368217468, 0.7127578258514404, 0.9459031224250793], [733633.0, 0.6254070997238159, 0.6753815412521362, 0.8097314238548279, 0.5788134336471558, 0.7344034910202026, 0.9373226761817932], [733661.0, 0.6161327362060547, 0.6770322918891907, 0.7917356491088867, 0.591282844543457, 0.7532732486724854, 0.9355116486549377], [733689.0, 0.609151303768158, 0.6745279431343079, 0.7831782102584839, 0.6028810739517212, 0.7620547413825989, 0.9472676515579224], [733717.0, 0.6152757406234741, 0.6692759990692139, 0.7944284677505493, 0.5958223342895508, 0.7548757195472717, 0.9474620819091797], [733745.0, 0.6088935732841492, 0.6732628345489502, 0.7912640571594238, 0.5950404405593872, 0.7404593229293823, 0.9424636960029602], [733773.0, 0.6032465100288391, 0.6488310098648071, 0.7581078410148621, 0.5930144190788269, 0.7477239966392517, 0.9486013054847717], [733801.0, 0.602249264717102, 0.6483553051948547, 0.767513632774353, 0.594857394695282, 0.7533878087997437, 0.9490852355957031], [733829.0, 0.6089558601379395, 0.6578798294067383, 0.7844239473342896, 0.6022021174430847, 0.7551318407058716, 0.9391205310821533], [733857.0, 0.6085723638534546, 0.6604658365249634, 0.7610344290733337, 0.6112375259399414, 0.7647348642349243, 0.9305521249771118], [733885.0, 0.5938396453857422, 0.6480445265769958, 0.7364275455474854, 0.6332883834838867, 0.7859694957733154, 0.9117292165756226], [733913.0, 0.6180075407028198, 0.6536514759063721, 0.7505851984024048, 0.614734411239624, 0.7761667966842651, 0.901174008846283], [733941.0, 0.6149625778198242, 0.6539186239242554, 0.7616695165634155, 0.612797200679779, 0.765250563621521, 0.8868969082832336], [733969.0, 0.6184470057487488, 0.656108558177948, 0.7584031820297241, 0.5966965556144714, 0.7568418979644775, 0.9225118160247803], [733997.0, 0.6260812282562256, 0.6658002138137817, 0.779889702796936, 0.6037731766700745, 0.7566169500350952, 0.8849102258682251], [734025.0, 0.611688494682312, 0.6601211428642273, 0.7673689723014832, 0.5972732901573181, 0.7555298805236816, 0.9071609973907471], [734053.0, 0.611402690410614, 0.6513969898223877, 0.7376359701156616, 0.6066760420799255, 0.7537198066711426, 0.9010202884674072], [734081.0, 0.6087819933891296, 0.6538469195365906, 0.7249106168746948, 0.6178994178771973, 0.7820625305175781, 0.8997769355773926], [734109.0, 0.619904100894928, 0.6580989956855774, 0.7252942323684692, 0.6196004748344421, 0.7734264135360718, 0.8949405550956726], [734137.0, 0.6212649941444397, 0.6784253120422363, 0.7558590173721313, 0.6414413452148438, 0.7909656763076782, 0.9165785908699036], [734165.0, 0.6187357306480408, 0.673911452293396, 0.7611392736434937, 0.6458409428596497, 0.7913227081298828, 0.9190093278884888], [734193.0, 0.6144437789916992, 0.6670670509338379, 0.7739881277084351, 0.6279429197311401, 0.7885499000549316, 0.9138758778572083], [734221.0, 0.6165772676467896, 0.6769043803215027, 0.7909035682678223, 0.6323986649513245, 0.7960204482078552, 0.9307631254196167], [734249.0, 0.6169928908348083, 0.6737534999847412, 0.7923775315284729, 0.6266326904296875, 0.7891708612442017, 0.933584988117218], [734277.0, 0.6233440041542053, 0.6735532283782959, 0.8031689524650574, 0.6237386465072632, 0.8025194406509399, 0.9497082829475403], [734305.0, 0.6215847134590149, 0.6765798330307007, 0.8015909790992737, 0.6288917660713196, 0.77732914686203, 0.9141883850097656], [734333.0, 0.6273810863494873, 0.6790080666542053, 0.8045627474784851, 0.6344916820526123, 0.7923920154571533, 0.9758517742156982], [734361.0, 0.6456477046012878, 0.69157874584198, 0.8279619812965393, 0.620960533618927, 0.767062246799469, 0.9756625294685364], [734389.0, 0.6465004086494446, 0.6905133128166199, 0.7823570370674133, 0.6047016978263855, 0.7675623297691345, 0.9695730209350586], [734417.0, 0.6432190537452698, 0.689090371131897, 0.7958193421363831, 0.5878257751464844, 0.7404444217681885, 0.922131359577179], [734445.0, 0.6352235078811646, 0.6799041032791138, 0.7878365516662598, 0.6047178506851196, 0.7493222951889038, 0.9224270582199097], [734473.0, 0.6382497549057007, 0.6788438558578491, 0.7974903583526611, 0.6066641211509705, 0.7565116882324219, 0.9602515697479248], [734501.0, 0.6248630881309509, 0.6881766319274902, 0.7694182991981506, 0.5895350575447083, 0.7305607199668884, 0.9714446663856506], [734529.0, 0.6228519082069397, 0.6826593279838562, 0.7712019681930542, 0.6054565906524658, 0.7379274368286133, 0.9603406190872192], [734557.0, 0.6215747594833374, 0.6708283424377441, 0.7814908027648926, 0.5924803018569946, 0.7333332300186157, 0.9606550335884094], [734585.0, 0.6200872659683228, 0.6729741096496582, 0.7835748791694641, 0.5949323177337646, 0.7356637716293335, 0.9600817561149597], [734613.0, 0.6220807433128357, 0.6691262722015381, 0.7798601984977722, 0.590337872505188, 0.7365861535072327, 0.9180583953857422], [734641.0, 0.6294244527816772, 0.6922241449356079, 0.788969874382019, 0.5855042934417725, 0.7344024181365967, 0.9123777151107788], [734669.0, 0.630215048789978, 0.6927433013916016, 0.789700984954834, 0.5760906934738159, 0.7182791233062744, 0.9177478551864624], [734697.0, 0.6323474049568176, 0.6855747103691101, 0.773460328578949, 0.5821229219436646, 0.7129907608032227, 0.9236493706703186], [734725.0, 0.6279131770133972, 0.683660626411438, 0.7701174020767212, 0.5611864328384399, 0.7024489045143127, 0.9244742393493652], [734753.0, 0.6250289678573608, 0.6809177398681641, 0.7596555352210999, 0.5650230050086975, 0.693907618522644, 0.9194077253341675], [734781.0, 0.6224251985549927, 0.681702733039856, 0.7634758353233337, 0.5655717253684998, 0.695507287979126, 0.886612594127655], [734809.0, 0.6354710459709167, 0.6854244470596313, 0.7677621245384216, 0.5540257096290588, 0.6815410852432251, 0.8772700428962708], [734837.0, 0.6361333727836609, 0.6930180191993713, 0.765774130821228, 0.5791088938713074, 0.6850101351737976, 0.9656285047531128], [734865.0, 0.6330443024635315, 0.681968629360199, 0.8152024149894714, 0.5668652653694153, 0.679358720779419, 0.8892082571983337], [734893.0, 0.6200402975082397, 0.6650345325469971, 0.8189874291419983, 0.5645244717597961, 0.6871193647384644, 0.913370668888092], [734921.0, 0.6118146181106567, 0.662555992603302, 0.8274881839752197, 0.5563046932220459, 0.6888566613197327, 0.9144547581672668], [734949.0, 0.6118177175521851, 0.6625967621803284, 0.8312172293663025, 0.564864456653595, 0.6945118308067322, 0.9140556454658508], [734977.0, 0.6131240129470825, 0.666240930557251, 0.7775181531906128, 0.5665338039398193, 0.6977192759513855, 0.9228285551071167], [735005.0, 0.6065552830696106, 0.6595690250396729, 0.7730956673622131, 0.5818889141082764, 0.7024267911911011, 0.92317134141922], [735033.0, 0.6062400937080383, 0.6627343893051147, 0.7753146886825562, 0.5744107961654663, 0.7057031393051147, 0.9385450482368469], [735061.0, 0.6069268584251404, 0.6572323441505432, 0.7718253135681152, 0.5685467720031738, 0.6889386177062988, 0.9342600703239441], [735089.0, 0.6044393181800842, 0.6626943945884705, 0.7708698511123657, 0.5699913501739502, 0.6899524331092834, 0.9367142915725708], [735117.0, 0.6079294085502625, 0.6640380620956421, 0.7888041138648987, 0.5713004469871521, 0.7000957727432251, 0.912936806678772], [735145.0, 0.5984221696853638, 0.6583365797996521, 0.7680824398994446, 0.5811834931373596, 0.707574725151062, 0.9376875758171082], [735173.0, 0.6028616428375244, 0.6693319082260132, 0.7709760069847107, 0.5840239524841309, 0.7088254690170288, 0.9385272860527039], [735201.0, 0.6009076237678528, 0.6626051664352417, 0.7705618739128113, 0.5859326720237732, 0.7178375720977783, 0.939605176448822], [735229.0, 0.6117851734161377, 0.673764705657959, 0.7861739993095398, 0.5798605680465698, 0.7174025774002075, 0.9520019888877869], [735257.0, 0.616580605506897, 0.6901686191558838, 0.796302318572998, 0.5858888030052185, 0.7218172550201416, 0.9520019888877869], [735285.0, 0.6209372282028198, 0.6892090439796448, 0.8117996454238892, 0.5856224298477173, 0.7115709781646729, 0.9467296600341797], [735313.0, 0.6200587153434753, 0.6905524730682373, 0.7999943494796753, 0.5864934325218201, 0.7273759841918945, 0.9485625624656677], [735341.0, 0.62955641746521, 0.6983387470245361, 0.7999943494796753, 0.5681573152542114, 0.6987424492835999, 0.9446923136711121], [735369.0, 0.6320457458496094, 0.6960179209709167, 0.8101528286933899, 0.5598698258399963, 0.6926556825637817, 0.9152357578277588], [735397.0, 0.6273943781852722, 0.689801812171936, 0.8052897453308105, 0.5795521140098572, 0.7160289883613586, 0.9142183065414429], [735425.0, 0.6240490674972534, 0.6856540441513062, 0.7990847826004028, 0.5878892540931702, 0.71445232629776, 0.9176182746887207], [735453.0, 0.6200369596481323, 0.6940295696258545, 0.8114142417907715, 0.5792218446731567, 0.7214322090148926, 0.9178193211555481], [735481.0, 0.6247720718383789, 0.6920516490936279, 0.8092407584190369, 0.5833062529563904, 0.7183321714401245, 0.9136148691177368], [735509.0, 0.630734920501709, 0.6978156566619873, 0.8116540908813477, 0.5749111771583557, 0.696806788444519, 0.9101963639259338], [735537.0, 0.6382259130477905, 0.6925373077392578, 0.8082465529441833, 0.5585743188858032, 0.6887823343276978, 0.88522869348526], [735565.0, 0.6383795738220215, 0.6871713399887085, 0.7796083092689514, 0.5573697090148926, 0.6723365783691406, 0.8966894149780273], [735593.0, 0.6372197270393372, 0.7040207386016846, 0.7964584231376648, 0.5483980774879456, 0.6612755060195923, 0.8854265213012695], [735621.0, 0.6447587609291077, 0.6983132362365723, 0.8231761455535889, 0.5514374375343323, 0.6676328778266907, 0.8864094614982605], [735649.0, 0.6247050166130066, 0.6908323168754578, 0.8047901391983032, 0.5567264556884766, 0.6681491136550903, 0.8883345127105713], [735677.0, 0.6276878714561462, 0.6933172941207886, 0.8260404467582703, 0.5561580657958984, 0.6717349290847778, 0.8912314176559448], [735705.0, 0.6310114860534668, 0.6918067932128906, 0.8246893286705017, 0.5589911937713623, 0.6760327816009521, 0.8908457159996033], [735733.0, 0.6333353519439697, 0.6977916955947876, 0.8177825808525085, 0.564864993095398, 0.6837320327758789, 0.8753435015678406], [735761.0, 0.634473443031311, 0.7067480087280273, 0.8177244067192078, 0.5598769783973694, 0.6778182983398438, 0.8760731816291809], [735789.0, 0.633755624294281, 0.7071410417556763, 0.8170881271362305, 0.5537611246109009, 0.6722915172576904, 0.8834487199783325], [735817.0, 0.6345121264457703, 0.7027864456176758, 0.812638521194458, 0.548352062702179, 0.6634523868560791, 0.8794425129890442], [735845.0, 0.6449162364006042, 0.7012612819671631, 0.8144291639328003, 0.5405636429786682, 0.6607378125190735, 0.8633281588554382], [735873.0, 0.635049045085907, 0.7066104412078857, 0.8163522481918335, 0.5447918772697449, 0.6497799158096313, 0.8787199854850769], [735901.0, 0.6344481706619263, 0.7047584056854248, 0.8119057416915894, 0.5521289110183716, 0.6594884395599365, 0.8836178183555603], [735929.0, 0.6315509080886841, 0.7019952535629272, 0.7784652709960938, 0.5340705513954163, 0.6445568799972534, 0.8779107928276062], [735957.0, 0.6381266117095947, 0.7002037763595581, 0.7883478403091431, 0.5327350497245789, 0.6472232341766357, 0.8769954442977905], [735985.0, 0.6521746516227722, 0.7120072841644287, 0.792866587638855, 0.5259664058685303, 0.637427806854248, 0.8814032673835754], [736013.0, 0.637733519077301, 0.7053277492523193, 0.7886750102043152, 0.5205684900283813, 0.6227267384529114, 0.8818287253379822], [736041.0, 0.6390770673751831, 0.7063347101211548, 0.7851536273956299, 0.5290969610214233, 0.6185780763626099, 0.8924355506896973], [736069.0, 0.636505126953125, 0.705539345741272, 0.7922479510307312, 0.5253643989562988, 0.62001633644104, 0.9158748984336853], [736097.0, 0.6397504806518555, 0.7116974592208862, 0.7880628705024719, 0.5221458077430725, 0.6170616149902344, 0.9168526530265808], [736125.0, 0.6292140483856201, 0.7063777446746826, 0.7863807678222656, 0.5217198729515076, 0.6226564645767212, 0.9005622267723083], [736153.0, 0.6304605603218079, 0.70075523853302, 0.7801568508148193, 0.5212576389312744, 0.6238411664962769, 0.8944772481918335], [736181.0, 0.6301687955856323, 0.702997088432312, 0.7730444669723511, 0.523894727230072, 0.6296103596687317, 0.893037736415863], [736209.0, 0.6266521215438843, 0.7017050385475159, 0.7752877473831177, 0.5258670449256897, 0.6384320855140686, 0.8763594031333923], [736237.0, 0.6269943118095398, 0.7072854042053223, 0.7775073051452637, 0.5375336408615112, 0.6325888633728027, 0.8774166107177734], [736265.0, 0.6276581883430481, 0.7085551023483276, 0.7812725305557251, 0.5229532122612, 0.6303097605705261, 0.8760524988174438], [736293.0, 0.6321355104446411, 0.7017338275909424, 0.7793287038803101, 0.5225886106491089, 0.6296824216842651, 0.8838909268379211], [736321.0, 0.6312488913536072, 0.720360279083252, 0.8307766914367676, 0.52665776014328, 0.6453857421875, 0.8835793137550354], [736349.0, 0.6313353776931763, 0.7250449657440186, 0.82798832654953, 0.5354916453361511, 0.6488028168678284, 0.8869575262069702], [736377.0, 0.6253939270973206, 0.7107360363006592, 0.8311101794242859, 0.5264574289321899, 0.6452364325523376, 0.8839539289474487], [736405.0, 0.6313157081604004, 0.7083861827850342, 0.8296288847923279, 0.5206312537193298, 0.6356512308120728, 0.8849526643753052], [736433.0, 0.6311463117599487, 0.7070661783218384, 0.8281104564666748, 0.5295222997665405, 0.6525066494941711, 0.898115873336792], [736461.0, 0.6290004253387451, 0.698302686214447, 0.8280549049377441, 0.531019389629364, 0.6531904935836792, 0.8926308751106262], [736489.0, 0.6294403672218323, 0.6924669146537781, 0.8281104564666748, 0.5286121368408203, 0.6454324126243591, 0.8726027607917786]]}, \"id\": \"el31084553950416\"});\n",
       "   }(mpld3);\n",
       "}else if(typeof define === \"function\" && define.amd){\n",
       "   // require.js is available: use it to load d3/mpld3\n",
       "   require.config({paths: {d3: \"https://mpld3.github.io/js/d3.v3.min\"}});\n",
       "   require([\"d3\"], function(d3){\n",
       "      window.d3 = d3;\n",
       "      mpld3_load_lib(\"https://mpld3.github.io/js/mpld3.v0.3.js\", function(){\n",
       "         \n",
       "         mpld3.draw_figure(\"fig_el310845539504166615009945\", {\"axes\": [{\"xlim\": [732490.6, 736679.4], \"yscale\": \"linear\", \"axesbg\": \"#FFFFFF\", \"texts\": [{\"v_baseline\": \"hanging\", \"h_anchor\": \"middle\", \"color\": \"#000000\", \"text\": \"Time Line\", \"coordinates\": \"axes\", \"zorder\": 3, \"alpha\": 1, \"fontsize\": 15.0, \"position\": [0.49999999999999994, -0.07322175732217584], \"rotation\": -0.0, \"id\": \"el31084751909264\"}, {\"v_baseline\": \"auto\", \"h_anchor\": \"middle\", \"color\": \"#000000\", \"text\": \"Score\", \"coordinates\": \"axes\", \"zorder\": 3, \"alpha\": 1, \"fontsize\": 15.0, \"position\": [-0.042218778659751426, 0.5], \"rotation\": -90.0, \"id\": \"el31084752002064\"}, {\"v_baseline\": \"auto\", \"h_anchor\": \"middle\", \"color\": \"#000000\", \"text\": \"LONG BUY: score vs time\", \"coordinates\": \"axes\", \"zorder\": 3, \"alpha\": 1, \"fontsize\": 20.0, \"position\": [0.49999999999999994, 1.0209205020920502], \"rotation\": -0.0, \"id\": \"el31084773610640\"}], \"zoomable\": true, \"images\": [], \"xdomain\": [[2006, 5, 28, 14, 24, 0, 0.0], [2017, 11, 16, 9, 36, 0, 0.0]], \"ylim\": [0.5815753400325775, 0.8513900578022003], \"paths\": [], \"sharey\": [], \"sharex\": [], \"axesbgalpha\": null, \"axes\": [{\"scale\": \"linear\", \"tickformat\": null, \"grid\": {\"color\": \"#D3D3D3\", \"alpha\": 0.7, \"dasharray\": \"none\", \"gridOn\": true}, \"visible\": true, \"fontsize\": 10.0, \"position\": \"bottom\", \"nticks\": 6, \"tickvalues\": null}, {\"scale\": \"linear\", \"tickformat\": null, \"grid\": {\"color\": \"#D3D3D3\", \"alpha\": 0.7, \"dasharray\": \"none\", \"gridOn\": true}, \"visible\": true, \"fontsize\": 10.0, \"position\": \"left\", \"nticks\": 8, \"tickvalues\": null}], \"lines\": [{\"drawstyle\": \"default\", \"color\": \"#1F77B4\", \"yindex\": 1, \"coordinates\": \"data\", \"dasharray\": \"none\", \"zorder\": 2, \"alpha\": 1, \"xindex\": 0, \"linewidth\": 1.5, \"data\": \"data01\", \"id\": \"el31084726745488\"}, {\"drawstyle\": \"default\", \"color\": \"#FF7F0E\", \"yindex\": 2, \"coordinates\": \"data\", \"dasharray\": \"none\", \"zorder\": 2, \"alpha\": 1, \"xindex\": 0, \"linewidth\": 1.5, \"data\": \"data01\", \"id\": \"el31084720916112\"}, {\"drawstyle\": \"default\", \"color\": \"#2CA02C\", \"yindex\": 3, \"coordinates\": \"data\", \"dasharray\": \"none\", \"zorder\": 2, \"alpha\": 1, \"xindex\": 0, \"linewidth\": 1.5, \"data\": \"data01\", \"id\": \"el31084720916496\"}], \"markers\": [], \"id\": \"el31084751763536\", \"ydomain\": [0.5815753400325775, 0.8513900578022003], \"collections\": [], \"xscale\": \"date\", \"bbox\": [0.06848958333333334, 0.5574999999999999, 0.9149594907407408, 0.39833333333333343]}, {\"xlim\": [732490.6, 736679.4], \"yscale\": \"linear\", \"axesbg\": \"#FFFFFF\", \"texts\": [{\"v_baseline\": \"hanging\", \"h_anchor\": \"middle\", \"color\": \"#000000\", \"text\": \"Time Line\", \"coordinates\": \"axes\", \"zorder\": 3, \"alpha\": 1, \"fontsize\": 15.0, \"position\": [0.49999999999999994, -0.07322175732217573], \"rotation\": -0.0, \"id\": \"el31084725691792\"}, {\"v_baseline\": \"auto\", \"h_anchor\": \"middle\", \"color\": \"#000000\", \"text\": \"Score\", \"coordinates\": \"axes\", \"zorder\": 3, \"alpha\": 1, \"fontsize\": 15.0, \"position\": [-0.03415451756743936, 0.5], \"rotation\": -90.0, \"id\": \"el31084725797968\"}, {\"v_baseline\": \"auto\", \"h_anchor\": \"middle\", \"color\": \"#000000\", \"text\": \"SHORT SELL: score vs time\", \"coordinates\": \"axes\", \"zorder\": 3, \"alpha\": 1, \"fontsize\": 20.0, \"position\": [0.49999999999999994, 1.0209205020920502], \"rotation\": -0.0, \"id\": \"el31084721420816\"}], \"zoomable\": true, \"images\": [], \"xdomain\": [[2006, 5, 28, 14, 24, 0, 0.0], [2017, 11, 16, 9, 36, 0, 0.0]], \"ylim\": [0.4978043258190155, 0.9986159384250641], \"paths\": [], \"sharey\": [], \"sharex\": [], \"axesbgalpha\": null, \"axes\": [{\"scale\": \"linear\", \"tickformat\": null, \"grid\": {\"color\": \"#D3D3D3\", \"alpha\": 0.7, \"dasharray\": \"none\", \"gridOn\": true}, \"visible\": true, \"fontsize\": 10.0, \"position\": \"bottom\", \"nticks\": 6, \"tickvalues\": null}, {\"scale\": \"linear\", \"tickformat\": null, \"grid\": {\"color\": \"#D3D3D3\", \"alpha\": 0.7, \"dasharray\": \"none\", \"gridOn\": true}, \"visible\": true, \"fontsize\": 10.0, \"position\": \"left\", \"nticks\": 7, \"tickvalues\": null}], \"lines\": [{\"drawstyle\": \"default\", \"color\": \"#1F77B4\", \"yindex\": 4, \"coordinates\": \"data\", \"dasharray\": \"none\", \"zorder\": 2, \"alpha\": 1, \"xindex\": 0, \"linewidth\": 1.5, \"data\": \"data01\", \"id\": \"el31084721360016\"}, {\"drawstyle\": \"default\", \"color\": \"#FF7F0E\", \"yindex\": 5, \"coordinates\": \"data\", \"dasharray\": \"none\", \"zorder\": 2, \"alpha\": 1, \"xindex\": 0, \"linewidth\": 1.5, \"data\": \"data01\", \"id\": \"el31084725693968\"}, {\"drawstyle\": \"default\", \"color\": \"#2CA02C\", \"yindex\": 6, \"coordinates\": \"data\", \"dasharray\": \"none\", \"zorder\": 2, \"alpha\": 1, \"xindex\": 0, \"linewidth\": 1.5, \"data\": \"data01\", \"id\": \"el31084725693328\"}], \"markers\": [], \"id\": \"el31084725593552\", \"ydomain\": [0.4978043258190155, 0.9986159384250641], \"collections\": [], \"xscale\": \"date\", \"bbox\": [0.06848958333333334, 0.06499999999999984, 0.9149594907407408, 0.39833333333333343]}], \"height\": 720.0, \"width\": 864.0, \"plugins\": [{\"type\": \"reset\"}, {\"enabled\": false, \"button\": true, \"type\": \"zoom\"}, {\"enabled\": false, \"button\": true, \"type\": \"boxzoom\"}], \"data\": {\"data01\": [[732681.0, 0.713436484336853, 0.7309778928756714, 0.820862889289856, 0.7491977214813232, 0.8136807680130005, 0.9165987372398376], [732709.0, 0.6622775197029114, 0.7275950908660889, 0.7940688729286194, 0.6823346018791199, 0.8117141723632812, 0.9165619611740112], [732737.0, 0.6597810983657837, 0.7269667983055115, 0.8002645373344421, 0.6949123740196228, 0.8121342658996582, 0.904912531375885], [732765.0, 0.6601282954216003, 0.7290099859237671, 0.8015827536582947, 0.68520188331604, 0.8094369173049927, 0.9104328751564026], [732793.0, 0.6491002440452576, 0.7197351455688477, 0.7923904657363892, 0.6916465163230896, 0.8096568584442139, 0.9109789133071899], [732821.0, 0.6343467831611633, 0.7153071761131287, 0.8133428692817688, 0.6901605129241943, 0.8103151321411133, 0.9061159491539001], [732849.0, 0.6268396377563477, 0.7110117673873901, 0.7981686592102051, 0.6880340576171875, 0.7994461059570312, 0.9053915143013], [732877.0, 0.6248247623443604, 0.710502028465271, 0.7997320890426636, 0.7003641724586487, 0.8070008754730225, 0.9108291268348694], [732905.0, 0.6431615352630615, 0.713897705078125, 0.8173727989196777, 0.6619446873664856, 0.8041051626205444, 0.9355422854423523], [732933.0, 0.645195722579956, 0.7285569310188293, 0.8188142776489258, 0.681446373462677, 0.803856372833252, 0.9486517310142517], [732961.0, 0.636495053768158, 0.7100010514259338, 0.8044306635856628, 0.6815977096557617, 0.8106803894042969, 0.9211299419403076], [732989.0, 0.6533440351486206, 0.7261049747467041, 0.8327649235725403, 0.6765880584716797, 0.8063832521438599, 0.9099534153938293], [733017.0, 0.6520641446113586, 0.718710720539093, 0.8084774613380432, 0.6619579792022705, 0.8094204664230347, 0.9000197052955627], [733045.0, 0.657996654510498, 0.7366470098495483, 0.8236832022666931, 0.6845629215240479, 0.7921174764633179, 0.8889620900154114], [733073.0, 0.6728015542030334, 0.7363385558128357, 0.8232748508453369, 0.6674827337265015, 0.798755407333374, 0.9663191437721252], [733101.0, 0.6719823479652405, 0.7423692941665649, 0.82932049036026, 0.6526756286621094, 0.793405294418335, 0.9663814902305603], [733129.0, 0.6678348779678345, 0.7390753626823425, 0.8286342024803162, 0.6465153694152832, 0.800324022769928, 0.9642695784568787], [733157.0, 0.6657320857048035, 0.7272053360939026, 0.8245849013328552, 0.6574039459228516, 0.7893168926239014, 0.9660824537277222], [733185.0, 0.6646444201469421, 0.7479225397109985, 0.8203662633895874, 0.65533447265625, 0.7972233295440674, 0.9661986827850342], [733213.0, 0.6614859104156494, 0.7485034465789795, 0.8168267607688904, 0.6706400513648987, 0.7993360757827759, 0.9653931856155396], [733241.0, 0.6641640663146973, 0.7511316537857056, 0.8303695321083069, 0.6535605192184448, 0.782844066619873, 0.9653931856155396], [733269.0, 0.6572926640510559, 0.7283831834793091, 0.8365569710731506, 0.6512237787246704, 0.7870568037033081, 0.8971490263938904], [733297.0, 0.6704400181770325, 0.7367602586746216, 0.836491048336029, 0.6314884424209595, 0.7586847543716431, 0.9139045476913452], [733325.0, 0.6695114374160767, 0.7421383857727051, 0.8345299959182739, 0.6135482788085938, 0.735129714012146, 0.9140577912330627], [733353.0, 0.6716184020042419, 0.7428815364837646, 0.8159852623939514, 0.6067894697189331, 0.7313269972801208, 0.9156512022018433], [733381.0, 0.6730920672416687, 0.7387492656707764, 0.8160240054130554, 0.57334303855896, 0.707419753074646, 0.9160690903663635], [733409.0, 0.6358363032341003, 0.6830908060073853, 0.8205785751342773, 0.5814358592033386, 0.7114760875701904, 0.9120914340019226], [733437.0, 0.6403597593307495, 0.6990413665771484, 0.8160560727119446, 0.5589820742607117, 0.7067053914070129, 0.9086281657218933], [733465.0, 0.6474102735519409, 0.7158445119857788, 0.8017289042472839, 0.5483077764511108, 0.6779787540435791, 0.9088577032089233], [733493.0, 0.6381255984306335, 0.6970552206039429, 0.8017240166664124, 0.5531536936759949, 0.6828000545501709, 0.9034629464149475], [733521.0, 0.6394955515861511, 0.6975706219673157, 0.800032377243042, 0.5637320876121521, 0.6970596313476562, 0.9137673377990723], [733549.0, 0.6358133554458618, 0.6954637765884399, 0.8391257524490356, 0.5595683455467224, 0.7054044604301453, 0.9128909111022949], [733577.0, 0.6329728960990906, 0.6900694370269775, 0.8140183687210083, 0.5725666284561157, 0.7058425545692444, 0.9128886461257935], [733605.0, 0.6272115111351013, 0.6867473125457764, 0.8160183429718018, 0.5680696368217468, 0.7127578258514404, 0.9459031224250793], [733633.0, 0.6254070997238159, 0.6753815412521362, 0.8097314238548279, 0.5788134336471558, 0.7344034910202026, 0.9373226761817932], [733661.0, 0.6161327362060547, 0.6770322918891907, 0.7917356491088867, 0.591282844543457, 0.7532732486724854, 0.9355116486549377], [733689.0, 0.609151303768158, 0.6745279431343079, 0.7831782102584839, 0.6028810739517212, 0.7620547413825989, 0.9472676515579224], [733717.0, 0.6152757406234741, 0.6692759990692139, 0.7944284677505493, 0.5958223342895508, 0.7548757195472717, 0.9474620819091797], [733745.0, 0.6088935732841492, 0.6732628345489502, 0.7912640571594238, 0.5950404405593872, 0.7404593229293823, 0.9424636960029602], [733773.0, 0.6032465100288391, 0.6488310098648071, 0.7581078410148621, 0.5930144190788269, 0.7477239966392517, 0.9486013054847717], [733801.0, 0.602249264717102, 0.6483553051948547, 0.767513632774353, 0.594857394695282, 0.7533878087997437, 0.9490852355957031], [733829.0, 0.6089558601379395, 0.6578798294067383, 0.7844239473342896, 0.6022021174430847, 0.7551318407058716, 0.9391205310821533], [733857.0, 0.6085723638534546, 0.6604658365249634, 0.7610344290733337, 0.6112375259399414, 0.7647348642349243, 0.9305521249771118], [733885.0, 0.5938396453857422, 0.6480445265769958, 0.7364275455474854, 0.6332883834838867, 0.7859694957733154, 0.9117292165756226], [733913.0, 0.6180075407028198, 0.6536514759063721, 0.7505851984024048, 0.614734411239624, 0.7761667966842651, 0.901174008846283], [733941.0, 0.6149625778198242, 0.6539186239242554, 0.7616695165634155, 0.612797200679779, 0.765250563621521, 0.8868969082832336], [733969.0, 0.6184470057487488, 0.656108558177948, 0.7584031820297241, 0.5966965556144714, 0.7568418979644775, 0.9225118160247803], [733997.0, 0.6260812282562256, 0.6658002138137817, 0.779889702796936, 0.6037731766700745, 0.7566169500350952, 0.8849102258682251], [734025.0, 0.611688494682312, 0.6601211428642273, 0.7673689723014832, 0.5972732901573181, 0.7555298805236816, 0.9071609973907471], [734053.0, 0.611402690410614, 0.6513969898223877, 0.7376359701156616, 0.6066760420799255, 0.7537198066711426, 0.9010202884674072], [734081.0, 0.6087819933891296, 0.6538469195365906, 0.7249106168746948, 0.6178994178771973, 0.7820625305175781, 0.8997769355773926], [734109.0, 0.619904100894928, 0.6580989956855774, 0.7252942323684692, 0.6196004748344421, 0.7734264135360718, 0.8949405550956726], [734137.0, 0.6212649941444397, 0.6784253120422363, 0.7558590173721313, 0.6414413452148438, 0.7909656763076782, 0.9165785908699036], [734165.0, 0.6187357306480408, 0.673911452293396, 0.7611392736434937, 0.6458409428596497, 0.7913227081298828, 0.9190093278884888], [734193.0, 0.6144437789916992, 0.6670670509338379, 0.7739881277084351, 0.6279429197311401, 0.7885499000549316, 0.9138758778572083], [734221.0, 0.6165772676467896, 0.6769043803215027, 0.7909035682678223, 0.6323986649513245, 0.7960204482078552, 0.9307631254196167], [734249.0, 0.6169928908348083, 0.6737534999847412, 0.7923775315284729, 0.6266326904296875, 0.7891708612442017, 0.933584988117218], [734277.0, 0.6233440041542053, 0.6735532283782959, 0.8031689524650574, 0.6237386465072632, 0.8025194406509399, 0.9497082829475403], [734305.0, 0.6215847134590149, 0.6765798330307007, 0.8015909790992737, 0.6288917660713196, 0.77732914686203, 0.9141883850097656], [734333.0, 0.6273810863494873, 0.6790080666542053, 0.8045627474784851, 0.6344916820526123, 0.7923920154571533, 0.9758517742156982], [734361.0, 0.6456477046012878, 0.69157874584198, 0.8279619812965393, 0.620960533618927, 0.767062246799469, 0.9756625294685364], [734389.0, 0.6465004086494446, 0.6905133128166199, 0.7823570370674133, 0.6047016978263855, 0.7675623297691345, 0.9695730209350586], [734417.0, 0.6432190537452698, 0.689090371131897, 0.7958193421363831, 0.5878257751464844, 0.7404444217681885, 0.922131359577179], [734445.0, 0.6352235078811646, 0.6799041032791138, 0.7878365516662598, 0.6047178506851196, 0.7493222951889038, 0.9224270582199097], [734473.0, 0.6382497549057007, 0.6788438558578491, 0.7974903583526611, 0.6066641211509705, 0.7565116882324219, 0.9602515697479248], [734501.0, 0.6248630881309509, 0.6881766319274902, 0.7694182991981506, 0.5895350575447083, 0.7305607199668884, 0.9714446663856506], [734529.0, 0.6228519082069397, 0.6826593279838562, 0.7712019681930542, 0.6054565906524658, 0.7379274368286133, 0.9603406190872192], [734557.0, 0.6215747594833374, 0.6708283424377441, 0.7814908027648926, 0.5924803018569946, 0.7333332300186157, 0.9606550335884094], [734585.0, 0.6200872659683228, 0.6729741096496582, 0.7835748791694641, 0.5949323177337646, 0.7356637716293335, 0.9600817561149597], [734613.0, 0.6220807433128357, 0.6691262722015381, 0.7798601984977722, 0.590337872505188, 0.7365861535072327, 0.9180583953857422], [734641.0, 0.6294244527816772, 0.6922241449356079, 0.788969874382019, 0.5855042934417725, 0.7344024181365967, 0.9123777151107788], [734669.0, 0.630215048789978, 0.6927433013916016, 0.789700984954834, 0.5760906934738159, 0.7182791233062744, 0.9177478551864624], [734697.0, 0.6323474049568176, 0.6855747103691101, 0.773460328578949, 0.5821229219436646, 0.7129907608032227, 0.9236493706703186], [734725.0, 0.6279131770133972, 0.683660626411438, 0.7701174020767212, 0.5611864328384399, 0.7024489045143127, 0.9244742393493652], [734753.0, 0.6250289678573608, 0.6809177398681641, 0.7596555352210999, 0.5650230050086975, 0.693907618522644, 0.9194077253341675], [734781.0, 0.6224251985549927, 0.681702733039856, 0.7634758353233337, 0.5655717253684998, 0.695507287979126, 0.886612594127655], [734809.0, 0.6354710459709167, 0.6854244470596313, 0.7677621245384216, 0.5540257096290588, 0.6815410852432251, 0.8772700428962708], [734837.0, 0.6361333727836609, 0.6930180191993713, 0.765774130821228, 0.5791088938713074, 0.6850101351737976, 0.9656285047531128], [734865.0, 0.6330443024635315, 0.681968629360199, 0.8152024149894714, 0.5668652653694153, 0.679358720779419, 0.8892082571983337], [734893.0, 0.6200402975082397, 0.6650345325469971, 0.8189874291419983, 0.5645244717597961, 0.6871193647384644, 0.913370668888092], [734921.0, 0.6118146181106567, 0.662555992603302, 0.8274881839752197, 0.5563046932220459, 0.6888566613197327, 0.9144547581672668], [734949.0, 0.6118177175521851, 0.6625967621803284, 0.8312172293663025, 0.564864456653595, 0.6945118308067322, 0.9140556454658508], [734977.0, 0.6131240129470825, 0.666240930557251, 0.7775181531906128, 0.5665338039398193, 0.6977192759513855, 0.9228285551071167], [735005.0, 0.6065552830696106, 0.6595690250396729, 0.7730956673622131, 0.5818889141082764, 0.7024267911911011, 0.92317134141922], [735033.0, 0.6062400937080383, 0.6627343893051147, 0.7753146886825562, 0.5744107961654663, 0.7057031393051147, 0.9385450482368469], [735061.0, 0.6069268584251404, 0.6572323441505432, 0.7718253135681152, 0.5685467720031738, 0.6889386177062988, 0.9342600703239441], [735089.0, 0.6044393181800842, 0.6626943945884705, 0.7708698511123657, 0.5699913501739502, 0.6899524331092834, 0.9367142915725708], [735117.0, 0.6079294085502625, 0.6640380620956421, 0.7888041138648987, 0.5713004469871521, 0.7000957727432251, 0.912936806678772], [735145.0, 0.5984221696853638, 0.6583365797996521, 0.7680824398994446, 0.5811834931373596, 0.707574725151062, 0.9376875758171082], [735173.0, 0.6028616428375244, 0.6693319082260132, 0.7709760069847107, 0.5840239524841309, 0.7088254690170288, 0.9385272860527039], [735201.0, 0.6009076237678528, 0.6626051664352417, 0.7705618739128113, 0.5859326720237732, 0.7178375720977783, 0.939605176448822], [735229.0, 0.6117851734161377, 0.673764705657959, 0.7861739993095398, 0.5798605680465698, 0.7174025774002075, 0.9520019888877869], [735257.0, 0.616580605506897, 0.6901686191558838, 0.796302318572998, 0.5858888030052185, 0.7218172550201416, 0.9520019888877869], [735285.0, 0.6209372282028198, 0.6892090439796448, 0.8117996454238892, 0.5856224298477173, 0.7115709781646729, 0.9467296600341797], [735313.0, 0.6200587153434753, 0.6905524730682373, 0.7999943494796753, 0.5864934325218201, 0.7273759841918945, 0.9485625624656677], [735341.0, 0.62955641746521, 0.6983387470245361, 0.7999943494796753, 0.5681573152542114, 0.6987424492835999, 0.9446923136711121], [735369.0, 0.6320457458496094, 0.6960179209709167, 0.8101528286933899, 0.5598698258399963, 0.6926556825637817, 0.9152357578277588], [735397.0, 0.6273943781852722, 0.689801812171936, 0.8052897453308105, 0.5795521140098572, 0.7160289883613586, 0.9142183065414429], [735425.0, 0.6240490674972534, 0.6856540441513062, 0.7990847826004028, 0.5878892540931702, 0.71445232629776, 0.9176182746887207], [735453.0, 0.6200369596481323, 0.6940295696258545, 0.8114142417907715, 0.5792218446731567, 0.7214322090148926, 0.9178193211555481], [735481.0, 0.6247720718383789, 0.6920516490936279, 0.8092407584190369, 0.5833062529563904, 0.7183321714401245, 0.9136148691177368], [735509.0, 0.630734920501709, 0.6978156566619873, 0.8116540908813477, 0.5749111771583557, 0.696806788444519, 0.9101963639259338], [735537.0, 0.6382259130477905, 0.6925373077392578, 0.8082465529441833, 0.5585743188858032, 0.6887823343276978, 0.88522869348526], [735565.0, 0.6383795738220215, 0.6871713399887085, 0.7796083092689514, 0.5573697090148926, 0.6723365783691406, 0.8966894149780273], [735593.0, 0.6372197270393372, 0.7040207386016846, 0.7964584231376648, 0.5483980774879456, 0.6612755060195923, 0.8854265213012695], [735621.0, 0.6447587609291077, 0.6983132362365723, 0.8231761455535889, 0.5514374375343323, 0.6676328778266907, 0.8864094614982605], [735649.0, 0.6247050166130066, 0.6908323168754578, 0.8047901391983032, 0.5567264556884766, 0.6681491136550903, 0.8883345127105713], [735677.0, 0.6276878714561462, 0.6933172941207886, 0.8260404467582703, 0.5561580657958984, 0.6717349290847778, 0.8912314176559448], [735705.0, 0.6310114860534668, 0.6918067932128906, 0.8246893286705017, 0.5589911937713623, 0.6760327816009521, 0.8908457159996033], [735733.0, 0.6333353519439697, 0.6977916955947876, 0.8177825808525085, 0.564864993095398, 0.6837320327758789, 0.8753435015678406], [735761.0, 0.634473443031311, 0.7067480087280273, 0.8177244067192078, 0.5598769783973694, 0.6778182983398438, 0.8760731816291809], [735789.0, 0.633755624294281, 0.7071410417556763, 0.8170881271362305, 0.5537611246109009, 0.6722915172576904, 0.8834487199783325], [735817.0, 0.6345121264457703, 0.7027864456176758, 0.812638521194458, 0.548352062702179, 0.6634523868560791, 0.8794425129890442], [735845.0, 0.6449162364006042, 0.7012612819671631, 0.8144291639328003, 0.5405636429786682, 0.6607378125190735, 0.8633281588554382], [735873.0, 0.635049045085907, 0.7066104412078857, 0.8163522481918335, 0.5447918772697449, 0.6497799158096313, 0.8787199854850769], [735901.0, 0.6344481706619263, 0.7047584056854248, 0.8119057416915894, 0.5521289110183716, 0.6594884395599365, 0.8836178183555603], [735929.0, 0.6315509080886841, 0.7019952535629272, 0.7784652709960938, 0.5340705513954163, 0.6445568799972534, 0.8779107928276062], [735957.0, 0.6381266117095947, 0.7002037763595581, 0.7883478403091431, 0.5327350497245789, 0.6472232341766357, 0.8769954442977905], [735985.0, 0.6521746516227722, 0.7120072841644287, 0.792866587638855, 0.5259664058685303, 0.637427806854248, 0.8814032673835754], [736013.0, 0.637733519077301, 0.7053277492523193, 0.7886750102043152, 0.5205684900283813, 0.6227267384529114, 0.8818287253379822], [736041.0, 0.6390770673751831, 0.7063347101211548, 0.7851536273956299, 0.5290969610214233, 0.6185780763626099, 0.8924355506896973], [736069.0, 0.636505126953125, 0.705539345741272, 0.7922479510307312, 0.5253643989562988, 0.62001633644104, 0.9158748984336853], [736097.0, 0.6397504806518555, 0.7116974592208862, 0.7880628705024719, 0.5221458077430725, 0.6170616149902344, 0.9168526530265808], [736125.0, 0.6292140483856201, 0.7063777446746826, 0.7863807678222656, 0.5217198729515076, 0.6226564645767212, 0.9005622267723083], [736153.0, 0.6304605603218079, 0.70075523853302, 0.7801568508148193, 0.5212576389312744, 0.6238411664962769, 0.8944772481918335], [736181.0, 0.6301687955856323, 0.702997088432312, 0.7730444669723511, 0.523894727230072, 0.6296103596687317, 0.893037736415863], [736209.0, 0.6266521215438843, 0.7017050385475159, 0.7752877473831177, 0.5258670449256897, 0.6384320855140686, 0.8763594031333923], [736237.0, 0.6269943118095398, 0.7072854042053223, 0.7775073051452637, 0.5375336408615112, 0.6325888633728027, 0.8774166107177734], [736265.0, 0.6276581883430481, 0.7085551023483276, 0.7812725305557251, 0.5229532122612, 0.6303097605705261, 0.8760524988174438], [736293.0, 0.6321355104446411, 0.7017338275909424, 0.7793287038803101, 0.5225886106491089, 0.6296824216842651, 0.8838909268379211], [736321.0, 0.6312488913536072, 0.720360279083252, 0.8307766914367676, 0.52665776014328, 0.6453857421875, 0.8835793137550354], [736349.0, 0.6313353776931763, 0.7250449657440186, 0.82798832654953, 0.5354916453361511, 0.6488028168678284, 0.8869575262069702], [736377.0, 0.6253939270973206, 0.7107360363006592, 0.8311101794242859, 0.5264574289321899, 0.6452364325523376, 0.8839539289474487], [736405.0, 0.6313157081604004, 0.7083861827850342, 0.8296288847923279, 0.5206312537193298, 0.6356512308120728, 0.8849526643753052], [736433.0, 0.6311463117599487, 0.7070661783218384, 0.8281104564666748, 0.5295222997665405, 0.6525066494941711, 0.898115873336792], [736461.0, 0.6290004253387451, 0.698302686214447, 0.8280549049377441, 0.531019389629364, 0.6531904935836792, 0.8926308751106262], [736489.0, 0.6294403672218323, 0.6924669146537781, 0.8281104564666748, 0.5286121368408203, 0.6454324126243591, 0.8726027607917786]]}, \"id\": \"el31084553950416\"});\n",
       "      });\n",
       "    });\n",
       "}else{\n",
       "    // require.js not available: dynamically load d3 & mpld3\n",
       "    mpld3_load_lib(\"https://mpld3.github.io/js/d3.v3.min.js\", function(){\n",
       "         mpld3_load_lib(\"https://mpld3.github.io/js/mpld3.v0.3.js\", function(){\n",
       "                 \n",
       "                 mpld3.draw_figure(\"fig_el310845539504166615009945\", {\"axes\": [{\"xlim\": [732490.6, 736679.4], \"yscale\": \"linear\", \"axesbg\": \"#FFFFFF\", \"texts\": [{\"v_baseline\": \"hanging\", \"h_anchor\": \"middle\", \"color\": \"#000000\", \"text\": \"Time Line\", \"coordinates\": \"axes\", \"zorder\": 3, \"alpha\": 1, \"fontsize\": 15.0, \"position\": [0.49999999999999994, -0.07322175732217584], \"rotation\": -0.0, \"id\": \"el31084751909264\"}, {\"v_baseline\": \"auto\", \"h_anchor\": \"middle\", \"color\": \"#000000\", \"text\": \"Score\", \"coordinates\": \"axes\", \"zorder\": 3, \"alpha\": 1, \"fontsize\": 15.0, \"position\": [-0.042218778659751426, 0.5], \"rotation\": -90.0, \"id\": \"el31084752002064\"}, {\"v_baseline\": \"auto\", \"h_anchor\": \"middle\", \"color\": \"#000000\", \"text\": \"LONG BUY: score vs time\", \"coordinates\": \"axes\", \"zorder\": 3, \"alpha\": 1, \"fontsize\": 20.0, \"position\": [0.49999999999999994, 1.0209205020920502], \"rotation\": -0.0, \"id\": \"el31084773610640\"}], \"zoomable\": true, \"images\": [], \"xdomain\": [[2006, 5, 28, 14, 24, 0, 0.0], [2017, 11, 16, 9, 36, 0, 0.0]], \"ylim\": [0.5815753400325775, 0.8513900578022003], \"paths\": [], \"sharey\": [], \"sharex\": [], \"axesbgalpha\": null, \"axes\": [{\"scale\": \"linear\", \"tickformat\": null, \"grid\": {\"color\": \"#D3D3D3\", \"alpha\": 0.7, \"dasharray\": \"none\", \"gridOn\": true}, \"visible\": true, \"fontsize\": 10.0, \"position\": \"bottom\", \"nticks\": 6, \"tickvalues\": null}, {\"scale\": \"linear\", \"tickformat\": null, \"grid\": {\"color\": \"#D3D3D3\", \"alpha\": 0.7, \"dasharray\": \"none\", \"gridOn\": true}, \"visible\": true, \"fontsize\": 10.0, \"position\": \"left\", \"nticks\": 8, \"tickvalues\": null}], \"lines\": [{\"drawstyle\": \"default\", \"color\": \"#1F77B4\", \"yindex\": 1, \"coordinates\": \"data\", \"dasharray\": \"none\", \"zorder\": 2, \"alpha\": 1, \"xindex\": 0, \"linewidth\": 1.5, \"data\": \"data01\", \"id\": \"el31084726745488\"}, {\"drawstyle\": \"default\", \"color\": \"#FF7F0E\", \"yindex\": 2, \"coordinates\": \"data\", \"dasharray\": \"none\", \"zorder\": 2, \"alpha\": 1, \"xindex\": 0, \"linewidth\": 1.5, \"data\": \"data01\", \"id\": \"el31084720916112\"}, {\"drawstyle\": \"default\", \"color\": \"#2CA02C\", \"yindex\": 3, \"coordinates\": \"data\", \"dasharray\": \"none\", \"zorder\": 2, \"alpha\": 1, \"xindex\": 0, \"linewidth\": 1.5, \"data\": \"data01\", \"id\": \"el31084720916496\"}], \"markers\": [], \"id\": \"el31084751763536\", \"ydomain\": [0.5815753400325775, 0.8513900578022003], \"collections\": [], \"xscale\": \"date\", \"bbox\": [0.06848958333333334, 0.5574999999999999, 0.9149594907407408, 0.39833333333333343]}, {\"xlim\": [732490.6, 736679.4], \"yscale\": \"linear\", \"axesbg\": \"#FFFFFF\", \"texts\": [{\"v_baseline\": \"hanging\", \"h_anchor\": \"middle\", \"color\": \"#000000\", \"text\": \"Time Line\", \"coordinates\": \"axes\", \"zorder\": 3, \"alpha\": 1, \"fontsize\": 15.0, \"position\": [0.49999999999999994, -0.07322175732217573], \"rotation\": -0.0, \"id\": \"el31084725691792\"}, {\"v_baseline\": \"auto\", \"h_anchor\": \"middle\", \"color\": \"#000000\", \"text\": \"Score\", \"coordinates\": \"axes\", \"zorder\": 3, \"alpha\": 1, \"fontsize\": 15.0, \"position\": [-0.03415451756743936, 0.5], \"rotation\": -90.0, \"id\": \"el31084725797968\"}, {\"v_baseline\": \"auto\", \"h_anchor\": \"middle\", \"color\": \"#000000\", \"text\": \"SHORT SELL: score vs time\", \"coordinates\": \"axes\", \"zorder\": 3, \"alpha\": 1, \"fontsize\": 20.0, \"position\": [0.49999999999999994, 1.0209205020920502], \"rotation\": -0.0, \"id\": \"el31084721420816\"}], \"zoomable\": true, \"images\": [], \"xdomain\": [[2006, 5, 28, 14, 24, 0, 0.0], [2017, 11, 16, 9, 36, 0, 0.0]], \"ylim\": [0.4978043258190155, 0.9986159384250641], \"paths\": [], \"sharey\": [], \"sharex\": [], \"axesbgalpha\": null, \"axes\": [{\"scale\": \"linear\", \"tickformat\": null, \"grid\": {\"color\": \"#D3D3D3\", \"alpha\": 0.7, \"dasharray\": \"none\", \"gridOn\": true}, \"visible\": true, \"fontsize\": 10.0, \"position\": \"bottom\", \"nticks\": 6, \"tickvalues\": null}, {\"scale\": \"linear\", \"tickformat\": null, \"grid\": {\"color\": \"#D3D3D3\", \"alpha\": 0.7, \"dasharray\": \"none\", \"gridOn\": true}, \"visible\": true, \"fontsize\": 10.0, \"position\": \"left\", \"nticks\": 7, \"tickvalues\": null}], \"lines\": [{\"drawstyle\": \"default\", \"color\": \"#1F77B4\", \"yindex\": 4, \"coordinates\": \"data\", \"dasharray\": \"none\", \"zorder\": 2, \"alpha\": 1, \"xindex\": 0, \"linewidth\": 1.5, \"data\": \"data01\", \"id\": \"el31084721360016\"}, {\"drawstyle\": \"default\", \"color\": \"#FF7F0E\", \"yindex\": 5, \"coordinates\": \"data\", \"dasharray\": \"none\", \"zorder\": 2, \"alpha\": 1, \"xindex\": 0, \"linewidth\": 1.5, \"data\": \"data01\", \"id\": \"el31084725693968\"}, {\"drawstyle\": \"default\", \"color\": \"#2CA02C\", \"yindex\": 6, \"coordinates\": \"data\", \"dasharray\": \"none\", \"zorder\": 2, \"alpha\": 1, \"xindex\": 0, \"linewidth\": 1.5, \"data\": \"data01\", \"id\": \"el31084725693328\"}], \"markers\": [], \"id\": \"el31084725593552\", \"ydomain\": [0.4978043258190155, 0.9986159384250641], \"collections\": [], \"xscale\": \"date\", \"bbox\": [0.06848958333333334, 0.06499999999999984, 0.9149594907407408, 0.39833333333333343]}], \"height\": 720.0, \"width\": 864.0, \"plugins\": [{\"type\": \"reset\"}, {\"enabled\": false, \"button\": true, \"type\": \"zoom\"}, {\"enabled\": false, \"button\": true, \"type\": \"boxzoom\"}], \"data\": {\"data01\": [[732681.0, 0.713436484336853, 0.7309778928756714, 0.820862889289856, 0.7491977214813232, 0.8136807680130005, 0.9165987372398376], [732709.0, 0.6622775197029114, 0.7275950908660889, 0.7940688729286194, 0.6823346018791199, 0.8117141723632812, 0.9165619611740112], [732737.0, 0.6597810983657837, 0.7269667983055115, 0.8002645373344421, 0.6949123740196228, 0.8121342658996582, 0.904912531375885], [732765.0, 0.6601282954216003, 0.7290099859237671, 0.8015827536582947, 0.68520188331604, 0.8094369173049927, 0.9104328751564026], [732793.0, 0.6491002440452576, 0.7197351455688477, 0.7923904657363892, 0.6916465163230896, 0.8096568584442139, 0.9109789133071899], [732821.0, 0.6343467831611633, 0.7153071761131287, 0.8133428692817688, 0.6901605129241943, 0.8103151321411133, 0.9061159491539001], [732849.0, 0.6268396377563477, 0.7110117673873901, 0.7981686592102051, 0.6880340576171875, 0.7994461059570312, 0.9053915143013], [732877.0, 0.6248247623443604, 0.710502028465271, 0.7997320890426636, 0.7003641724586487, 0.8070008754730225, 0.9108291268348694], [732905.0, 0.6431615352630615, 0.713897705078125, 0.8173727989196777, 0.6619446873664856, 0.8041051626205444, 0.9355422854423523], [732933.0, 0.645195722579956, 0.7285569310188293, 0.8188142776489258, 0.681446373462677, 0.803856372833252, 0.9486517310142517], [732961.0, 0.636495053768158, 0.7100010514259338, 0.8044306635856628, 0.6815977096557617, 0.8106803894042969, 0.9211299419403076], [732989.0, 0.6533440351486206, 0.7261049747467041, 0.8327649235725403, 0.6765880584716797, 0.8063832521438599, 0.9099534153938293], [733017.0, 0.6520641446113586, 0.718710720539093, 0.8084774613380432, 0.6619579792022705, 0.8094204664230347, 0.9000197052955627], [733045.0, 0.657996654510498, 0.7366470098495483, 0.8236832022666931, 0.6845629215240479, 0.7921174764633179, 0.8889620900154114], [733073.0, 0.6728015542030334, 0.7363385558128357, 0.8232748508453369, 0.6674827337265015, 0.798755407333374, 0.9663191437721252], [733101.0, 0.6719823479652405, 0.7423692941665649, 0.82932049036026, 0.6526756286621094, 0.793405294418335, 0.9663814902305603], [733129.0, 0.6678348779678345, 0.7390753626823425, 0.8286342024803162, 0.6465153694152832, 0.800324022769928, 0.9642695784568787], [733157.0, 0.6657320857048035, 0.7272053360939026, 0.8245849013328552, 0.6574039459228516, 0.7893168926239014, 0.9660824537277222], [733185.0, 0.6646444201469421, 0.7479225397109985, 0.8203662633895874, 0.65533447265625, 0.7972233295440674, 0.9661986827850342], [733213.0, 0.6614859104156494, 0.7485034465789795, 0.8168267607688904, 0.6706400513648987, 0.7993360757827759, 0.9653931856155396], [733241.0, 0.6641640663146973, 0.7511316537857056, 0.8303695321083069, 0.6535605192184448, 0.782844066619873, 0.9653931856155396], [733269.0, 0.6572926640510559, 0.7283831834793091, 0.8365569710731506, 0.6512237787246704, 0.7870568037033081, 0.8971490263938904], [733297.0, 0.6704400181770325, 0.7367602586746216, 0.836491048336029, 0.6314884424209595, 0.7586847543716431, 0.9139045476913452], [733325.0, 0.6695114374160767, 0.7421383857727051, 0.8345299959182739, 0.6135482788085938, 0.735129714012146, 0.9140577912330627], [733353.0, 0.6716184020042419, 0.7428815364837646, 0.8159852623939514, 0.6067894697189331, 0.7313269972801208, 0.9156512022018433], [733381.0, 0.6730920672416687, 0.7387492656707764, 0.8160240054130554, 0.57334303855896, 0.707419753074646, 0.9160690903663635], [733409.0, 0.6358363032341003, 0.6830908060073853, 0.8205785751342773, 0.5814358592033386, 0.7114760875701904, 0.9120914340019226], [733437.0, 0.6403597593307495, 0.6990413665771484, 0.8160560727119446, 0.5589820742607117, 0.7067053914070129, 0.9086281657218933], [733465.0, 0.6474102735519409, 0.7158445119857788, 0.8017289042472839, 0.5483077764511108, 0.6779787540435791, 0.9088577032089233], [733493.0, 0.6381255984306335, 0.6970552206039429, 0.8017240166664124, 0.5531536936759949, 0.6828000545501709, 0.9034629464149475], [733521.0, 0.6394955515861511, 0.6975706219673157, 0.800032377243042, 0.5637320876121521, 0.6970596313476562, 0.9137673377990723], [733549.0, 0.6358133554458618, 0.6954637765884399, 0.8391257524490356, 0.5595683455467224, 0.7054044604301453, 0.9128909111022949], [733577.0, 0.6329728960990906, 0.6900694370269775, 0.8140183687210083, 0.5725666284561157, 0.7058425545692444, 0.9128886461257935], [733605.0, 0.6272115111351013, 0.6867473125457764, 0.8160183429718018, 0.5680696368217468, 0.7127578258514404, 0.9459031224250793], [733633.0, 0.6254070997238159, 0.6753815412521362, 0.8097314238548279, 0.5788134336471558, 0.7344034910202026, 0.9373226761817932], [733661.0, 0.6161327362060547, 0.6770322918891907, 0.7917356491088867, 0.591282844543457, 0.7532732486724854, 0.9355116486549377], [733689.0, 0.609151303768158, 0.6745279431343079, 0.7831782102584839, 0.6028810739517212, 0.7620547413825989, 0.9472676515579224], [733717.0, 0.6152757406234741, 0.6692759990692139, 0.7944284677505493, 0.5958223342895508, 0.7548757195472717, 0.9474620819091797], [733745.0, 0.6088935732841492, 0.6732628345489502, 0.7912640571594238, 0.5950404405593872, 0.7404593229293823, 0.9424636960029602], [733773.0, 0.6032465100288391, 0.6488310098648071, 0.7581078410148621, 0.5930144190788269, 0.7477239966392517, 0.9486013054847717], [733801.0, 0.602249264717102, 0.6483553051948547, 0.767513632774353, 0.594857394695282, 0.7533878087997437, 0.9490852355957031], [733829.0, 0.6089558601379395, 0.6578798294067383, 0.7844239473342896, 0.6022021174430847, 0.7551318407058716, 0.9391205310821533], [733857.0, 0.6085723638534546, 0.6604658365249634, 0.7610344290733337, 0.6112375259399414, 0.7647348642349243, 0.9305521249771118], [733885.0, 0.5938396453857422, 0.6480445265769958, 0.7364275455474854, 0.6332883834838867, 0.7859694957733154, 0.9117292165756226], [733913.0, 0.6180075407028198, 0.6536514759063721, 0.7505851984024048, 0.614734411239624, 0.7761667966842651, 0.901174008846283], [733941.0, 0.6149625778198242, 0.6539186239242554, 0.7616695165634155, 0.612797200679779, 0.765250563621521, 0.8868969082832336], [733969.0, 0.6184470057487488, 0.656108558177948, 0.7584031820297241, 0.5966965556144714, 0.7568418979644775, 0.9225118160247803], [733997.0, 0.6260812282562256, 0.6658002138137817, 0.779889702796936, 0.6037731766700745, 0.7566169500350952, 0.8849102258682251], [734025.0, 0.611688494682312, 0.6601211428642273, 0.7673689723014832, 0.5972732901573181, 0.7555298805236816, 0.9071609973907471], [734053.0, 0.611402690410614, 0.6513969898223877, 0.7376359701156616, 0.6066760420799255, 0.7537198066711426, 0.9010202884674072], [734081.0, 0.6087819933891296, 0.6538469195365906, 0.7249106168746948, 0.6178994178771973, 0.7820625305175781, 0.8997769355773926], [734109.0, 0.619904100894928, 0.6580989956855774, 0.7252942323684692, 0.6196004748344421, 0.7734264135360718, 0.8949405550956726], [734137.0, 0.6212649941444397, 0.6784253120422363, 0.7558590173721313, 0.6414413452148438, 0.7909656763076782, 0.9165785908699036], [734165.0, 0.6187357306480408, 0.673911452293396, 0.7611392736434937, 0.6458409428596497, 0.7913227081298828, 0.9190093278884888], [734193.0, 0.6144437789916992, 0.6670670509338379, 0.7739881277084351, 0.6279429197311401, 0.7885499000549316, 0.9138758778572083], [734221.0, 0.6165772676467896, 0.6769043803215027, 0.7909035682678223, 0.6323986649513245, 0.7960204482078552, 0.9307631254196167], [734249.0, 0.6169928908348083, 0.6737534999847412, 0.7923775315284729, 0.6266326904296875, 0.7891708612442017, 0.933584988117218], [734277.0, 0.6233440041542053, 0.6735532283782959, 0.8031689524650574, 0.6237386465072632, 0.8025194406509399, 0.9497082829475403], [734305.0, 0.6215847134590149, 0.6765798330307007, 0.8015909790992737, 0.6288917660713196, 0.77732914686203, 0.9141883850097656], [734333.0, 0.6273810863494873, 0.6790080666542053, 0.8045627474784851, 0.6344916820526123, 0.7923920154571533, 0.9758517742156982], [734361.0, 0.6456477046012878, 0.69157874584198, 0.8279619812965393, 0.620960533618927, 0.767062246799469, 0.9756625294685364], [734389.0, 0.6465004086494446, 0.6905133128166199, 0.7823570370674133, 0.6047016978263855, 0.7675623297691345, 0.9695730209350586], [734417.0, 0.6432190537452698, 0.689090371131897, 0.7958193421363831, 0.5878257751464844, 0.7404444217681885, 0.922131359577179], [734445.0, 0.6352235078811646, 0.6799041032791138, 0.7878365516662598, 0.6047178506851196, 0.7493222951889038, 0.9224270582199097], [734473.0, 0.6382497549057007, 0.6788438558578491, 0.7974903583526611, 0.6066641211509705, 0.7565116882324219, 0.9602515697479248], [734501.0, 0.6248630881309509, 0.6881766319274902, 0.7694182991981506, 0.5895350575447083, 0.7305607199668884, 0.9714446663856506], [734529.0, 0.6228519082069397, 0.6826593279838562, 0.7712019681930542, 0.6054565906524658, 0.7379274368286133, 0.9603406190872192], [734557.0, 0.6215747594833374, 0.6708283424377441, 0.7814908027648926, 0.5924803018569946, 0.7333332300186157, 0.9606550335884094], [734585.0, 0.6200872659683228, 0.6729741096496582, 0.7835748791694641, 0.5949323177337646, 0.7356637716293335, 0.9600817561149597], [734613.0, 0.6220807433128357, 0.6691262722015381, 0.7798601984977722, 0.590337872505188, 0.7365861535072327, 0.9180583953857422], [734641.0, 0.6294244527816772, 0.6922241449356079, 0.788969874382019, 0.5855042934417725, 0.7344024181365967, 0.9123777151107788], [734669.0, 0.630215048789978, 0.6927433013916016, 0.789700984954834, 0.5760906934738159, 0.7182791233062744, 0.9177478551864624], [734697.0, 0.6323474049568176, 0.6855747103691101, 0.773460328578949, 0.5821229219436646, 0.7129907608032227, 0.9236493706703186], [734725.0, 0.6279131770133972, 0.683660626411438, 0.7701174020767212, 0.5611864328384399, 0.7024489045143127, 0.9244742393493652], [734753.0, 0.6250289678573608, 0.6809177398681641, 0.7596555352210999, 0.5650230050086975, 0.693907618522644, 0.9194077253341675], [734781.0, 0.6224251985549927, 0.681702733039856, 0.7634758353233337, 0.5655717253684998, 0.695507287979126, 0.886612594127655], [734809.0, 0.6354710459709167, 0.6854244470596313, 0.7677621245384216, 0.5540257096290588, 0.6815410852432251, 0.8772700428962708], [734837.0, 0.6361333727836609, 0.6930180191993713, 0.765774130821228, 0.5791088938713074, 0.6850101351737976, 0.9656285047531128], [734865.0, 0.6330443024635315, 0.681968629360199, 0.8152024149894714, 0.5668652653694153, 0.679358720779419, 0.8892082571983337], [734893.0, 0.6200402975082397, 0.6650345325469971, 0.8189874291419983, 0.5645244717597961, 0.6871193647384644, 0.913370668888092], [734921.0, 0.6118146181106567, 0.662555992603302, 0.8274881839752197, 0.5563046932220459, 0.6888566613197327, 0.9144547581672668], [734949.0, 0.6118177175521851, 0.6625967621803284, 0.8312172293663025, 0.564864456653595, 0.6945118308067322, 0.9140556454658508], [734977.0, 0.6131240129470825, 0.666240930557251, 0.7775181531906128, 0.5665338039398193, 0.6977192759513855, 0.9228285551071167], [735005.0, 0.6065552830696106, 0.6595690250396729, 0.7730956673622131, 0.5818889141082764, 0.7024267911911011, 0.92317134141922], [735033.0, 0.6062400937080383, 0.6627343893051147, 0.7753146886825562, 0.5744107961654663, 0.7057031393051147, 0.9385450482368469], [735061.0, 0.6069268584251404, 0.6572323441505432, 0.7718253135681152, 0.5685467720031738, 0.6889386177062988, 0.9342600703239441], [735089.0, 0.6044393181800842, 0.6626943945884705, 0.7708698511123657, 0.5699913501739502, 0.6899524331092834, 0.9367142915725708], [735117.0, 0.6079294085502625, 0.6640380620956421, 0.7888041138648987, 0.5713004469871521, 0.7000957727432251, 0.912936806678772], [735145.0, 0.5984221696853638, 0.6583365797996521, 0.7680824398994446, 0.5811834931373596, 0.707574725151062, 0.9376875758171082], [735173.0, 0.6028616428375244, 0.6693319082260132, 0.7709760069847107, 0.5840239524841309, 0.7088254690170288, 0.9385272860527039], [735201.0, 0.6009076237678528, 0.6626051664352417, 0.7705618739128113, 0.5859326720237732, 0.7178375720977783, 0.939605176448822], [735229.0, 0.6117851734161377, 0.673764705657959, 0.7861739993095398, 0.5798605680465698, 0.7174025774002075, 0.9520019888877869], [735257.0, 0.616580605506897, 0.6901686191558838, 0.796302318572998, 0.5858888030052185, 0.7218172550201416, 0.9520019888877869], [735285.0, 0.6209372282028198, 0.6892090439796448, 0.8117996454238892, 0.5856224298477173, 0.7115709781646729, 0.9467296600341797], [735313.0, 0.6200587153434753, 0.6905524730682373, 0.7999943494796753, 0.5864934325218201, 0.7273759841918945, 0.9485625624656677], [735341.0, 0.62955641746521, 0.6983387470245361, 0.7999943494796753, 0.5681573152542114, 0.6987424492835999, 0.9446923136711121], [735369.0, 0.6320457458496094, 0.6960179209709167, 0.8101528286933899, 0.5598698258399963, 0.6926556825637817, 0.9152357578277588], [735397.0, 0.6273943781852722, 0.689801812171936, 0.8052897453308105, 0.5795521140098572, 0.7160289883613586, 0.9142183065414429], [735425.0, 0.6240490674972534, 0.6856540441513062, 0.7990847826004028, 0.5878892540931702, 0.71445232629776, 0.9176182746887207], [735453.0, 0.6200369596481323, 0.6940295696258545, 0.8114142417907715, 0.5792218446731567, 0.7214322090148926, 0.9178193211555481], [735481.0, 0.6247720718383789, 0.6920516490936279, 0.8092407584190369, 0.5833062529563904, 0.7183321714401245, 0.9136148691177368], [735509.0, 0.630734920501709, 0.6978156566619873, 0.8116540908813477, 0.5749111771583557, 0.696806788444519, 0.9101963639259338], [735537.0, 0.6382259130477905, 0.6925373077392578, 0.8082465529441833, 0.5585743188858032, 0.6887823343276978, 0.88522869348526], [735565.0, 0.6383795738220215, 0.6871713399887085, 0.7796083092689514, 0.5573697090148926, 0.6723365783691406, 0.8966894149780273], [735593.0, 0.6372197270393372, 0.7040207386016846, 0.7964584231376648, 0.5483980774879456, 0.6612755060195923, 0.8854265213012695], [735621.0, 0.6447587609291077, 0.6983132362365723, 0.8231761455535889, 0.5514374375343323, 0.6676328778266907, 0.8864094614982605], [735649.0, 0.6247050166130066, 0.6908323168754578, 0.8047901391983032, 0.5567264556884766, 0.6681491136550903, 0.8883345127105713], [735677.0, 0.6276878714561462, 0.6933172941207886, 0.8260404467582703, 0.5561580657958984, 0.6717349290847778, 0.8912314176559448], [735705.0, 0.6310114860534668, 0.6918067932128906, 0.8246893286705017, 0.5589911937713623, 0.6760327816009521, 0.8908457159996033], [735733.0, 0.6333353519439697, 0.6977916955947876, 0.8177825808525085, 0.564864993095398, 0.6837320327758789, 0.8753435015678406], [735761.0, 0.634473443031311, 0.7067480087280273, 0.8177244067192078, 0.5598769783973694, 0.6778182983398438, 0.8760731816291809], [735789.0, 0.633755624294281, 0.7071410417556763, 0.8170881271362305, 0.5537611246109009, 0.6722915172576904, 0.8834487199783325], [735817.0, 0.6345121264457703, 0.7027864456176758, 0.812638521194458, 0.548352062702179, 0.6634523868560791, 0.8794425129890442], [735845.0, 0.6449162364006042, 0.7012612819671631, 0.8144291639328003, 0.5405636429786682, 0.6607378125190735, 0.8633281588554382], [735873.0, 0.635049045085907, 0.7066104412078857, 0.8163522481918335, 0.5447918772697449, 0.6497799158096313, 0.8787199854850769], [735901.0, 0.6344481706619263, 0.7047584056854248, 0.8119057416915894, 0.5521289110183716, 0.6594884395599365, 0.8836178183555603], [735929.0, 0.6315509080886841, 0.7019952535629272, 0.7784652709960938, 0.5340705513954163, 0.6445568799972534, 0.8779107928276062], [735957.0, 0.6381266117095947, 0.7002037763595581, 0.7883478403091431, 0.5327350497245789, 0.6472232341766357, 0.8769954442977905], [735985.0, 0.6521746516227722, 0.7120072841644287, 0.792866587638855, 0.5259664058685303, 0.637427806854248, 0.8814032673835754], [736013.0, 0.637733519077301, 0.7053277492523193, 0.7886750102043152, 0.5205684900283813, 0.6227267384529114, 0.8818287253379822], [736041.0, 0.6390770673751831, 0.7063347101211548, 0.7851536273956299, 0.5290969610214233, 0.6185780763626099, 0.8924355506896973], [736069.0, 0.636505126953125, 0.705539345741272, 0.7922479510307312, 0.5253643989562988, 0.62001633644104, 0.9158748984336853], [736097.0, 0.6397504806518555, 0.7116974592208862, 0.7880628705024719, 0.5221458077430725, 0.6170616149902344, 0.9168526530265808], [736125.0, 0.6292140483856201, 0.7063777446746826, 0.7863807678222656, 0.5217198729515076, 0.6226564645767212, 0.9005622267723083], [736153.0, 0.6304605603218079, 0.70075523853302, 0.7801568508148193, 0.5212576389312744, 0.6238411664962769, 0.8944772481918335], [736181.0, 0.6301687955856323, 0.702997088432312, 0.7730444669723511, 0.523894727230072, 0.6296103596687317, 0.893037736415863], [736209.0, 0.6266521215438843, 0.7017050385475159, 0.7752877473831177, 0.5258670449256897, 0.6384320855140686, 0.8763594031333923], [736237.0, 0.6269943118095398, 0.7072854042053223, 0.7775073051452637, 0.5375336408615112, 0.6325888633728027, 0.8774166107177734], [736265.0, 0.6276581883430481, 0.7085551023483276, 0.7812725305557251, 0.5229532122612, 0.6303097605705261, 0.8760524988174438], [736293.0, 0.6321355104446411, 0.7017338275909424, 0.7793287038803101, 0.5225886106491089, 0.6296824216842651, 0.8838909268379211], [736321.0, 0.6312488913536072, 0.720360279083252, 0.8307766914367676, 0.52665776014328, 0.6453857421875, 0.8835793137550354], [736349.0, 0.6313353776931763, 0.7250449657440186, 0.82798832654953, 0.5354916453361511, 0.6488028168678284, 0.8869575262069702], [736377.0, 0.6253939270973206, 0.7107360363006592, 0.8311101794242859, 0.5264574289321899, 0.6452364325523376, 0.8839539289474487], [736405.0, 0.6313157081604004, 0.7083861827850342, 0.8296288847923279, 0.5206312537193298, 0.6356512308120728, 0.8849526643753052], [736433.0, 0.6311463117599487, 0.7070661783218384, 0.8281104564666748, 0.5295222997665405, 0.6525066494941711, 0.898115873336792], [736461.0, 0.6290004253387451, 0.698302686214447, 0.8280549049377441, 0.531019389629364, 0.6531904935836792, 0.8926308751106262], [736489.0, 0.6294403672218323, 0.6924669146537781, 0.8281104564666748, 0.5286121368408203, 0.6454324126243591, 0.8726027607917786]]}, \"id\": \"el31084553950416\"});\n",
       "            })\n",
       "         });\n",
       "}\n",
       "</script>"
      ],
      "text/plain": [
       "<IPython.core.display.HTML object>"
      ]
     },
     "execution_count": 8,
     "metadata": {},
     "output_type": "execute_result"
    }
   ],
   "source": [
    "%matplotlib inline\n",
    "from mpld3._display import display as d3_display\n",
    "\n",
    "def plot_score_time_series(df_tp):\n",
    "    \"\"\"prepare data\"\"\"\n",
    "    df_long_sts, df_short_sts = prepare_score_time_series(df_tp)\n",
    "    \n",
    "    \"\"\"create plots\"\"\"\n",
    "    fig, subplots = plt.subplots(nrows=2, ncols=1, figsize=(12,10))\n",
    "    \n",
    "    \"\"\"plot and customization\"\"\"\n",
    "    #max, = subplots[0].plot(df_long_sts['max_score'])\n",
    "    #median, = subplots[0].plot(df_long_sts['median_score'])\n",
    "    #min, \n",
    "    subplots[0].plot(df_long_sts)\n",
    "    subplots[0].set_xlabel('Time Line', fontsize = 15)\n",
    "    subplots[0].set_ylabel('Score', fontsize = 15)\n",
    "    subplots[0].set_title('LONG BUY: score vs time', fontsize = 20)\n",
    "    subplots[0].grid(color='lightgray', alpha=0.7)\n",
    "    #subplots[0].legend(bbox_to_anchor=(1.05, 1), loc=2)\n",
    "    \n",
    "    subplots[1].plot(df_short_sts)\n",
    "    subplots[1].set_xlabel('Time Line', fontsize = 15)\n",
    "    subplots[1].set_ylabel('Score', fontsize = 15)\n",
    "    subplots[1].set_title('SHORT SELL: score vs time', fontsize = 20)\n",
    "    subplots[1].grid(color='lightgray', alpha=0.7)\n",
    "    #subplots[1].legend(bbox_to_anchor=(1.05, 1), loc=2)\n",
    "    plt.tight_layout()\n",
    "   \n",
    "    return fig\n",
    "\n",
    "\n",
    "d3_display(plot_score_time_series(df_target_portfolio))"
   ]
  }
 ],
 "metadata": {
  "extensions": {
   "jupyter_dashboards": {
    "activeView": "report_default",
    "version": 1,
    "views": {
     "grid_default": {
      "cellMargin": 10,
      "defaultCellHeight": 20,
      "maxColumns": 12,
      "name": "grid",
      "type": "grid"
     },
     "report_default": {
      "name": "report",
      "type": "report"
     }
    }
   }
  },
  "kernelspec": {
   "display_name": "Python 2",
   "language": "python",
   "name": "python2"
  },
  "language_info": {
   "codemirror_mode": {
    "name": "ipython",
    "version": 2
   },
   "file_extension": ".py",
   "mimetype": "text/x-python",
   "name": "python",
   "nbconvert_exporter": "python",
   "pygments_lexer": "ipython2",
   "version": "2.7.13"
  }
 },
 "nbformat": 4,
 "nbformat_minor": 2
}
