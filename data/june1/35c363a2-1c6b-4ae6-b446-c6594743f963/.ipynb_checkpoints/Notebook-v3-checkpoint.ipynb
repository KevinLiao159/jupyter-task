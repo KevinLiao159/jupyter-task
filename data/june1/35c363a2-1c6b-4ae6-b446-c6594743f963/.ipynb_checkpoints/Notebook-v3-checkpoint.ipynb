{
 "cells": [
  {
   "cell_type": "code",
   "execution_count": 1,
   "metadata": {
    "collapsed": true,
    "extensions": {
     "jupyter_dashboards": {
      "version": 1,
      "views": {
       "grid_default": {
        "hidden": true
       },
       "report_default": {
        "hidden": true
       }
      }
     }
    },
    "scrolled": true
   },
   "outputs": [],
   "source": [
    "import pandas as pd\n",
    "import numpy as np\n",
    "import matplotlib.pyplot as plt\n",
    "\n",
    "from ipywidgets import widgets, interactive, interact, Layout, HTML as ipyHTML\n",
    "from IPython.display import display\n",
    "\n",
    "%matplotlib inline\n",
    "from mpld3._display import display as d3_display\n",
    "\n",
    "df_portfolio = pd.read_pickle('portfolio.pkl')\n",
    "df_transactions = pd.read_pickle('transactions.pkl')\n",
    "df_metrics = pd.read_pickle('metrics.pkl')\n",
    "df_simulation = pd.read_pickle('simulation.pkl')\n",
    "df_orders = pd.read_pickle('orders.pkl')\n",
    "df_target_portfolio = pd.read_pickle('target_portfolio.pkl')"
   ]
  },
  {
   "cell_type": "markdown",
   "metadata": {
    "extensions": {
     "jupyter_dashboards": {
      "version": 1,
      "views": {
       "grid_default": {
        "col": 0,
        "height": 4,
        "hidden": false,
        "row": 0,
        "width": 4
       },
       "report_default": {
        "hidden": false
       }
      }
     }
    }
   },
   "source": [
    "Simulation Report\n",
    "========="
   ]
  },
  {
   "cell_type": "markdown",
   "metadata": {
    "extensions": {
     "jupyter_dashboards": {
      "version": 1,
      "views": {
       "grid_default": {
        "col": 4,
        "height": 4,
        "hidden": false,
        "row": 0,
        "width": 4
       },
       "report_default": {
        "hidden": false
       }
      }
     }
    }
   },
   "source": [
    "### Target Portfolio View"
   ]
  },
  {
   "cell_type": "code",
   "execution_count": 2,
   "metadata": {
    "extensions": {
     "jupyter_dashboards": {
      "version": 1,
      "views": {
       "grid_default": {
        "hidden": true
       },
       "report_default": {
        "hidden": false
       }
      }
     }
    },
    "scrolled": true
   },
   "outputs": [
    {
     "data": {
      "application/vnd.jupyter.widget-view+json": {
       "model_id": "40108f999e114d4898bc5f5ede2fea8d"
      }
     },
     "metadata": {},
     "output_type": "display_data"
    }
   ],
   "source": [
    "\"\"\"This chunk is for displaying df_target_portfolio\"\"\"\n",
    "# we need to fix it\n",
    "df_target_portfolio = pd.read_pickle('target_portfolio.pkl')\n",
    "#\n",
    "def target_portfolio_view(df_tp):\n",
    "    \"\"\"This funtion returns a new view of portfolio dataframe and keep track of total value of portfolio at date\"\"\"    \n",
    "    df = df_tp\n",
    "    \"\"\"format\"\"\"    \n",
    "    df['tradingitemid'] = df['tradingitemid'].astype(int)\n",
    "    df['amount'] = df['amount'].map('{:,.2%}'.format)\n",
    "    df['limit_hi'] = df['limit_hi'].map('${:,.2f}'.format) \n",
    "    df['limit_lo'] = df['limit_lo'].map('${:,.2f}'.format)  \n",
    "    df['price'] = df['price'].map('${:,.2f}'.format) \n",
    "    df['score'] = df['score'].map('{:,.2%}'.format)\n",
    "    \n",
    "    cols = ['date', 'tradingitemid', 'companyname', 'symbol', 'exchange', 'score', 'order_type',\n",
    "            'amount', 'price', 'limit_lo', 'limit_hi', 'portfolioid']\n",
    "    df = df.loc[:, cols]\n",
    "    return df\n",
    "\n",
    "df_tp_view = target_portfolio_view(df_target_portfolio)\n",
    "\n",
    "def target_portfolio_view_date_select(date, sortby):\n",
    "              \n",
    "    display(df_tp_view.loc[df_tp_view.date == date, :].sort_values(by=sortby))\n",
    "    \n",
    "interactive(target_portfolio_view_date_select, \n",
    "            date= widgets.DatePicker(value = df_tp_view.date[0], description='Date'),\n",
    "            sortby = widgets.Dropdown(\n",
    "                options=[col for col in df_tp_view.columns.values],\n",
    "                value=df_tp_view.columns.values[0],\n",
    "                description='Sort by')\n",
    "           )"
   ]
  },
  {
   "cell_type": "markdown",
   "metadata": {
    "extensions": {
     "jupyter_dashboards": {
      "version": 1,
      "views": {
       "grid_default": {
        "col": 8,
        "height": 4,
        "hidden": false,
        "row": 0,
        "width": 4
       },
       "report_default": {
        "hidden": false
       }
      }
     }
    }
   },
   "source": [
    "### Portfolio View"
   ]
  },
  {
   "cell_type": "code",
   "execution_count": 3,
   "metadata": {
    "extensions": {
     "jupyter_dashboards": {
      "version": 1,
      "views": {
       "grid_default": {
        "hidden": true
       },
       "report_default": {
        "hidden": true
       }
      }
     }
    },
    "scrolled": true
   },
   "outputs": [
    {
     "data": {
      "application/vnd.jupyter.widget-view+json": {
       "model_id": "5be15d123ced4cc8b3a35fb504fa0bef"
      }
     },
     "metadata": {},
     "output_type": "display_data"
    }
   ],
   "source": [
    "\"\"\"This chunk is for displaying df_portfolio\"\"\"\n",
    "\n",
    "\n",
    "def portfolio_view(df):\n",
    "    \"\"\"This funtion returns a new view of portfolio dataframe and keep track of total value of portfolio at date\"\"\"\n",
    "    df['value'] = (df.price * df.shares)#.map('${:,.2f}'.format) \n",
    "    df_tot_value = df.groupby(by=['date'])[['value']].sum().rename(columns={'value': 'total_value'}).reset_index()\n",
    "    df = pd.merge(df, df_tot_value, on='date', how='outer')\n",
    "    df['percent of portfolio'] = (df.value / df.total_value)\n",
    "    \"\"\"format\"\"\"\n",
    "    df['shares'] = df['shares'].astype(int).map('{:,.0f}'.format)\n",
    "    df['price'] = df['price'].map('${:,.2f}'.format) \n",
    "    df['value'] = df['value'].map('${:,.2f}'.format) \n",
    "    df['percent of portfolio'] = df['percent of portfolio'].map('{:,.2%}'.format)\n",
    "    df['total_value'] = df['total_value'].map('${:,.2f}'.format)\n",
    "    df_tot_value['total_value'] = df_tot_value['total_value'].map('${:,.2f}'.format)\n",
    "    \n",
    "    cols = ['date', 'tradingitemid', 'companyname', 'symbol', 'exchange', 'price', 'shares', \n",
    "            'value', 'percent of portfolio', 'total_value']\n",
    "    df = df.loc[:, cols]\n",
    "    return df, df_tot_value\n",
    "\n",
    "df_p_view, df_tot_value = portfolio_view(df_portfolio)    \n",
    "pd.set_option(\"display.max_rows\", 10000)\n",
    "\n",
    "def portfolio_view_date_select(date, sortby):\n",
    "                              \n",
    "    display(df_p_view.loc[df_p_view.date == date, :].sort_values(by=sortby))\n",
    "    \n",
    "interactive(portfolio_view_date_select, \n",
    "            date= widgets.DatePicker(value = df_p_view.date[0], description='Date'),\n",
    "            sortby = widgets.Dropdown(\n",
    "                options=[col for col in df_p_view.columns.values],\n",
    "                value=df_p_view.columns.values[0],\n",
    "                description='Sort by')\n",
    "           )"
   ]
  },
  {
   "cell_type": "code",
   "execution_count": null,
   "metadata": {
    "collapsed": true,
    "extensions": {
     "jupyter_dashboards": {
      "version": 1,
      "views": {
       "grid_default": {
        "hidden": true
       },
       "report_default": {
        "hidden": true
       }
      }
     }
    },
    "scrolled": true
   },
   "outputs": [],
   "source": []
  },
  {
   "cell_type": "code",
   "execution_count": null,
   "metadata": {
    "collapsed": true,
    "extensions": {
     "jupyter_dashboards": {
      "version": 1,
      "views": {
       "grid_default": {
        "hidden": true
       },
       "report_default": {
        "hidden": true
       }
      }
     }
    },
    "scrolled": true
   },
   "outputs": [],
   "source": []
  },
  {
   "cell_type": "code",
   "execution_count": null,
   "metadata": {
    "collapsed": true,
    "extensions": {
     "jupyter_dashboards": {
      "version": 1,
      "views": {
       "grid_default": {
        "hidden": true
       },
       "report_default": {
        "hidden": true
       }
      }
     }
    },
    "scrolled": true
   },
   "outputs": [],
   "source": []
  }
 ],
 "metadata": {
  "extensions": {
   "jupyter_dashboards": {
    "activeView": "report_default",
    "version": 1,
    "views": {
     "grid_default": {
      "cellMargin": 10,
      "defaultCellHeight": 20,
      "maxColumns": 12,
      "name": "grid",
      "type": "grid"
     },
     "report_default": {
      "name": "report",
      "type": "report"
     }
    }
   }
  },
  "kernelspec": {
   "display_name": "Python 2",
   "language": "python",
   "name": "python2"
  },
  "language_info": {
   "codemirror_mode": {
    "name": "ipython",
    "version": 2
   },
   "file_extension": ".py",
   "mimetype": "text/x-python",
   "name": "python",
   "nbconvert_exporter": "python",
   "pygments_lexer": "ipython2",
   "version": "2.7.13"
  }
 },
 "nbformat": 4,
 "nbformat_minor": 2
}
