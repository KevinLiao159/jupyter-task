{
 "cells": [
  {
   "cell_type": "code",
   "execution_count": 357,
   "metadata": {
    "extensions": {
     "jupyter_dashboards": {
      "version": 1,
      "views": {
       "grid_default": {
        "hidden": true
       },
       "report_default": {
        "hidden": true
       }
      }
     }
    },
    "scrolled": true
   },
   "outputs": [],
   "source": [
    "import pandas as pd\n",
    "import numpy as np\n",
    "import matplotlib.pyplot as plt\n",
    "\n",
    "from ipywidgets import widgets, interactive, interact, Layout, HTML as ipyHTML\n",
    "from IPython.display import display, HTML, clear_output\n",
    "\n",
    "%matplotlib inline\n",
    "from mpld3._display import display as d3_display\n",
    "\n",
    "df_portfolio = pd.read_pickle('portfolio.pkl')\n",
    "df_transactions = pd.read_pickle('transactions.pkl')\n",
    "df_metrics = pd.read_pickle('metrics.pkl')\n",
    "df_simulation = pd.read_pickle('simulation.pkl')\n",
    "df_orders = pd.read_pickle('orders.pkl')\n",
    "df_target_portfolio = pd.read_pickle('target_portfolio.pkl')\n",
    "\n",
    "pd.set_option(\"display.max_rows\",30)"
   ]
  },
  {
   "cell_type": "code",
   "execution_count": 2,
   "metadata": {
    "collapsed": true
   },
   "outputs": [],
   "source": [
    "import os\n",
    "import glob\n",
    "from collections import defaultdict\n",
    "\n",
    "import pandas as pd\n",
    "import numpy as np\n",
    "\n",
    "\n",
    "def load_batch(batch_directory):\n",
    "    df_batches = defaultdict(list)\n",
    "    for key in {\n",
    "        'metrics',\n",
    "        'orders',\n",
    "        'portfolio',\n",
    "        'simulation',\n",
    "        'target_portfolio',\n",
    "        'transactions',\n",
    "    }:\n",
    "        dfs = []\n",
    "        for pickle_filepath in glob.glob(os.path.join(batch_directory, '**', key + '.pkl')):\n",
    "            dfs.append(pd.read_pickle(pickle_filepath))\n",
    "        df_batches[key] = pd.concat(dfs)\n",
    "    return df_batches"
   ]
  },
  {
   "cell_type": "markdown",
   "metadata": {
    "extensions": {
     "jupyter_dashboards": {
      "version": 1,
      "views": {
       "grid_default": {
        "col": 0,
        "height": 3,
        "hidden": false,
        "row": 0,
        "width": 12
       },
       "report_default": {
        "hidden": false
       }
      }
     }
    }
   },
   "source": [
    "Simulation Report\n",
    "========="
   ]
  },
  {
   "cell_type": "markdown",
   "metadata": {
    "extensions": {
     "jupyter_dashboards": {
      "version": 1,
      "views": {
       "grid_default": {
        "col": 0,
        "height": 2,
        "hidden": false,
        "row": 3,
        "width": 12
       },
       "report_default": {
        "hidden": false
       }
      }
     }
    }
   },
   "source": [
    "### Target Portfolio View"
   ]
  },
  {
   "cell_type": "code",
   "execution_count": 31,
   "metadata": {
    "extensions": {
     "jupyter_dashboards": {
      "version": 1,
      "views": {
       "grid_default": {
        "hidden": true
       },
       "report_default": {
        "hidden": false
       }
      }
     }
    },
    "scrolled": true
   },
   "outputs": [
    {
     "data": {
      "application/vnd.jupyter.widget-view+json": {
       "model_id": "54ea04ec0afa43449cfa0b51f59edd43"
      }
     },
     "metadata": {},
     "output_type": "display_data"
    },
    {
     "data": {
      "application/vnd.jupyter.widget-view+json": {
       "model_id": "7e493fd535c14c9a9d869bab5b45b9be"
      }
     },
     "metadata": {},
     "output_type": "display_data"
    }
   ],
   "source": [
    "\"\"\"This chunk is for displaying df_target_portfolio\"\"\"\n",
    "# we need to fix it\n",
    "df_target_portfolio = pd.read_pickle('target_portfolio.pkl')\n",
    "#\n",
    "def target_portfolio_view(df_tp):\n",
    "    \"\"\"This funtion returns a new view of portfolio dataframe and keep track of total value of portfolio at date\"\"\"    \n",
    "    df = df_tp\n",
    "    \"\"\"format\"\"\"    \n",
    "    df['tradingitemid'] = df['tradingitemid'].astype(int)\n",
    "    df['amount'] = df['amount'].map('{:,.2%}'.format)\n",
    "    df['limit_hi'] = df['limit_hi'].map('${:,.2f}'.format) \n",
    "    df['limit_lo'] = df['limit_lo'].map('${:,.2f}'.format)  \n",
    "    df['price'] = df['price'].map('${:,.2f}'.format) \n",
    "    df['score'] = df['score'].map('{:,.2%}'.format)\n",
    "    \n",
    "    cols = ['date', 'tradingitemid', 'companyname', 'symbol', 'exchange', 'score', 'order_type',\n",
    "            'amount', 'price', 'limit_lo', 'limit_hi', 'portfolioid']\n",
    "    df = df.loc[:, cols]\n",
    "    return df\n",
    "\n",
    "df_tp_view = target_portfolio_view(df_target_portfolio)\n",
    "\n",
    "def target_portfolio_view_date_select(date, sortby):\n",
    "    \n",
    "    display(df_tp_view.loc[df_tp_view.date == date, :].sort_values(by=sortby))\n",
    "    \n",
    "\n",
    "interact_df_tp = interactive(target_portfolio_view_date_select, \n",
    "                             date= widgets.DatePicker(value = df_tp_view.date[0], description='Date'),\n",
    "                             sortby = widgets.Dropdown(options=[col for col in df_tp_view.columns.values],\n",
    "                                                       value=df_tp_view.columns.values[0],\n",
    "                                                       description='Sort by')\n",
    "                            )\n",
    "\n",
    "last_month = widgets.Button(description=\"previous date\") \n",
    "next_month = widgets.Button(description=\"next date\")    \n",
    "\n",
    "date_increment = df_tp_view.date.unique()[1] - df_tp_view.date.unique()[0]\n",
    "\n",
    "def forward(next_month):\n",
    "    interact_df_tp.children[0].value = interact_df_tp.children[0].value + date_increment\n",
    "\n",
    "def backward(last_month):\n",
    "    interact_df_tp.children[0].value = interact_df_tp.children[0].value - date_increment\n",
    "\n",
    "button_box = widgets.HBox([widgets.Label(\"Click here: \"), last_month, next_month])      \n",
    "\n",
    "display(button_box, interact_df_tp)\n",
    "\n",
    "\n",
    "next_month.on_click(forward)\n",
    "last_month.on_click(backward)"
   ]
  },
  {
   "cell_type": "markdown",
   "metadata": {
    "extensions": {
     "jupyter_dashboards": {
      "version": 1,
      "views": {
       "grid_default": {
        "col": 0,
        "height": 3,
        "hidden": false,
        "row": 32,
        "width": 12
       },
       "report_default": {
        "hidden": false
       }
      }
     }
    }
   },
   "source": [
    "### Portfolio View"
   ]
  },
  {
   "cell_type": "code",
   "execution_count": 359,
   "metadata": {},
   "outputs": [
    {
     "data": {
      "text/html": [
       "<div>\n",
       "<table border=\"1\" class=\"dataframe\">\n",
       "  <thead>\n",
       "    <tr style=\"text-align: right;\">\n",
       "      <th></th>\n",
       "      <th>date</th>\n",
       "      <th>tradingitemid</th>\n",
       "      <th>order_type</th>\n",
       "      <th>price</th>\n",
       "      <th>shares</th>\n",
       "      <th>companyname</th>\n",
       "      <th>symbol</th>\n",
       "      <th>exchange</th>\n",
       "      <th>batch</th>\n",
       "      <th>name</th>\n",
       "    </tr>\n",
       "  </thead>\n",
       "  <tbody>\n",
       "    <tr>\n",
       "      <th>0</th>\n",
       "      <td>2007-01-12</td>\n",
       "      <td>2586910</td>\n",
       "      <td>LONG_BUY</td>\n",
       "      <td>40.886833</td>\n",
       "      <td>4891.0</td>\n",
       "      <td>Acuity Brands, Inc.</td>\n",
       "      <td>AYI</td>\n",
       "      <td>NYSE</td>\n",
       "      <td>overnight_2017-05-30</td>\n",
       "      <td>9ab407da-1831-4ae5-9909-ccd5ea5fa851</td>\n",
       "    </tr>\n",
       "    <tr>\n",
       "      <th>1</th>\n",
       "      <td>2007-01-12</td>\n",
       "      <td>2587606</td>\n",
       "      <td>LONG_BUY</td>\n",
       "      <td>34.687634</td>\n",
       "      <td>5765.0</td>\n",
       "      <td>Airgas, Inc.</td>\n",
       "      <td>ARG</td>\n",
       "      <td>NYSE</td>\n",
       "      <td>overnight_2017-05-30</td>\n",
       "      <td>9ab407da-1831-4ae5-9909-ccd5ea5fa851</td>\n",
       "    </tr>\n",
       "    <tr>\n",
       "      <th>2</th>\n",
       "      <td>2007-01-12</td>\n",
       "      <td>2588302</td>\n",
       "      <td>LONG_BUY</td>\n",
       "      <td>61.320381</td>\n",
       "      <td>3261.0</td>\n",
       "      <td>Alltel Corporation</td>\n",
       "      <td>AT</td>\n",
       "      <td>NYSE</td>\n",
       "      <td>overnight_2017-05-30</td>\n",
       "      <td>9ab407da-1831-4ae5-9909-ccd5ea5fa851</td>\n",
       "    </tr>\n",
       "  </tbody>\n",
       "</table>\n",
       "</div>"
      ],
      "text/plain": [
       "        date  tradingitemid order_type      price  shares  \\\n",
       "0 2007-01-12        2586910   LONG_BUY  40.886833  4891.0   \n",
       "1 2007-01-12        2587606   LONG_BUY  34.687634  5765.0   \n",
       "2 2007-01-12        2588302   LONG_BUY  61.320381  3261.0   \n",
       "\n",
       "           companyname symbol exchange                 batch  \\\n",
       "0  Acuity Brands, Inc.    AYI     NYSE  overnight_2017-05-30   \n",
       "1         Airgas, Inc.    ARG     NYSE  overnight_2017-05-30   \n",
       "2   Alltel Corporation     AT     NYSE  overnight_2017-05-30   \n",
       "\n",
       "                                   name  \n",
       "0  9ab407da-1831-4ae5-9909-ccd5ea5fa851  \n",
       "1  9ab407da-1831-4ae5-9909-ccd5ea5fa851  \n",
       "2  9ab407da-1831-4ae5-9909-ccd5ea5fa851  "
      ]
     },
     "execution_count": 359,
     "metadata": {},
     "output_type": "execute_result"
    }
   ],
   "source": [
    "df_portfolio.head(3)"
   ]
  },
  {
   "cell_type": "code",
   "execution_count": 380,
   "metadata": {},
   "outputs": [
    {
     "data": {
      "text/html": [
       "<div>\n",
       "<table border=\"1\" class=\"dataframe\">\n",
       "  <thead>\n",
       "    <tr style=\"text-align: right;\">\n",
       "      <th></th>\n",
       "      <th>date</th>\n",
       "      <th>tradingitemid</th>\n",
       "      <th>order_type</th>\n",
       "      <th>price</th>\n",
       "      <th>shares</th>\n",
       "      <th>companyname</th>\n",
       "      <th>symbol</th>\n",
       "      <th>exchange</th>\n",
       "      <th>cash</th>\n",
       "    </tr>\n",
       "  </thead>\n",
       "  <tbody>\n",
       "    <tr>\n",
       "      <th>0</th>\n",
       "      <td>2007-01-12</td>\n",
       "      <td>2586910</td>\n",
       "      <td>LONG_BUY</td>\n",
       "      <td>40.886833</td>\n",
       "      <td>4891.0</td>\n",
       "      <td>Acuity Brands, Inc.</td>\n",
       "      <td>AYI</td>\n",
       "      <td>NYSE</td>\n",
       "      <td>5.067945e+06</td>\n",
       "    </tr>\n",
       "    <tr>\n",
       "      <th>1</th>\n",
       "      <td>2007-01-12</td>\n",
       "      <td>2587606</td>\n",
       "      <td>LONG_BUY</td>\n",
       "      <td>34.687634</td>\n",
       "      <td>5765.0</td>\n",
       "      <td>Airgas, Inc.</td>\n",
       "      <td>ARG</td>\n",
       "      <td>NYSE</td>\n",
       "      <td>5.067945e+06</td>\n",
       "    </tr>\n",
       "    <tr>\n",
       "      <th>2</th>\n",
       "      <td>2007-01-12</td>\n",
       "      <td>2588302</td>\n",
       "      <td>LONG_BUY</td>\n",
       "      <td>61.320381</td>\n",
       "      <td>3261.0</td>\n",
       "      <td>Alltel Corporation</td>\n",
       "      <td>AT</td>\n",
       "      <td>NYSE</td>\n",
       "      <td>5.067945e+06</td>\n",
       "    </tr>\n",
       "  </tbody>\n",
       "</table>\n",
       "</div>"
      ],
      "text/plain": [
       "        date  tradingitemid order_type      price  shares  \\\n",
       "0 2007-01-12        2586910   LONG_BUY  40.886833  4891.0   \n",
       "1 2007-01-12        2587606   LONG_BUY  34.687634  5765.0   \n",
       "2 2007-01-12        2588302   LONG_BUY  61.320381  3261.0   \n",
       "\n",
       "           companyname symbol exchange          cash  \n",
       "0  Acuity Brands, Inc.    AYI     NYSE  5.067945e+06  \n",
       "1         Airgas, Inc.    ARG     NYSE  5.067945e+06  \n",
       "2   Alltel Corporation     AT     NYSE  5.067945e+06  "
      ]
     },
     "execution_count": 380,
     "metadata": {},
     "output_type": "execute_result"
    }
   ],
   "source": [
    "\"\"\"This chunk is for displaying df_portfolio\"\"\"\n",
    "clear_output()\n",
    "\n",
    "def join_cash_to_portfolio(df_p, df_m):\n",
    "    \"\"\"This function join cash column from df_metrics to df_portfolio\"\"\"\n",
    "    return df_p.assign(date=lambda x: x.date).merge(\n",
    "        df_m.assign(date=lambda x: x.date.dt.tz_localize(None)),\n",
    "        on='date',\n",
    "        how='left'\n",
    "    )[['date', 'tradingitemid', 'order_type', 'price', 'shares', 'companyname', 'symbol', 'exchange', 'cash']]\n",
    "\n",
    "\n",
    "\n",
    "df_portfolio2 = join_cash_to_portfolio(df_portfolio, df_metrics)\n",
    "df_portfolio2.head(3)\n",
    "\n"
   ]
  },
  {
   "cell_type": "code",
   "execution_count": 395,
   "metadata": {
    "extensions": {
     "jupyter_dashboards": {
      "version": 1,
      "views": {
       "grid_default": {
        "col": 0,
        "height": 27,
        "hidden": false,
        "row": 5,
        "width": 12
       },
       "report_default": {
        "hidden": true
       }
      }
     }
    },
    "scrolled": true
   },
   "outputs": [
    {
     "ename": "KeyError",
     "evalue": "'the label [total_value] is not in the [columns]'",
     "output_type": "error",
     "traceback": [
      "\u001b[0;31m---------------------------------------------------------------------------\u001b[0m",
      "\u001b[0;31mKeyError\u001b[0m                                  Traceback (most recent call last)",
      "\u001b[0;32m<ipython-input-395-1ee78ea3edb7>\u001b[0m in \u001b[0;36m<module>\u001b[0;34m()\u001b[0m\n\u001b[1;32m     60\u001b[0m                       ,layout = Layout(width='100%'))  \n\u001b[1;32m     61\u001b[0m \u001b[0;34m\u001b[0m\u001b[0m\n\u001b[0;32m---> 62\u001b[0;31m w2 = widgets.VBox([widgets.Label(\"Total Value: \"), widgets.Button(description=df.loc[df.date == interact_df_p.children[0].value, \"total_value\"][0])]\n\u001b[0m\u001b[1;32m     63\u001b[0m                       ,layout = Layout(width='100%'))\n\u001b[1;32m     64\u001b[0m \u001b[0;34m\u001b[0m\u001b[0m\n",
      "\u001b[0;32m/anaconda/lib/python2.7/site-packages/pandas/core/indexing.pyc\u001b[0m in \u001b[0;36m__getitem__\u001b[0;34m(self, key)\u001b[0m\n\u001b[1;32m   1308\u001b[0m \u001b[0;34m\u001b[0m\u001b[0m\n\u001b[1;32m   1309\u001b[0m         \u001b[0;32mif\u001b[0m \u001b[0mtype\u001b[0m\u001b[0;34m(\u001b[0m\u001b[0mkey\u001b[0m\u001b[0;34m)\u001b[0m \u001b[0;32mis\u001b[0m \u001b[0mtuple\u001b[0m\u001b[0;34m:\u001b[0m\u001b[0;34m\u001b[0m\u001b[0m\n\u001b[0;32m-> 1310\u001b[0;31m             \u001b[0;32mreturn\u001b[0m \u001b[0mself\u001b[0m\u001b[0;34m.\u001b[0m\u001b[0m_getitem_tuple\u001b[0m\u001b[0;34m(\u001b[0m\u001b[0mkey\u001b[0m\u001b[0;34m)\u001b[0m\u001b[0;34m\u001b[0m\u001b[0m\n\u001b[0m\u001b[1;32m   1311\u001b[0m         \u001b[0;32melse\u001b[0m\u001b[0;34m:\u001b[0m\u001b[0;34m\u001b[0m\u001b[0m\n\u001b[1;32m   1312\u001b[0m             \u001b[0;32mreturn\u001b[0m \u001b[0mself\u001b[0m\u001b[0;34m.\u001b[0m\u001b[0m_getitem_axis\u001b[0m\u001b[0;34m(\u001b[0m\u001b[0mkey\u001b[0m\u001b[0;34m,\u001b[0m \u001b[0maxis\u001b[0m\u001b[0;34m=\u001b[0m\u001b[0;36m0\u001b[0m\u001b[0;34m)\u001b[0m\u001b[0;34m\u001b[0m\u001b[0m\n",
      "\u001b[0;32m/anaconda/lib/python2.7/site-packages/pandas/core/indexing.pyc\u001b[0m in \u001b[0;36m_getitem_tuple\u001b[0;34m(self, tup)\u001b[0m\n\u001b[1;32m    794\u001b[0m     \u001b[0;32mdef\u001b[0m \u001b[0m_getitem_tuple\u001b[0m\u001b[0;34m(\u001b[0m\u001b[0mself\u001b[0m\u001b[0;34m,\u001b[0m \u001b[0mtup\u001b[0m\u001b[0;34m)\u001b[0m\u001b[0;34m:\u001b[0m\u001b[0;34m\u001b[0m\u001b[0m\n\u001b[1;32m    795\u001b[0m         \u001b[0;32mtry\u001b[0m\u001b[0;34m:\u001b[0m\u001b[0;34m\u001b[0m\u001b[0m\n\u001b[0;32m--> 796\u001b[0;31m             \u001b[0;32mreturn\u001b[0m \u001b[0mself\u001b[0m\u001b[0;34m.\u001b[0m\u001b[0m_getitem_lowerdim\u001b[0m\u001b[0;34m(\u001b[0m\u001b[0mtup\u001b[0m\u001b[0;34m)\u001b[0m\u001b[0;34m\u001b[0m\u001b[0m\n\u001b[0m\u001b[1;32m    797\u001b[0m         \u001b[0;32mexcept\u001b[0m \u001b[0mIndexingError\u001b[0m\u001b[0;34m:\u001b[0m\u001b[0;34m\u001b[0m\u001b[0m\n\u001b[1;32m    798\u001b[0m             \u001b[0;32mpass\u001b[0m\u001b[0;34m\u001b[0m\u001b[0m\n",
      "\u001b[0;32m/anaconda/lib/python2.7/site-packages/pandas/core/indexing.pyc\u001b[0m in \u001b[0;36m_getitem_lowerdim\u001b[0;34m(self, tup)\u001b[0m\n\u001b[1;32m    920\u001b[0m         \u001b[0;32mfor\u001b[0m \u001b[0mi\u001b[0m\u001b[0;34m,\u001b[0m \u001b[0mkey\u001b[0m \u001b[0;32min\u001b[0m \u001b[0menumerate\u001b[0m\u001b[0;34m(\u001b[0m\u001b[0mtup\u001b[0m\u001b[0;34m)\u001b[0m\u001b[0;34m:\u001b[0m\u001b[0;34m\u001b[0m\u001b[0m\n\u001b[1;32m    921\u001b[0m             \u001b[0;32mif\u001b[0m \u001b[0mis_label_like\u001b[0m\u001b[0;34m(\u001b[0m\u001b[0mkey\u001b[0m\u001b[0;34m)\u001b[0m \u001b[0;32mor\u001b[0m \u001b[0misinstance\u001b[0m\u001b[0;34m(\u001b[0m\u001b[0mkey\u001b[0m\u001b[0;34m,\u001b[0m \u001b[0mtuple\u001b[0m\u001b[0;34m)\u001b[0m\u001b[0;34m:\u001b[0m\u001b[0;34m\u001b[0m\u001b[0m\n\u001b[0;32m--> 922\u001b[0;31m                 \u001b[0msection\u001b[0m \u001b[0;34m=\u001b[0m \u001b[0mself\u001b[0m\u001b[0;34m.\u001b[0m\u001b[0m_getitem_axis\u001b[0m\u001b[0;34m(\u001b[0m\u001b[0mkey\u001b[0m\u001b[0;34m,\u001b[0m \u001b[0maxis\u001b[0m\u001b[0;34m=\u001b[0m\u001b[0mi\u001b[0m\u001b[0;34m)\u001b[0m\u001b[0;34m\u001b[0m\u001b[0m\n\u001b[0m\u001b[1;32m    923\u001b[0m \u001b[0;34m\u001b[0m\u001b[0m\n\u001b[1;32m    924\u001b[0m                 \u001b[0;31m# we have yielded a scalar ?\u001b[0m\u001b[0;34m\u001b[0m\u001b[0;34m\u001b[0m\u001b[0m\n",
      "\u001b[0;32m/anaconda/lib/python2.7/site-packages/pandas/core/indexing.pyc\u001b[0m in \u001b[0;36m_getitem_axis\u001b[0;34m(self, key, axis)\u001b[0m\n\u001b[1;32m   1480\u001b[0m \u001b[0;34m\u001b[0m\u001b[0m\n\u001b[1;32m   1481\u001b[0m         \u001b[0;31m# fall thru to straight lookup\u001b[0m\u001b[0;34m\u001b[0m\u001b[0;34m\u001b[0m\u001b[0m\n\u001b[0;32m-> 1482\u001b[0;31m         \u001b[0mself\u001b[0m\u001b[0;34m.\u001b[0m\u001b[0m_has_valid_type\u001b[0m\u001b[0;34m(\u001b[0m\u001b[0mkey\u001b[0m\u001b[0;34m,\u001b[0m \u001b[0maxis\u001b[0m\u001b[0;34m)\u001b[0m\u001b[0;34m\u001b[0m\u001b[0m\n\u001b[0m\u001b[1;32m   1483\u001b[0m         \u001b[0;32mreturn\u001b[0m \u001b[0mself\u001b[0m\u001b[0;34m.\u001b[0m\u001b[0m_get_label\u001b[0m\u001b[0;34m(\u001b[0m\u001b[0mkey\u001b[0m\u001b[0;34m,\u001b[0m \u001b[0maxis\u001b[0m\u001b[0;34m=\u001b[0m\u001b[0maxis\u001b[0m\u001b[0;34m)\u001b[0m\u001b[0;34m\u001b[0m\u001b[0m\n\u001b[1;32m   1484\u001b[0m \u001b[0;34m\u001b[0m\u001b[0m\n",
      "\u001b[0;32m/anaconda/lib/python2.7/site-packages/pandas/core/indexing.pyc\u001b[0m in \u001b[0;36m_has_valid_type\u001b[0;34m(self, key, axis)\u001b[0m\n\u001b[1;32m   1417\u001b[0m                 \u001b[0;32mraise\u001b[0m\u001b[0;34m\u001b[0m\u001b[0m\n\u001b[1;32m   1418\u001b[0m             \u001b[0;32mexcept\u001b[0m\u001b[0;34m:\u001b[0m\u001b[0;34m\u001b[0m\u001b[0m\n\u001b[0;32m-> 1419\u001b[0;31m                 \u001b[0merror\u001b[0m\u001b[0;34m(\u001b[0m\u001b[0;34m)\u001b[0m\u001b[0;34m\u001b[0m\u001b[0m\n\u001b[0m\u001b[1;32m   1420\u001b[0m \u001b[0;34m\u001b[0m\u001b[0m\n\u001b[1;32m   1421\u001b[0m         \u001b[0;32mreturn\u001b[0m \u001b[0mTrue\u001b[0m\u001b[0;34m\u001b[0m\u001b[0m\n",
      "\u001b[0;32m/anaconda/lib/python2.7/site-packages/pandas/core/indexing.pyc\u001b[0m in \u001b[0;36merror\u001b[0;34m()\u001b[0m\n\u001b[1;32m   1404\u001b[0m                                     \"key\")\n\u001b[1;32m   1405\u001b[0m                 raise KeyError(\"the label [%s] is not in the [%s]\" %\n\u001b[0;32m-> 1406\u001b[0;31m                                (key, self.obj._get_axis_name(axis)))\n\u001b[0m\u001b[1;32m   1407\u001b[0m \u001b[0;34m\u001b[0m\u001b[0m\n\u001b[1;32m   1408\u001b[0m             \u001b[0;32mtry\u001b[0m\u001b[0;34m:\u001b[0m\u001b[0;34m\u001b[0m\u001b[0m\n",
      "\u001b[0;31mKeyError\u001b[0m: 'the label [total_value] is not in the [columns]'"
     ]
    }
   ],
   "source": [
    "\"\"\"This chunk is for displaying df_portfolio\"\"\"\n",
    "clear_output()\n",
    "def portfolio_view(_df):\n",
    "    \"\"\"This funtion returns a new view of portfolio dataframe and keep track of total value of portfolio at date\"\"\"\n",
    "    df = _df.copy()\n",
    "    \n",
    "    df['value'] = (df.price * df.shares)\n",
    "    \n",
    "    df_net_exposure = df.groupby(by=['date'])[['value']].sum().rename(columns={'value': 'net_exposure'}).reset_index()\n",
    "    df = pd.merge(df, df_net_exposure, on='date', how='outer')\n",
    "    \n",
    "    df['total_value'] = (df.cash + df.net_exposure)\n",
    "    df['percent_of_net'] = (df.value / df.net_exposure)\n",
    "    df['percent_of_total'] = (df.value / df.total_value)\n",
    "    \n",
    "    \"\"\"format\"\"\"\n",
    "    df['shares'] = df['shares'].astype(int).map('{:,.0f}'.format)\n",
    "    df['price'] = df['price'].map('${:,.2f}'.format) \n",
    "    df['value'] = df['value'].map('${:,.2f}'.format) \n",
    "    df['percent_of_net'] = df['percent_of_net'].map('{:,.2%}'.format)\n",
    "    df['net_exposure'] = df['net_exposure'].map('${:,.2f}'.format)\n",
    "    df['percent_of_total'] = df['percent_of_total'].map('{:,.2%}'.format)\n",
    "    df['total_value'] = df['total_value'].map('${:,.2f}'.format)    \n",
    "    \n",
    "    df_net_exposure['net_exposure'] = df_net_exposure['net_exposure'].map('${:,.2f}'.format)\n",
    "    \n",
    "    cols = ['date', 'tradingitemid', 'companyname', 'symbol', 'exchange', 'price', 'shares', \n",
    "            'value', 'percent_of_net', 'net_exposure', 'percent_of_total', 'total_value']\n",
    "    df = df.loc[:, cols]\n",
    "    return df, df_net_exposure\n",
    "\n",
    "df_p_view, df_net_exposure = portfolio_view(df_portfolio2)    \n",
    "pd.set_option(\"display.max_rows\", 30)\n",
    "\n",
    "def portfolio_view_date_select(date, sortby):\n",
    "                              \n",
    "    display(df_p_view.loc[df_p_view.date == date, :].sort_values(by=sortby))\n",
    "    \n",
    "interact_df_p = interactive(portfolio_view_date_select, \n",
    "                            date= widgets.DatePicker(value = df_p_view.date[0], description='Date'), \n",
    "                            sortby = widgets.Dropdown(options=[col for col in df_p_view.columns.values], \n",
    "                                                      value=df_p_view.columns.values[0], \n",
    "                                                      description='Sort by')\n",
    "                           )\n",
    "\n",
    "last_week = widgets.Button(description=\"previous date\") \n",
    "next_week = widgets.Button(description=\"next date\")    \n",
    "\n",
    "date_increment = df_p_view.date.unique()[1] - df_p_view.date.unique()[0]\n",
    "\n",
    "def forward(next_week):\n",
    "    interact_df_p.children[0].value = interact_df_p.children[0].value + date_increment\n",
    "\n",
    "def backward(last_week):\n",
    "    interact_df_p.children[0].value = interact_df_p.children[0].value - date_increment\n",
    "\n",
    "button_box = widgets.HBox([widgets.Label(\"Click here: \"), last_week, next_week])    \n",
    "\n",
    "w1 = widgets.VBox([widgets.Label(\"Net exposure: \"), widgets.Button(description=df_net_exposure.loc[df_net_exposure.date == interact_df_p.children[0].value, \"net_exposure\"][0])] ,layout = Layout(width='100%'))  \n",
    "\n",
    "w2 = widgets.VBox([widgets.Label(\"Total Value: \"), widgets.Button(description=df.loc[df.date == interact_df_p.children[0].value, \"total_value\"][0])] ,layout = Layout(width='100%'))\n",
    "    \n",
    "    \n",
    "net_exposure_box = widgets.HBox([w1, w2],layout = Layout(width='100%'))     \n",
    "\n",
    "display(net_exposure_box, button_box, interact_df_p)\n",
    "\n",
    "next_week.on_click(forward)\n",
    "last_week.on_click(backward)"
   ]
  },
  {
   "cell_type": "markdown",
   "metadata": {},
   "source": [
    "Simulation Plot\n",
    "========="
   ]
  },
  {
   "cell_type": "markdown",
   "metadata": {},
   "source": [
    "### Score vs Time Plot"
   ]
  },
  {
   "cell_type": "code",
   "execution_count": 11,
   "metadata": {
    "collapsed": true
   },
   "outputs": [],
   "source": [
    "def create_score_time_series(df_tp):\n",
    "    \"\"\"\n",
    "    This function will take a df_target_portfolio and \n",
    "    return two dataframes of score vs date, one for long, the other for short\n",
    "    \"\"\"   \n",
    "    df_long = df_tp.loc[df_tp.order_type == \"LONG_BUY\", [\"date\", \"score\"]].sort_values(by='date')\n",
    "    df_long_max_score = df_long.groupby(by=['date']).max().rename(columns={\"score\": \"max_score\"})\n",
    "    df_long_median_score = df_long.groupby(by=['date']).median().rename(columns={\"score\": \"median_score\"})\n",
    "    df_long_min_score = df_long.groupby(by=['date']).min().rename(columns={\"score\": \"min_score\"})\n",
    "    df_long_sts = df_long_min_score.join(df_long_median_score).join(df_long_max_score)\n",
    "  \n",
    "    df_short = df_tp.loc[df_tp.order_type == \"SHORT_SELL\", [\"date\", \"score\"]].sort_values(by='date')\n",
    "    df_short_max_score = df_short.groupby(by=['date']).max().rename(columns={\"score\": \"max_score\"})\n",
    "    df_short_median_score = df_short.groupby(by=['date']).median().rename(columns={\"score\": \"median_score\"})\n",
    "    df_short_min_score = df_short.groupby(by=['date']).min().rename(columns={\"score\": \"min_score\"})\n",
    "    df_short_sts = df_short_min_score.join(df_short_median_score).join(df_short_max_score)    \n",
    "\n",
    "    return df_long_sts, df_short_sts\n",
    "\n"
   ]
  },
  {
   "cell_type": "code",
   "execution_count": 16,
   "metadata": {},
   "outputs": [
    {
     "data": {
      "text/html": [
       "\n",
       "\n",
       "<style>\n",
       "\n",
       "</style>\n",
       "\n",
       "<div id=\"fig_el78745498752807601341616\"></div>\n",
       "<script>\n",
       "function mpld3_load_lib(url, callback){\n",
       "  var s = document.createElement('script');\n",
       "  s.src = url;\n",
       "  s.async = true;\n",
       "  s.onreadystatechange = s.onload = callback;\n",
       "  s.onerror = function(){console.warn(\"failed to load library \" + url);};\n",
       "  document.getElementsByTagName(\"head\")[0].appendChild(s);\n",
       "}\n",
       "\n",
       "if(typeof(mpld3) !== \"undefined\" && mpld3._mpld3IsLoaded){\n",
       "   // already loaded: just create the figure\n",
       "   !function(mpld3){\n",
       "       \n",
       "       mpld3.draw_figure(\"fig_el78745498752807601341616\", {\"axes\": [{\"xlim\": [732499.7, 736488.3], \"yscale\": \"linear\", \"axesbg\": \"#FFFFFF\", \"texts\": [{\"v_baseline\": \"hanging\", \"h_anchor\": \"middle\", \"color\": \"#000000\", \"text\": \"Time Line\", \"coordinates\": \"axes\", \"zorder\": 3, \"alpha\": 1, \"fontsize\": 15.0, \"position\": [0.5, -0.07322175732217584], \"rotation\": -0.0, \"id\": \"el7874730957328\"}, {\"v_baseline\": \"auto\", \"h_anchor\": \"middle\", \"color\": \"#000000\", \"text\": \"Score\", \"coordinates\": \"axes\", \"zorder\": 3, \"alpha\": 1, \"fontsize\": 15.0, \"position\": [-0.05069183191991328, 0.5], \"rotation\": -90.0, \"id\": \"el7874737561872\"}, {\"v_baseline\": \"auto\", \"h_anchor\": \"middle\", \"color\": \"#000000\", \"text\": \"LONG BUY: score vs time\", \"coordinates\": \"axes\", \"zorder\": 3, \"alpha\": 1, \"fontsize\": 20.0, \"position\": [0.5, 1.0209205020920502], \"rotation\": -0.0, \"id\": \"el7874738038736\"}], \"zoomable\": true, \"images\": [], \"xdomain\": [[2006, 6, 7, 16, 48, 0, 0.0], [2017, 5, 8, 7, 12, 0, 0.0]], \"ylim\": [0.6511073937158451, 0.8416379277217857], \"paths\": [], \"sharey\": [], \"sharex\": [], \"axesbgalpha\": null, \"axes\": [{\"scale\": \"linear\", \"tickformat\": null, \"grid\": {\"color\": \"#D3D3D3\", \"alpha\": 0.7, \"dasharray\": \"none\", \"gridOn\": true}, \"visible\": true, \"fontsize\": 10.0, \"position\": \"bottom\", \"nticks\": 11, \"tickvalues\": null}, {\"scale\": \"linear\", \"tickformat\": null, \"grid\": {\"color\": \"#D3D3D3\", \"alpha\": 0.7, \"dasharray\": \"none\", \"gridOn\": true}, \"visible\": true, \"fontsize\": 10.0, \"position\": \"left\", \"nticks\": 9, \"tickvalues\": null}], \"lines\": [{\"drawstyle\": \"default\", \"color\": \"#1F77B4\", \"yindex\": 1, \"coordinates\": \"data\", \"dasharray\": \"none\", \"zorder\": 2, \"alpha\": 1, \"xindex\": 0, \"linewidth\": 1.5, \"data\": \"data01\", \"id\": \"el7874737994320\"}, {\"drawstyle\": \"default\", \"color\": \"#FF7F0E\", \"yindex\": 2, \"coordinates\": \"data\", \"dasharray\": \"none\", \"zorder\": 2, \"alpha\": 1, \"xindex\": 0, \"linewidth\": 1.5, \"data\": \"data01\", \"id\": \"el7874765106576\"}, {\"drawstyle\": \"default\", \"color\": \"#2CA02C\", \"yindex\": 3, \"coordinates\": \"data\", \"dasharray\": \"none\", \"zorder\": 2, \"alpha\": 1, \"xindex\": 0, \"linewidth\": 1.5, \"data\": \"data01\", \"id\": \"el7874765109456\"}], \"markers\": [], \"id\": \"el7874730893392\", \"ydomain\": [0.6511073937158451, 0.8416379277217857], \"collections\": [], \"xscale\": \"date\", \"bbox\": [0.07586805555555555, 0.5574999999999999, 0.9075810185185186, 0.39833333333333343]}, {\"xlim\": [732499.7, 736488.3], \"yscale\": \"linear\", \"axesbg\": \"#FFFFFF\", \"texts\": [{\"v_baseline\": \"hanging\", \"h_anchor\": \"middle\", \"color\": \"#000000\", \"text\": \"Time Line\", \"coordinates\": \"axes\", \"zorder\": 3, \"alpha\": 1, \"fontsize\": 15.0, \"position\": [0.5, -0.07322175732217573], \"rotation\": -0.0, \"id\": \"el7874737766928\"}, {\"v_baseline\": \"auto\", \"h_anchor\": \"middle\", \"color\": \"#000000\", \"text\": \"Score\", \"coordinates\": \"axes\", \"zorder\": 3, \"alpha\": 1, \"fontsize\": 15.0, \"position\": [-0.04256200981954983, 0.5], \"rotation\": -90.0, \"id\": \"el7874737848528\"}, {\"v_baseline\": \"auto\", \"h_anchor\": \"middle\", \"color\": \"#000000\", \"text\": \"SHORT SELL: score vs time\", \"coordinates\": \"axes\", \"zorder\": 3, \"alpha\": 1, \"fontsize\": 20.0, \"position\": [0.5, 1.0209205020920502], \"rotation\": -0.0, \"id\": \"el7874737894032\"}], \"zoomable\": true, \"images\": [], \"xdomain\": [[2006, 6, 7, 16, 48, 0, 0.0], [2017, 5, 8, 7, 12, 0, 0.0]], \"ylim\": [0.5553440798302687, 0.9877585068621296], \"paths\": [], \"sharey\": [], \"sharex\": [], \"axesbgalpha\": null, \"axes\": [{\"scale\": \"linear\", \"tickformat\": null, \"grid\": {\"color\": \"#D3D3D3\", \"alpha\": 0.7, \"dasharray\": \"none\", \"gridOn\": true}, \"visible\": true, \"fontsize\": 10.0, \"position\": \"bottom\", \"nticks\": 11, \"tickvalues\": null}, {\"scale\": \"linear\", \"tickformat\": null, \"grid\": {\"color\": \"#D3D3D3\", \"alpha\": 0.7, \"dasharray\": \"none\", \"gridOn\": true}, \"visible\": true, \"fontsize\": 10.0, \"position\": \"left\", \"nticks\": 10, \"tickvalues\": null}], \"lines\": [{\"drawstyle\": \"default\", \"color\": \"#1F77B4\", \"yindex\": 4, \"coordinates\": \"data\", \"dasharray\": \"none\", \"zorder\": 2, \"alpha\": 1, \"xindex\": 0, \"linewidth\": 1.5, \"data\": \"data01\", \"id\": \"el7874737895824\"}, {\"drawstyle\": \"default\", \"color\": \"#FF7F0E\", \"yindex\": 5, \"coordinates\": \"data\", \"dasharray\": \"none\", \"zorder\": 2, \"alpha\": 1, \"xindex\": 0, \"linewidth\": 1.5, \"data\": \"data01\", \"id\": \"el7874549876560\"}, {\"drawstyle\": \"default\", \"color\": \"#2CA02C\", \"yindex\": 6, \"coordinates\": \"data\", \"dasharray\": \"none\", \"zorder\": 2, \"alpha\": 1, \"xindex\": 0, \"linewidth\": 1.5, \"data\": \"data01\", \"id\": \"el7874549875728\"}], \"markers\": [], \"id\": \"el7874737705552\", \"ydomain\": [0.5553440798302687, 0.9877585068621296], \"collections\": [], \"xscale\": \"date\", \"bbox\": [0.07586805555555555, 0.06499999999999984, 0.9075810185185186, 0.39833333333333343]}], \"height\": 720.0, \"width\": 864.0, \"plugins\": [{\"type\": \"reset\"}, {\"enabled\": false, \"button\": true, \"type\": \"zoom\"}, {\"enabled\": false, \"button\": true, \"type\": \"boxzoom\"}], \"data\": {\"data01\": [[732681.0, 0.7108400928066204, 0.7281405385912838, 0.8140509529447283, 0.755630394551581, 0.8122238805632995, 0.9100314497751019], [732709.0, 0.7137408235156792, 0.7325565681074988, 0.8116553627717281, 0.755630394551581, 0.8189147040419387, 0.9175493022568205], [732737.0, 0.7251063678866136, 0.7441616181288323, 0.8115912567550081, 0.76013363572942, 0.8232388542060293, 0.9239230164488104], [732765.0, 0.7093209917684318, 0.7324705936036896, 0.812277576207805, 0.7652456909586937, 0.8144805824995485, 0.9239230164488104], [732793.0, 0.7040618784087757, 0.7274575044522225, 0.7878793111482507, 0.7672374284911493, 0.8112230287898513, 0.9229246209507975], [732821.0, 0.7014431819601403, 0.7131088230898546, 0.8003787856865664, 0.7540956938900123, 0.8068088060949484, 0.9116715358524925], [732849.0, 0.6980635078875556, 0.7135347073977476, 0.7912053565240611, 0.7576026237166072, 0.8057316107434848, 0.9030955321069671], [732877.0, 0.6928799035540784, 0.7101152044218713, 0.7933398925101965, 0.7562386714095864, 0.8088389276202521, 0.8872494460820265], [732905.0, 0.7053825807455868, 0.7175749091868708, 0.793644616793942, 0.7371876210466987, 0.801328903689535, 0.9164336885142605], [732933.0, 0.7018262551947306, 0.7213035348687039, 0.7922235864682203, 0.7477457534849625, 0.804249710069859, 0.9160763208141954], [732961.0, 0.6992994129024821, 0.7158059222974128, 0.7826059824007358, 0.7540835131069203, 0.8071613289181447, 0.9166217840427437], [732989.0, 0.7176424577040564, 0.7349250566223863, 0.7961716871772822, 0.7497980430868606, 0.8105728510423362, 0.9211798017425257], [733017.0, 0.7081771371688509, 0.7259507272169448, 0.8150880690724882, 0.7464123282650666, 0.8130067771947822, 0.9073130285363352], [733045.0, 0.7303449812517689, 0.7489019164432258, 0.8255468496827184, 0.7374374349829934, 0.7999697911674672, 0.8992811742512926], [733073.0, 0.7322481430955339, 0.7550830934284863, 0.828628142311747, 0.7331210118527941, 0.7976500203899844, 0.8976810730234307], [733101.0, 0.7359042086191641, 0.7561212491857736, 0.8329774489033338, 0.7185754999882983, 0.7955145847676892, 0.9681033056334086], [733129.0, 0.734021620856326, 0.7546652418971015, 0.8244420366310582, 0.7208492024455441, 0.7816822052580235, 0.9677993258481132], [733157.0, 0.7323794656728011, 0.7517806601824186, 0.8218193649874401, 0.7177899098665741, 0.779613281521885, 0.9659542085709785], [733185.0, 0.7303553385094103, 0.7499576491587685, 0.825947041422129, 0.7296386610363335, 0.7890222732455036, 0.9659542085709785], [733213.0, 0.7303332689604898, 0.752254397259291, 0.8154741001127879, 0.7320463074224809, 0.7873497512661085, 0.9647468480060604], [733241.0, 0.7311339086902193, 0.7512032349433835, 0.8256010060119753, 0.7229120391043661, 0.7816802100306478, 0.9652538133221216], [733269.0, 0.7264029287100406, 0.745193461957443, 0.8258057536382342, 0.7127906460974432, 0.7853054299617955, 0.9002037953910071], [733297.0, 0.734294290487755, 0.7500709550456999, 0.826357695034598, 0.6957182900208548, 0.7573310363591812, 0.8912360567653478], [733325.0, 0.742402018891285, 0.7601653038399837, 0.8307705634758042, 0.6433397920518025, 0.7220559103010576, 0.8823394336427267], [733353.0, 0.7451212099888168, 0.7588245447377263, 0.8100720446119014, 0.6343123045324004, 0.7279831720215664, 0.8823394336427267], [733381.0, 0.7440419796928093, 0.7549771807410945, 0.8084724801007985, 0.6040227392077655, 0.6905189455347933, 0.9105941168744648], [733409.0, 0.7071335788185765, 0.721919841979372, 0.7997422551590645, 0.6254624122187352, 0.6899795063807898, 0.891516705999279], [733437.0, 0.7093520802222222, 0.7203551766139644, 0.7929158562556932, 0.6124562880219088, 0.6797131290987202, 0.8915008093840965], [733465.0, 0.715036004983613, 0.7241585002619335, 0.7949459488867071, 0.6028217414983879, 0.6529691587312891, 0.8940136630089071], [733493.0, 0.70694821135375, 0.7168744921255876, 0.7951650838457521, 0.610142436726763, 0.6706130151716179, 0.8939195478737993], [733521.0, 0.7033547563052214, 0.7139128796308853, 0.7943689067825791, 0.633902892450194, 0.6928171403088348, 0.8860526531235046], [733549.0, 0.7012130579407425, 0.7158265423993944, 0.8171150131375635, 0.6272353416225431, 0.6826412122577127, 0.8722350858561855], [733577.0, 0.6976640588299562, 0.7106190250082959, 0.8016737860049992, 0.6387842369342637, 0.7069379548867849, 0.9013441301924133], [733605.0, 0.6920889000130094, 0.7081719645277104, 0.8018812974315707, 0.6306108177637924, 0.6958609769081514, 0.9539538839821422], [733633.0, 0.6881625614399994, 0.704291862514537, 0.805729586150681, 0.6530655286398046, 0.7208030467532202, 0.9567648958719368], [733661.0, 0.6819624172259058, 0.7021160839603119, 0.7806548535774488, 0.659080466581934, 0.7331878422137618, 0.9554680883921878], [733689.0, 0.6828449948724455, 0.692866970583689, 0.7820280172469155, 0.6803176617870118, 0.7517148695985877, 0.950931514292474], [733717.0, 0.6873043310135245, 0.7021705635485269, 0.788854653859327, 0.6738075225769984, 0.7399164981936692, 0.9517505393531575], [733745.0, 0.6847779532065601, 0.7002326354884632, 0.7950995425080888, 0.6579867992059866, 0.7375766764000905, 0.866504238530382], [733780.0, 0.6635715462860027, 0.6764196629963765, 0.7720234018686899, 0.6759784769947044, 0.7401735255773306, 0.8969492674582478], [733808.0, 0.6725479288472294, 0.6897911030550199, 0.7770539887735045, 0.6689547487279939, 0.7420025808939923, 0.8936276710272661], [733836.0, 0.6673626860025291, 0.6778365065477384, 0.7779810534881128, 0.6800162681417178, 0.75967595801015, 0.8830266834569377], [733871.0, 0.659767872534297, 0.6716277712248331, 0.7662427865267853, 0.7048474825124543, 0.7832177995991632, 0.9228220357861894], [733899.0, 0.6669333806279657, 0.6792088367247464, 0.7623380342642585, 0.6970524782788897, 0.7751090193917478, 0.9130662189148582], [733927.0, 0.6718544158311315, 0.6855519693176801, 0.7759653494294465, 0.679785083864633, 0.7641984568177975, 0.8828584528729317], [733955.0, 0.6772857114664091, 0.6919614427580343, 0.7788579005903689, 0.6586927415832408, 0.7527082693937933, 0.9075597571634525], [733983.0, 0.6738278642433588, 0.6859143881740487, 0.7643954309694484, 0.6729111188043969, 0.7556590993677202, 0.908230583038579], [734011.0, 0.680433026134503, 0.6969366246288411, 0.7826713031290689, 0.6626144114642838, 0.7517117729914197, 0.906772743705661], [734039.0, 0.6731184711962513, 0.6868999939889439, 0.775024699808895, 0.6726047858271043, 0.7489040590694811, 0.9087879618480149], [734067.0, 0.670303356156659, 0.6851491986572927, 0.7439871483757202, 0.6778303331029044, 0.7531372659820362, 0.90809818118059], [734095.0, 0.6724703537833088, 0.6890112649692179, 0.7494069595527673, 0.6822933440224591, 0.7560881401248771, 0.9084940091205342], [734123.0, 0.6667732326697559, 0.6867288663502258, 0.7494069595527673, 0.7060177662921536, 0.7858047614087894, 0.9110680917836581], [734144.0, 0.6876740419130771, 0.7051967362804057, 0.7793359701629038, 0.7138201172851124, 0.7845435899100737, 0.9174556781153566], [734151.0, 0.6855653846245467, 0.7012486702289892, 0.771496411573185, 0.729447445552567, 0.7874591328108415, 0.9174825069758055], [734179.0, 0.6845936431276038, 0.7003373605109108, 0.7913698276695575, 0.7271340494560588, 0.7894680869764941, 0.9041691711719577], [734207.0, 0.6846973929631398, 0.7058487020484221, 0.7962340390469754, 0.6971805494938826, 0.7739835901513926, 0.9108553657432299], [734235.0, 0.6840367956593976, 0.6995946906266264, 0.7954319134145756, 0.701987298022709, 0.7757334518232885, 0.8870381942896322], [734263.0, 0.6834080550511471, 0.7016861522722135, 0.8087414166336488, 0.6912762915921369, 0.7612189804552951, 0.9011494153107484], [734291.0, 0.6854050131711107, 0.705043714197118, 0.811092888406492, 0.697564686741081, 0.7758455760871358, 0.9192300302136416], [734319.0, 0.6855817321836255, 0.6995529291830681, 0.811442288189378, 0.704364780592341, 0.7769674550741085, 0.9472929168891897], [734347.0, 0.688836301403977, 0.7046133795717998, 0.8116068586901077, 0.6912849943885925, 0.7709015903814682, 0.919783639382479], [734375.0, 0.702977242744476, 0.7219560002142169, 0.8034938220812916, 0.6697606114911224, 0.7518211196697406, 0.9528497084664852], [734403.0, 0.708588008643538, 0.7313226206394141, 0.8041289573570365, 0.6473587754238963, 0.742417756963125, 0.8978273037742961], [734431.0, 0.6988076431102767, 0.7180574335808471, 0.8036024546209358, 0.6524663620427604, 0.7441574378192267, 0.8901863232791017], [734459.0, 0.7046492413588213, 0.7173782481786319, 0.7751728598693304, 0.643717678115691, 0.7289910826202656, 0.892704534628565], [734487.0, 0.7064658085554982, 0.7176984190803677, 0.7820183467329931, 0.6470391019217149, 0.7229099571054415, 0.891943673238943], [734508.0, 0.693650954720539, 0.7136369926927622, 0.7709898720478073, 0.659861848473433, 0.7231488073506611, 0.9058702821967575], [734515.0, 0.6934517727541555, 0.7124871458779842, 0.7666496858527485, 0.6575518559731955, 0.726761433837837, 0.9064402747026358], [734543.0, 0.6926438312342471, 0.7058617242359729, 0.7736899269778768, 0.6684248475328207, 0.72235120196089, 0.9065797468994568], [734571.0, 0.6896606957701422, 0.7060296894623492, 0.7776608268363691, 0.6648138499252036, 0.7138599076227256, 0.8977432865144505], [734606.0, 0.695368350280542, 0.7081362940015998, 0.7711720193028362, 0.6656362622316045, 0.7215205880047943, 0.9096801694837835], [734634.0, 0.6949811895977953, 0.7117304212006726, 0.7748818208343282, 0.6557519704137026, 0.7151701538676749, 0.8927312194710023], [734662.0, 0.702941979244604, 0.7131359576369641, 0.7726579123376083, 0.648956568553226, 0.6999035714955297, 0.9294377448646957], [734690.0, 0.6989764609222716, 0.7147477818315782, 0.7671793227565472, 0.6392740582464548, 0.7006867571230625, 0.9315437649683174], [734718.0, 0.7018917535674603, 0.7190772348867998, 0.77116934995226, 0.6246660614563502, 0.6761994636664238, 0.9217358855082372], [734746.0, 0.701280319423117, 0.7183438049429562, 0.7776349033831036, 0.6288196552814288, 0.6842838444100243, 0.8942624280409968], [734774.0, 0.6991946491009361, 0.7129108705209919, 0.7900771732721402, 0.6260598270556257, 0.689867072078456, 0.8726399307759587], [734802.0, 0.7068791413104488, 0.7222158936075354, 0.786932817148942, 0.6198162660720601, 0.6855439425880079, 0.8497325974471109], [734830.0, 0.7074665389190911, 0.7234463233546139, 0.7893355421042847, 0.6286663263590887, 0.6763476893659865, 0.8416786396874962], [734858.0, 0.699775467029579, 0.7156755120388879, 0.7891263890921317, 0.6221455133070274, 0.6811044096837253, 0.8456294468189351], [734872.0, 0.6915818565839325, 0.7073924225575824, 0.8001254344578568, 0.624976492767488, 0.6761206147990988, 0.8345826080229126], [734886.0, 0.6870407551199231, 0.704662655956515, 0.800817288750533, 0.6210975115347587, 0.680275276742537, 0.8345826080229126], [734914.0, 0.6837865367414169, 0.7002247173504847, 0.8167937091022476, 0.6307162234591913, 0.6856931442145566, 0.8345826080229126], [734942.0, 0.6829345938980068, 0.7022203177126315, 0.818219974230163, 0.6188594058159436, 0.6898236862745728, 0.8904371209092076], [734970.0, 0.6831099591785833, 0.7048141607765435, 0.8026333957339207, 0.6253862266177226, 0.6771343831458105, 0.8453612581263691], [734998.0, 0.6777520179950041, 0.701313413533047, 0.7875867343044219, 0.6330821648500861, 0.6873986209854724, 0.8834664027153505], [735026.0, 0.6754859093056372, 0.7028445739291235, 0.7857935202060378, 0.6365523831145783, 0.68191251959248, 0.860817934079138], [735054.0, 0.6782878260878575, 0.6950853871695263, 0.7848559218888702, 0.6343031794660166, 0.6806372973474466, 0.89121327867197], [735082.0, 0.6733399120654908, 0.6889389470881214, 0.7664122500947671, 0.6352934143029648, 0.6816069126245633, 0.8917260111804818], [735110.0, 0.677618330355386, 0.6988218245275956, 0.7826198133309377, 0.6345960714931733, 0.6826462439949459, 0.8487132965516503], [735138.0, 0.6715254721291323, 0.6876357195712562, 0.7631150929270343, 0.6395485946314593, 0.6945063943601929, 0.8490615593886637], [735166.0, 0.6664312323498303, 0.6863340895555285, 0.7629217253270815, 0.6479417252091636, 0.7060532944854138, 0.9131575598064605], [735194.0, 0.6641041576902009, 0.6866814493792959, 0.7700013286555186, 0.642474897982823, 0.7080713763852788, 0.954028931706318], [735222.0, 0.6640394940780098, 0.6848385000152688, 0.7737472546181384, 0.6438027821475789, 0.7040730415830256, 0.9546174397631862], [735236.0, 0.6802042794678484, 0.7068958694354939, 0.7930200996547987, 0.642890506730374, 0.7058477346185673, 0.9541541382896925], [735250.0, 0.6788977845978603, 0.7060456026139272, 0.8022462405785407, 0.6455691782789246, 0.707197523196424, 0.9558724237763916], [735278.0, 0.6833858511227283, 0.7078208066862538, 0.8096250813003382, 0.6427187244975558, 0.7063777943001002, 0.9224866440824189], [735306.0, 0.6819788596715102, 0.7078189666069239, 0.8005919133536988, 0.6434539855141601, 0.7064087506916268, 0.9172371798693368], [735334.0, 0.6872684809914423, 0.7087011173345322, 0.8058856029830878, 0.6378443016640487, 0.6947909174568718, 0.9042982424362568], [735362.0, 0.6875607104582621, 0.7063453155476347, 0.806781513035909, 0.6139964025714099, 0.6787287097317143, 0.8516854312982757], [735390.0, 0.6811792492545474, 0.7016733099662409, 0.7976311193156205, 0.6418809969638617, 0.7071026676087718, 0.8841715476491365], [735425.0, 0.6844443263442296, 0.702285872214036, 0.7976311193156205, 0.6423750280525301, 0.706847806836054, 0.8839897876968391], [735453.0, 0.6864746208846404, 0.704273293574511, 0.8054138240056697, 0.6360233584034268, 0.7048628159613166, 0.9049603303534289], [735481.0, 0.6849226071881722, 0.704459235278055, 0.8042629038760755, 0.6432837049023401, 0.7118521961896791, 0.9049603303534289], [735509.0, 0.6866946636307701, 0.7056280529662229, 0.8060631619836041, 0.630651323267476, 0.6888866485439522, 0.8568574402905231], [735537.0, 0.6821686119967935, 0.6994574688976046, 0.7987720393387939, 0.6231349053987407, 0.6877175872975931, 0.8469079337549851], [735565.0, 0.6793715672704241, 0.6957274861484365, 0.7820437400395658, 0.6195886383159109, 0.6793802216238713, 0.8701747754266806], [735593.0, 0.6791649674851644, 0.6979306467959476, 0.7820437400395658, 0.6130356499935204, 0.6638243744083765, 0.8488162972148571], [735600.0, 0.7042017281105313, 0.7256654463869281, 0.8161564665875406, 0.6116549615263877, 0.6728446348799868, 0.8675276510594296], [735621.0, 0.7022191004798815, 0.7240380994726088, 0.8265054702219812, 0.6086151502556221, 0.6667968987891784, 0.865554949662528], [735649.0, 0.6951242467674575, 0.7147838140012621, 0.8057325848808717, 0.6127335514679533, 0.6692241282642803, 0.861414491408093], [735677.0, 0.6961523813552539, 0.7157424925618052, 0.8261243569717357, 0.6174444439363037, 0.6650365896346785, 0.865554949662528], [735705.0, 0.6972252526715856, 0.7136445994812752, 0.8267613302743131, 0.6222451922477291, 0.6785768626181334, 0.8678249638100077], [735733.0, 0.6978309662822133, 0.7162545772560384, 0.8155169745146005, 0.6169063697586626, 0.6932157256596198, 0.8813896321307741], [735761.0, 0.6982464589267552, 0.7163725987544336, 0.8166539268765287, 0.618499941974225, 0.6934989960750881, 0.8921780384361178], [735789.0, 0.6990556368387393, 0.7159060926167824, 0.8155412071653788, 0.6132664471915035, 0.6810171165050461, 0.8705682292596675], [735817.0, 0.7019571763574476, 0.7181657187439833, 0.8127023361673582, 0.6020152845157667, 0.6606943196019248, 0.8652593857416613], [735845.0, 0.7063226520678401, 0.720700387255853, 0.8116269620641025, 0.5936236989880307, 0.6638404136643333, 0.8710281092489031], [735873.0, 0.7026337079766114, 0.7226981491169604, 0.8100140032283057, 0.5817182543509756, 0.6558851967092001, 0.8756999268443643], [735901.0, 0.6998071488512636, 0.7139587286441242, 0.8119373230296668, 0.5881933933647298, 0.6550293895471404, 0.8778570171510041], [735929.0, 0.6998071488512636, 0.7148216855360601, 0.7852407041861894, 0.5850528548843624, 0.6402698357786318, 0.8801238522871454], [735971.0, 0.7126307835799626, 0.7367289500901714, 0.800151024382359, 0.5873495791115715, 0.6402442989948274, 0.8797102353649947], [735999.0, 0.7129551395837903, 0.7336470464333249, 0.800151024382359, 0.5749992810589897, 0.6256042695928061, 0.8751235101188543], [736027.0, 0.7022308814035577, 0.728855123042971, 0.7894124960982014, 0.5796369737421337, 0.6414168401946065, 0.8769355963420182], [736055.0, 0.7010266796908777, 0.7219266894705931, 0.7860672389120522, 0.579018825720459, 0.6355865084341483, 0.8778894225926457], [736083.0, 0.7028516772898028, 0.7233221235925945, 0.7911219897695901, 0.5846048084727316, 0.6409379204938671, 0.9087962836251327], [736111.0, 0.7002364638367943, 0.7231650081120728, 0.7892599050035459, 0.5758489379524514, 0.6383393682240326, 0.9013891607295778], [736139.0, 0.7037754668402216, 0.727694802166237, 0.7798025579267781, 0.5770697515923183, 0.6297708539704419, 0.8996514961035119], [736167.0, 0.697983646948611, 0.7174436592409389, 0.7771019722836722, 0.585188318950309, 0.6412381377868849, 0.9007395737298911], [736195.0, 0.6968773836197032, 0.718798231185017, 0.7724056667375263, 0.586781488657261, 0.6434671407039274, 0.8994194219210051], [736223.0, 0.6985432961976841, 0.7270046100538591, 0.7853826943122106, 0.5827343027394395, 0.6454014624039989, 0.9191419224981878], [736251.0, 0.6979361052634714, 0.7248658628548212, 0.7849584759415033, 0.5836071102409736, 0.6412360696700581, 0.9085072213613076], [736279.0, 0.7007259810542634, 0.7223746013423303, 0.7933218795250649, 0.5801942658801595, 0.629480372269797, 0.8764218721180015], [736307.0, 0.6946480282596081, 0.7191659261126713, 0.7874248841473896, 0.5807925289346211, 0.6325325844105123, 0.8731342872500967]]}, \"id\": \"el7874549875280\"});\n",
       "   }(mpld3);\n",
       "}else if(typeof define === \"function\" && define.amd){\n",
       "   // require.js is available: use it to load d3/mpld3\n",
       "   require.config({paths: {d3: \"https://mpld3.github.io/js/d3.v3.min\"}});\n",
       "   require([\"d3\"], function(d3){\n",
       "      window.d3 = d3;\n",
       "      mpld3_load_lib(\"https://mpld3.github.io/js/mpld3.v0.3.js\", function(){\n",
       "         \n",
       "         mpld3.draw_figure(\"fig_el78745498752807601341616\", {\"axes\": [{\"xlim\": [732499.7, 736488.3], \"yscale\": \"linear\", \"axesbg\": \"#FFFFFF\", \"texts\": [{\"v_baseline\": \"hanging\", \"h_anchor\": \"middle\", \"color\": \"#000000\", \"text\": \"Time Line\", \"coordinates\": \"axes\", \"zorder\": 3, \"alpha\": 1, \"fontsize\": 15.0, \"position\": [0.5, -0.07322175732217584], \"rotation\": -0.0, \"id\": \"el7874730957328\"}, {\"v_baseline\": \"auto\", \"h_anchor\": \"middle\", \"color\": \"#000000\", \"text\": \"Score\", \"coordinates\": \"axes\", \"zorder\": 3, \"alpha\": 1, \"fontsize\": 15.0, \"position\": [-0.05069183191991328, 0.5], \"rotation\": -90.0, \"id\": \"el7874737561872\"}, {\"v_baseline\": \"auto\", \"h_anchor\": \"middle\", \"color\": \"#000000\", \"text\": \"LONG BUY: score vs time\", \"coordinates\": \"axes\", \"zorder\": 3, \"alpha\": 1, \"fontsize\": 20.0, \"position\": [0.5, 1.0209205020920502], \"rotation\": -0.0, \"id\": \"el7874738038736\"}], \"zoomable\": true, \"images\": [], \"xdomain\": [[2006, 6, 7, 16, 48, 0, 0.0], [2017, 5, 8, 7, 12, 0, 0.0]], \"ylim\": [0.6511073937158451, 0.8416379277217857], \"paths\": [], \"sharey\": [], \"sharex\": [], \"axesbgalpha\": null, \"axes\": [{\"scale\": \"linear\", \"tickformat\": null, \"grid\": {\"color\": \"#D3D3D3\", \"alpha\": 0.7, \"dasharray\": \"none\", \"gridOn\": true}, \"visible\": true, \"fontsize\": 10.0, \"position\": \"bottom\", \"nticks\": 11, \"tickvalues\": null}, {\"scale\": \"linear\", \"tickformat\": null, \"grid\": {\"color\": \"#D3D3D3\", \"alpha\": 0.7, \"dasharray\": \"none\", \"gridOn\": true}, \"visible\": true, \"fontsize\": 10.0, \"position\": \"left\", \"nticks\": 9, \"tickvalues\": null}], \"lines\": [{\"drawstyle\": \"default\", \"color\": \"#1F77B4\", \"yindex\": 1, \"coordinates\": \"data\", \"dasharray\": \"none\", \"zorder\": 2, \"alpha\": 1, \"xindex\": 0, \"linewidth\": 1.5, \"data\": \"data01\", \"id\": \"el7874737994320\"}, {\"drawstyle\": \"default\", \"color\": \"#FF7F0E\", \"yindex\": 2, \"coordinates\": \"data\", \"dasharray\": \"none\", \"zorder\": 2, \"alpha\": 1, \"xindex\": 0, \"linewidth\": 1.5, \"data\": \"data01\", \"id\": \"el7874765106576\"}, {\"drawstyle\": \"default\", \"color\": \"#2CA02C\", \"yindex\": 3, \"coordinates\": \"data\", \"dasharray\": \"none\", \"zorder\": 2, \"alpha\": 1, \"xindex\": 0, \"linewidth\": 1.5, \"data\": \"data01\", \"id\": \"el7874765109456\"}], \"markers\": [], \"id\": \"el7874730893392\", \"ydomain\": [0.6511073937158451, 0.8416379277217857], \"collections\": [], \"xscale\": \"date\", \"bbox\": [0.07586805555555555, 0.5574999999999999, 0.9075810185185186, 0.39833333333333343]}, {\"xlim\": [732499.7, 736488.3], \"yscale\": \"linear\", \"axesbg\": \"#FFFFFF\", \"texts\": [{\"v_baseline\": \"hanging\", \"h_anchor\": \"middle\", \"color\": \"#000000\", \"text\": \"Time Line\", \"coordinates\": \"axes\", \"zorder\": 3, \"alpha\": 1, \"fontsize\": 15.0, \"position\": [0.5, -0.07322175732217573], \"rotation\": -0.0, \"id\": \"el7874737766928\"}, {\"v_baseline\": \"auto\", \"h_anchor\": \"middle\", \"color\": \"#000000\", \"text\": \"Score\", \"coordinates\": \"axes\", \"zorder\": 3, \"alpha\": 1, \"fontsize\": 15.0, \"position\": [-0.04256200981954983, 0.5], \"rotation\": -90.0, \"id\": \"el7874737848528\"}, {\"v_baseline\": \"auto\", \"h_anchor\": \"middle\", \"color\": \"#000000\", \"text\": \"SHORT SELL: score vs time\", \"coordinates\": \"axes\", \"zorder\": 3, \"alpha\": 1, \"fontsize\": 20.0, \"position\": [0.5, 1.0209205020920502], \"rotation\": -0.0, \"id\": \"el7874737894032\"}], \"zoomable\": true, \"images\": [], \"xdomain\": [[2006, 6, 7, 16, 48, 0, 0.0], [2017, 5, 8, 7, 12, 0, 0.0]], \"ylim\": [0.5553440798302687, 0.9877585068621296], \"paths\": [], \"sharey\": [], \"sharex\": [], \"axesbgalpha\": null, \"axes\": [{\"scale\": \"linear\", \"tickformat\": null, \"grid\": {\"color\": \"#D3D3D3\", \"alpha\": 0.7, \"dasharray\": \"none\", \"gridOn\": true}, \"visible\": true, \"fontsize\": 10.0, \"position\": \"bottom\", \"nticks\": 11, \"tickvalues\": null}, {\"scale\": \"linear\", \"tickformat\": null, \"grid\": {\"color\": \"#D3D3D3\", \"alpha\": 0.7, \"dasharray\": \"none\", \"gridOn\": true}, \"visible\": true, \"fontsize\": 10.0, \"position\": \"left\", \"nticks\": 10, \"tickvalues\": null}], \"lines\": [{\"drawstyle\": \"default\", \"color\": \"#1F77B4\", \"yindex\": 4, \"coordinates\": \"data\", \"dasharray\": \"none\", \"zorder\": 2, \"alpha\": 1, \"xindex\": 0, \"linewidth\": 1.5, \"data\": \"data01\", \"id\": \"el7874737895824\"}, {\"drawstyle\": \"default\", \"color\": \"#FF7F0E\", \"yindex\": 5, \"coordinates\": \"data\", \"dasharray\": \"none\", \"zorder\": 2, \"alpha\": 1, \"xindex\": 0, \"linewidth\": 1.5, \"data\": \"data01\", \"id\": \"el7874549876560\"}, {\"drawstyle\": \"default\", \"color\": \"#2CA02C\", \"yindex\": 6, \"coordinates\": \"data\", \"dasharray\": \"none\", \"zorder\": 2, \"alpha\": 1, \"xindex\": 0, \"linewidth\": 1.5, \"data\": \"data01\", \"id\": \"el7874549875728\"}], \"markers\": [], \"id\": \"el7874737705552\", \"ydomain\": [0.5553440798302687, 0.9877585068621296], \"collections\": [], \"xscale\": \"date\", \"bbox\": [0.07586805555555555, 0.06499999999999984, 0.9075810185185186, 0.39833333333333343]}], \"height\": 720.0, \"width\": 864.0, \"plugins\": [{\"type\": \"reset\"}, {\"enabled\": false, \"button\": true, \"type\": \"zoom\"}, {\"enabled\": false, \"button\": true, \"type\": \"boxzoom\"}], \"data\": {\"data01\": [[732681.0, 0.7108400928066204, 0.7281405385912838, 0.8140509529447283, 0.755630394551581, 0.8122238805632995, 0.9100314497751019], [732709.0, 0.7137408235156792, 0.7325565681074988, 0.8116553627717281, 0.755630394551581, 0.8189147040419387, 0.9175493022568205], [732737.0, 0.7251063678866136, 0.7441616181288323, 0.8115912567550081, 0.76013363572942, 0.8232388542060293, 0.9239230164488104], [732765.0, 0.7093209917684318, 0.7324705936036896, 0.812277576207805, 0.7652456909586937, 0.8144805824995485, 0.9239230164488104], [732793.0, 0.7040618784087757, 0.7274575044522225, 0.7878793111482507, 0.7672374284911493, 0.8112230287898513, 0.9229246209507975], [732821.0, 0.7014431819601403, 0.7131088230898546, 0.8003787856865664, 0.7540956938900123, 0.8068088060949484, 0.9116715358524925], [732849.0, 0.6980635078875556, 0.7135347073977476, 0.7912053565240611, 0.7576026237166072, 0.8057316107434848, 0.9030955321069671], [732877.0, 0.6928799035540784, 0.7101152044218713, 0.7933398925101965, 0.7562386714095864, 0.8088389276202521, 0.8872494460820265], [732905.0, 0.7053825807455868, 0.7175749091868708, 0.793644616793942, 0.7371876210466987, 0.801328903689535, 0.9164336885142605], [732933.0, 0.7018262551947306, 0.7213035348687039, 0.7922235864682203, 0.7477457534849625, 0.804249710069859, 0.9160763208141954], [732961.0, 0.6992994129024821, 0.7158059222974128, 0.7826059824007358, 0.7540835131069203, 0.8071613289181447, 0.9166217840427437], [732989.0, 0.7176424577040564, 0.7349250566223863, 0.7961716871772822, 0.7497980430868606, 0.8105728510423362, 0.9211798017425257], [733017.0, 0.7081771371688509, 0.7259507272169448, 0.8150880690724882, 0.7464123282650666, 0.8130067771947822, 0.9073130285363352], [733045.0, 0.7303449812517689, 0.7489019164432258, 0.8255468496827184, 0.7374374349829934, 0.7999697911674672, 0.8992811742512926], [733073.0, 0.7322481430955339, 0.7550830934284863, 0.828628142311747, 0.7331210118527941, 0.7976500203899844, 0.8976810730234307], [733101.0, 0.7359042086191641, 0.7561212491857736, 0.8329774489033338, 0.7185754999882983, 0.7955145847676892, 0.9681033056334086], [733129.0, 0.734021620856326, 0.7546652418971015, 0.8244420366310582, 0.7208492024455441, 0.7816822052580235, 0.9677993258481132], [733157.0, 0.7323794656728011, 0.7517806601824186, 0.8218193649874401, 0.7177899098665741, 0.779613281521885, 0.9659542085709785], [733185.0, 0.7303553385094103, 0.7499576491587685, 0.825947041422129, 0.7296386610363335, 0.7890222732455036, 0.9659542085709785], [733213.0, 0.7303332689604898, 0.752254397259291, 0.8154741001127879, 0.7320463074224809, 0.7873497512661085, 0.9647468480060604], [733241.0, 0.7311339086902193, 0.7512032349433835, 0.8256010060119753, 0.7229120391043661, 0.7816802100306478, 0.9652538133221216], [733269.0, 0.7264029287100406, 0.745193461957443, 0.8258057536382342, 0.7127906460974432, 0.7853054299617955, 0.9002037953910071], [733297.0, 0.734294290487755, 0.7500709550456999, 0.826357695034598, 0.6957182900208548, 0.7573310363591812, 0.8912360567653478], [733325.0, 0.742402018891285, 0.7601653038399837, 0.8307705634758042, 0.6433397920518025, 0.7220559103010576, 0.8823394336427267], [733353.0, 0.7451212099888168, 0.7588245447377263, 0.8100720446119014, 0.6343123045324004, 0.7279831720215664, 0.8823394336427267], [733381.0, 0.7440419796928093, 0.7549771807410945, 0.8084724801007985, 0.6040227392077655, 0.6905189455347933, 0.9105941168744648], [733409.0, 0.7071335788185765, 0.721919841979372, 0.7997422551590645, 0.6254624122187352, 0.6899795063807898, 0.891516705999279], [733437.0, 0.7093520802222222, 0.7203551766139644, 0.7929158562556932, 0.6124562880219088, 0.6797131290987202, 0.8915008093840965], [733465.0, 0.715036004983613, 0.7241585002619335, 0.7949459488867071, 0.6028217414983879, 0.6529691587312891, 0.8940136630089071], [733493.0, 0.70694821135375, 0.7168744921255876, 0.7951650838457521, 0.610142436726763, 0.6706130151716179, 0.8939195478737993], [733521.0, 0.7033547563052214, 0.7139128796308853, 0.7943689067825791, 0.633902892450194, 0.6928171403088348, 0.8860526531235046], [733549.0, 0.7012130579407425, 0.7158265423993944, 0.8171150131375635, 0.6272353416225431, 0.6826412122577127, 0.8722350858561855], [733577.0, 0.6976640588299562, 0.7106190250082959, 0.8016737860049992, 0.6387842369342637, 0.7069379548867849, 0.9013441301924133], [733605.0, 0.6920889000130094, 0.7081719645277104, 0.8018812974315707, 0.6306108177637924, 0.6958609769081514, 0.9539538839821422], [733633.0, 0.6881625614399994, 0.704291862514537, 0.805729586150681, 0.6530655286398046, 0.7208030467532202, 0.9567648958719368], [733661.0, 0.6819624172259058, 0.7021160839603119, 0.7806548535774488, 0.659080466581934, 0.7331878422137618, 0.9554680883921878], [733689.0, 0.6828449948724455, 0.692866970583689, 0.7820280172469155, 0.6803176617870118, 0.7517148695985877, 0.950931514292474], [733717.0, 0.6873043310135245, 0.7021705635485269, 0.788854653859327, 0.6738075225769984, 0.7399164981936692, 0.9517505393531575], [733745.0, 0.6847779532065601, 0.7002326354884632, 0.7950995425080888, 0.6579867992059866, 0.7375766764000905, 0.866504238530382], [733780.0, 0.6635715462860027, 0.6764196629963765, 0.7720234018686899, 0.6759784769947044, 0.7401735255773306, 0.8969492674582478], [733808.0, 0.6725479288472294, 0.6897911030550199, 0.7770539887735045, 0.6689547487279939, 0.7420025808939923, 0.8936276710272661], [733836.0, 0.6673626860025291, 0.6778365065477384, 0.7779810534881128, 0.6800162681417178, 0.75967595801015, 0.8830266834569377], [733871.0, 0.659767872534297, 0.6716277712248331, 0.7662427865267853, 0.7048474825124543, 0.7832177995991632, 0.9228220357861894], [733899.0, 0.6669333806279657, 0.6792088367247464, 0.7623380342642585, 0.6970524782788897, 0.7751090193917478, 0.9130662189148582], [733927.0, 0.6718544158311315, 0.6855519693176801, 0.7759653494294465, 0.679785083864633, 0.7641984568177975, 0.8828584528729317], [733955.0, 0.6772857114664091, 0.6919614427580343, 0.7788579005903689, 0.6586927415832408, 0.7527082693937933, 0.9075597571634525], [733983.0, 0.6738278642433588, 0.6859143881740487, 0.7643954309694484, 0.6729111188043969, 0.7556590993677202, 0.908230583038579], [734011.0, 0.680433026134503, 0.6969366246288411, 0.7826713031290689, 0.6626144114642838, 0.7517117729914197, 0.906772743705661], [734039.0, 0.6731184711962513, 0.6868999939889439, 0.775024699808895, 0.6726047858271043, 0.7489040590694811, 0.9087879618480149], [734067.0, 0.670303356156659, 0.6851491986572927, 0.7439871483757202, 0.6778303331029044, 0.7531372659820362, 0.90809818118059], [734095.0, 0.6724703537833088, 0.6890112649692179, 0.7494069595527673, 0.6822933440224591, 0.7560881401248771, 0.9084940091205342], [734123.0, 0.6667732326697559, 0.6867288663502258, 0.7494069595527673, 0.7060177662921536, 0.7858047614087894, 0.9110680917836581], [734144.0, 0.6876740419130771, 0.7051967362804057, 0.7793359701629038, 0.7138201172851124, 0.7845435899100737, 0.9174556781153566], [734151.0, 0.6855653846245467, 0.7012486702289892, 0.771496411573185, 0.729447445552567, 0.7874591328108415, 0.9174825069758055], [734179.0, 0.6845936431276038, 0.7003373605109108, 0.7913698276695575, 0.7271340494560588, 0.7894680869764941, 0.9041691711719577], [734207.0, 0.6846973929631398, 0.7058487020484221, 0.7962340390469754, 0.6971805494938826, 0.7739835901513926, 0.9108553657432299], [734235.0, 0.6840367956593976, 0.6995946906266264, 0.7954319134145756, 0.701987298022709, 0.7757334518232885, 0.8870381942896322], [734263.0, 0.6834080550511471, 0.7016861522722135, 0.8087414166336488, 0.6912762915921369, 0.7612189804552951, 0.9011494153107484], [734291.0, 0.6854050131711107, 0.705043714197118, 0.811092888406492, 0.697564686741081, 0.7758455760871358, 0.9192300302136416], [734319.0, 0.6855817321836255, 0.6995529291830681, 0.811442288189378, 0.704364780592341, 0.7769674550741085, 0.9472929168891897], [734347.0, 0.688836301403977, 0.7046133795717998, 0.8116068586901077, 0.6912849943885925, 0.7709015903814682, 0.919783639382479], [734375.0, 0.702977242744476, 0.7219560002142169, 0.8034938220812916, 0.6697606114911224, 0.7518211196697406, 0.9528497084664852], [734403.0, 0.708588008643538, 0.7313226206394141, 0.8041289573570365, 0.6473587754238963, 0.742417756963125, 0.8978273037742961], [734431.0, 0.6988076431102767, 0.7180574335808471, 0.8036024546209358, 0.6524663620427604, 0.7441574378192267, 0.8901863232791017], [734459.0, 0.7046492413588213, 0.7173782481786319, 0.7751728598693304, 0.643717678115691, 0.7289910826202656, 0.892704534628565], [734487.0, 0.7064658085554982, 0.7176984190803677, 0.7820183467329931, 0.6470391019217149, 0.7229099571054415, 0.891943673238943], [734508.0, 0.693650954720539, 0.7136369926927622, 0.7709898720478073, 0.659861848473433, 0.7231488073506611, 0.9058702821967575], [734515.0, 0.6934517727541555, 0.7124871458779842, 0.7666496858527485, 0.6575518559731955, 0.726761433837837, 0.9064402747026358], [734543.0, 0.6926438312342471, 0.7058617242359729, 0.7736899269778768, 0.6684248475328207, 0.72235120196089, 0.9065797468994568], [734571.0, 0.6896606957701422, 0.7060296894623492, 0.7776608268363691, 0.6648138499252036, 0.7138599076227256, 0.8977432865144505], [734606.0, 0.695368350280542, 0.7081362940015998, 0.7711720193028362, 0.6656362622316045, 0.7215205880047943, 0.9096801694837835], [734634.0, 0.6949811895977953, 0.7117304212006726, 0.7748818208343282, 0.6557519704137026, 0.7151701538676749, 0.8927312194710023], [734662.0, 0.702941979244604, 0.7131359576369641, 0.7726579123376083, 0.648956568553226, 0.6999035714955297, 0.9294377448646957], [734690.0, 0.6989764609222716, 0.7147477818315782, 0.7671793227565472, 0.6392740582464548, 0.7006867571230625, 0.9315437649683174], [734718.0, 0.7018917535674603, 0.7190772348867998, 0.77116934995226, 0.6246660614563502, 0.6761994636664238, 0.9217358855082372], [734746.0, 0.701280319423117, 0.7183438049429562, 0.7776349033831036, 0.6288196552814288, 0.6842838444100243, 0.8942624280409968], [734774.0, 0.6991946491009361, 0.7129108705209919, 0.7900771732721402, 0.6260598270556257, 0.689867072078456, 0.8726399307759587], [734802.0, 0.7068791413104488, 0.7222158936075354, 0.786932817148942, 0.6198162660720601, 0.6855439425880079, 0.8497325974471109], [734830.0, 0.7074665389190911, 0.7234463233546139, 0.7893355421042847, 0.6286663263590887, 0.6763476893659865, 0.8416786396874962], [734858.0, 0.699775467029579, 0.7156755120388879, 0.7891263890921317, 0.6221455133070274, 0.6811044096837253, 0.8456294468189351], [734872.0, 0.6915818565839325, 0.7073924225575824, 0.8001254344578568, 0.624976492767488, 0.6761206147990988, 0.8345826080229126], [734886.0, 0.6870407551199231, 0.704662655956515, 0.800817288750533, 0.6210975115347587, 0.680275276742537, 0.8345826080229126], [734914.0, 0.6837865367414169, 0.7002247173504847, 0.8167937091022476, 0.6307162234591913, 0.6856931442145566, 0.8345826080229126], [734942.0, 0.6829345938980068, 0.7022203177126315, 0.818219974230163, 0.6188594058159436, 0.6898236862745728, 0.8904371209092076], [734970.0, 0.6831099591785833, 0.7048141607765435, 0.8026333957339207, 0.6253862266177226, 0.6771343831458105, 0.8453612581263691], [734998.0, 0.6777520179950041, 0.701313413533047, 0.7875867343044219, 0.6330821648500861, 0.6873986209854724, 0.8834664027153505], [735026.0, 0.6754859093056372, 0.7028445739291235, 0.7857935202060378, 0.6365523831145783, 0.68191251959248, 0.860817934079138], [735054.0, 0.6782878260878575, 0.6950853871695263, 0.7848559218888702, 0.6343031794660166, 0.6806372973474466, 0.89121327867197], [735082.0, 0.6733399120654908, 0.6889389470881214, 0.7664122500947671, 0.6352934143029648, 0.6816069126245633, 0.8917260111804818], [735110.0, 0.677618330355386, 0.6988218245275956, 0.7826198133309377, 0.6345960714931733, 0.6826462439949459, 0.8487132965516503], [735138.0, 0.6715254721291323, 0.6876357195712562, 0.7631150929270343, 0.6395485946314593, 0.6945063943601929, 0.8490615593886637], [735166.0, 0.6664312323498303, 0.6863340895555285, 0.7629217253270815, 0.6479417252091636, 0.7060532944854138, 0.9131575598064605], [735194.0, 0.6641041576902009, 0.6866814493792959, 0.7700013286555186, 0.642474897982823, 0.7080713763852788, 0.954028931706318], [735222.0, 0.6640394940780098, 0.6848385000152688, 0.7737472546181384, 0.6438027821475789, 0.7040730415830256, 0.9546174397631862], [735236.0, 0.6802042794678484, 0.7068958694354939, 0.7930200996547987, 0.642890506730374, 0.7058477346185673, 0.9541541382896925], [735250.0, 0.6788977845978603, 0.7060456026139272, 0.8022462405785407, 0.6455691782789246, 0.707197523196424, 0.9558724237763916], [735278.0, 0.6833858511227283, 0.7078208066862538, 0.8096250813003382, 0.6427187244975558, 0.7063777943001002, 0.9224866440824189], [735306.0, 0.6819788596715102, 0.7078189666069239, 0.8005919133536988, 0.6434539855141601, 0.7064087506916268, 0.9172371798693368], [735334.0, 0.6872684809914423, 0.7087011173345322, 0.8058856029830878, 0.6378443016640487, 0.6947909174568718, 0.9042982424362568], [735362.0, 0.6875607104582621, 0.7063453155476347, 0.806781513035909, 0.6139964025714099, 0.6787287097317143, 0.8516854312982757], [735390.0, 0.6811792492545474, 0.7016733099662409, 0.7976311193156205, 0.6418809969638617, 0.7071026676087718, 0.8841715476491365], [735425.0, 0.6844443263442296, 0.702285872214036, 0.7976311193156205, 0.6423750280525301, 0.706847806836054, 0.8839897876968391], [735453.0, 0.6864746208846404, 0.704273293574511, 0.8054138240056697, 0.6360233584034268, 0.7048628159613166, 0.9049603303534289], [735481.0, 0.6849226071881722, 0.704459235278055, 0.8042629038760755, 0.6432837049023401, 0.7118521961896791, 0.9049603303534289], [735509.0, 0.6866946636307701, 0.7056280529662229, 0.8060631619836041, 0.630651323267476, 0.6888866485439522, 0.8568574402905231], [735537.0, 0.6821686119967935, 0.6994574688976046, 0.7987720393387939, 0.6231349053987407, 0.6877175872975931, 0.8469079337549851], [735565.0, 0.6793715672704241, 0.6957274861484365, 0.7820437400395658, 0.6195886383159109, 0.6793802216238713, 0.8701747754266806], [735593.0, 0.6791649674851644, 0.6979306467959476, 0.7820437400395658, 0.6130356499935204, 0.6638243744083765, 0.8488162972148571], [735600.0, 0.7042017281105313, 0.7256654463869281, 0.8161564665875406, 0.6116549615263877, 0.6728446348799868, 0.8675276510594296], [735621.0, 0.7022191004798815, 0.7240380994726088, 0.8265054702219812, 0.6086151502556221, 0.6667968987891784, 0.865554949662528], [735649.0, 0.6951242467674575, 0.7147838140012621, 0.8057325848808717, 0.6127335514679533, 0.6692241282642803, 0.861414491408093], [735677.0, 0.6961523813552539, 0.7157424925618052, 0.8261243569717357, 0.6174444439363037, 0.6650365896346785, 0.865554949662528], [735705.0, 0.6972252526715856, 0.7136445994812752, 0.8267613302743131, 0.6222451922477291, 0.6785768626181334, 0.8678249638100077], [735733.0, 0.6978309662822133, 0.7162545772560384, 0.8155169745146005, 0.6169063697586626, 0.6932157256596198, 0.8813896321307741], [735761.0, 0.6982464589267552, 0.7163725987544336, 0.8166539268765287, 0.618499941974225, 0.6934989960750881, 0.8921780384361178], [735789.0, 0.6990556368387393, 0.7159060926167824, 0.8155412071653788, 0.6132664471915035, 0.6810171165050461, 0.8705682292596675], [735817.0, 0.7019571763574476, 0.7181657187439833, 0.8127023361673582, 0.6020152845157667, 0.6606943196019248, 0.8652593857416613], [735845.0, 0.7063226520678401, 0.720700387255853, 0.8116269620641025, 0.5936236989880307, 0.6638404136643333, 0.8710281092489031], [735873.0, 0.7026337079766114, 0.7226981491169604, 0.8100140032283057, 0.5817182543509756, 0.6558851967092001, 0.8756999268443643], [735901.0, 0.6998071488512636, 0.7139587286441242, 0.8119373230296668, 0.5881933933647298, 0.6550293895471404, 0.8778570171510041], [735929.0, 0.6998071488512636, 0.7148216855360601, 0.7852407041861894, 0.5850528548843624, 0.6402698357786318, 0.8801238522871454], [735971.0, 0.7126307835799626, 0.7367289500901714, 0.800151024382359, 0.5873495791115715, 0.6402442989948274, 0.8797102353649947], [735999.0, 0.7129551395837903, 0.7336470464333249, 0.800151024382359, 0.5749992810589897, 0.6256042695928061, 0.8751235101188543], [736027.0, 0.7022308814035577, 0.728855123042971, 0.7894124960982014, 0.5796369737421337, 0.6414168401946065, 0.8769355963420182], [736055.0, 0.7010266796908777, 0.7219266894705931, 0.7860672389120522, 0.579018825720459, 0.6355865084341483, 0.8778894225926457], [736083.0, 0.7028516772898028, 0.7233221235925945, 0.7911219897695901, 0.5846048084727316, 0.6409379204938671, 0.9087962836251327], [736111.0, 0.7002364638367943, 0.7231650081120728, 0.7892599050035459, 0.5758489379524514, 0.6383393682240326, 0.9013891607295778], [736139.0, 0.7037754668402216, 0.727694802166237, 0.7798025579267781, 0.5770697515923183, 0.6297708539704419, 0.8996514961035119], [736167.0, 0.697983646948611, 0.7174436592409389, 0.7771019722836722, 0.585188318950309, 0.6412381377868849, 0.9007395737298911], [736195.0, 0.6968773836197032, 0.718798231185017, 0.7724056667375263, 0.586781488657261, 0.6434671407039274, 0.8994194219210051], [736223.0, 0.6985432961976841, 0.7270046100538591, 0.7853826943122106, 0.5827343027394395, 0.6454014624039989, 0.9191419224981878], [736251.0, 0.6979361052634714, 0.7248658628548212, 0.7849584759415033, 0.5836071102409736, 0.6412360696700581, 0.9085072213613076], [736279.0, 0.7007259810542634, 0.7223746013423303, 0.7933218795250649, 0.5801942658801595, 0.629480372269797, 0.8764218721180015], [736307.0, 0.6946480282596081, 0.7191659261126713, 0.7874248841473896, 0.5807925289346211, 0.6325325844105123, 0.8731342872500967]]}, \"id\": \"el7874549875280\"});\n",
       "      });\n",
       "    });\n",
       "}else{\n",
       "    // require.js not available: dynamically load d3 & mpld3\n",
       "    mpld3_load_lib(\"https://mpld3.github.io/js/d3.v3.min.js\", function(){\n",
       "         mpld3_load_lib(\"https://mpld3.github.io/js/mpld3.v0.3.js\", function(){\n",
       "                 \n",
       "                 mpld3.draw_figure(\"fig_el78745498752807601341616\", {\"axes\": [{\"xlim\": [732499.7, 736488.3], \"yscale\": \"linear\", \"axesbg\": \"#FFFFFF\", \"texts\": [{\"v_baseline\": \"hanging\", \"h_anchor\": \"middle\", \"color\": \"#000000\", \"text\": \"Time Line\", \"coordinates\": \"axes\", \"zorder\": 3, \"alpha\": 1, \"fontsize\": 15.0, \"position\": [0.5, -0.07322175732217584], \"rotation\": -0.0, \"id\": \"el7874730957328\"}, {\"v_baseline\": \"auto\", \"h_anchor\": \"middle\", \"color\": \"#000000\", \"text\": \"Score\", \"coordinates\": \"axes\", \"zorder\": 3, \"alpha\": 1, \"fontsize\": 15.0, \"position\": [-0.05069183191991328, 0.5], \"rotation\": -90.0, \"id\": \"el7874737561872\"}, {\"v_baseline\": \"auto\", \"h_anchor\": \"middle\", \"color\": \"#000000\", \"text\": \"LONG BUY: score vs time\", \"coordinates\": \"axes\", \"zorder\": 3, \"alpha\": 1, \"fontsize\": 20.0, \"position\": [0.5, 1.0209205020920502], \"rotation\": -0.0, \"id\": \"el7874738038736\"}], \"zoomable\": true, \"images\": [], \"xdomain\": [[2006, 6, 7, 16, 48, 0, 0.0], [2017, 5, 8, 7, 12, 0, 0.0]], \"ylim\": [0.6511073937158451, 0.8416379277217857], \"paths\": [], \"sharey\": [], \"sharex\": [], \"axesbgalpha\": null, \"axes\": [{\"scale\": \"linear\", \"tickformat\": null, \"grid\": {\"color\": \"#D3D3D3\", \"alpha\": 0.7, \"dasharray\": \"none\", \"gridOn\": true}, \"visible\": true, \"fontsize\": 10.0, \"position\": \"bottom\", \"nticks\": 11, \"tickvalues\": null}, {\"scale\": \"linear\", \"tickformat\": null, \"grid\": {\"color\": \"#D3D3D3\", \"alpha\": 0.7, \"dasharray\": \"none\", \"gridOn\": true}, \"visible\": true, \"fontsize\": 10.0, \"position\": \"left\", \"nticks\": 9, \"tickvalues\": null}], \"lines\": [{\"drawstyle\": \"default\", \"color\": \"#1F77B4\", \"yindex\": 1, \"coordinates\": \"data\", \"dasharray\": \"none\", \"zorder\": 2, \"alpha\": 1, \"xindex\": 0, \"linewidth\": 1.5, \"data\": \"data01\", \"id\": \"el7874737994320\"}, {\"drawstyle\": \"default\", \"color\": \"#FF7F0E\", \"yindex\": 2, \"coordinates\": \"data\", \"dasharray\": \"none\", \"zorder\": 2, \"alpha\": 1, \"xindex\": 0, \"linewidth\": 1.5, \"data\": \"data01\", \"id\": \"el7874765106576\"}, {\"drawstyle\": \"default\", \"color\": \"#2CA02C\", \"yindex\": 3, \"coordinates\": \"data\", \"dasharray\": \"none\", \"zorder\": 2, \"alpha\": 1, \"xindex\": 0, \"linewidth\": 1.5, \"data\": \"data01\", \"id\": \"el7874765109456\"}], \"markers\": [], \"id\": \"el7874730893392\", \"ydomain\": [0.6511073937158451, 0.8416379277217857], \"collections\": [], \"xscale\": \"date\", \"bbox\": [0.07586805555555555, 0.5574999999999999, 0.9075810185185186, 0.39833333333333343]}, {\"xlim\": [732499.7, 736488.3], \"yscale\": \"linear\", \"axesbg\": \"#FFFFFF\", \"texts\": [{\"v_baseline\": \"hanging\", \"h_anchor\": \"middle\", \"color\": \"#000000\", \"text\": \"Time Line\", \"coordinates\": \"axes\", \"zorder\": 3, \"alpha\": 1, \"fontsize\": 15.0, \"position\": [0.5, -0.07322175732217573], \"rotation\": -0.0, \"id\": \"el7874737766928\"}, {\"v_baseline\": \"auto\", \"h_anchor\": \"middle\", \"color\": \"#000000\", \"text\": \"Score\", \"coordinates\": \"axes\", \"zorder\": 3, \"alpha\": 1, \"fontsize\": 15.0, \"position\": [-0.04256200981954983, 0.5], \"rotation\": -90.0, \"id\": \"el7874737848528\"}, {\"v_baseline\": \"auto\", \"h_anchor\": \"middle\", \"color\": \"#000000\", \"text\": \"SHORT SELL: score vs time\", \"coordinates\": \"axes\", \"zorder\": 3, \"alpha\": 1, \"fontsize\": 20.0, \"position\": [0.5, 1.0209205020920502], \"rotation\": -0.0, \"id\": \"el7874737894032\"}], \"zoomable\": true, \"images\": [], \"xdomain\": [[2006, 6, 7, 16, 48, 0, 0.0], [2017, 5, 8, 7, 12, 0, 0.0]], \"ylim\": [0.5553440798302687, 0.9877585068621296], \"paths\": [], \"sharey\": [], \"sharex\": [], \"axesbgalpha\": null, \"axes\": [{\"scale\": \"linear\", \"tickformat\": null, \"grid\": {\"color\": \"#D3D3D3\", \"alpha\": 0.7, \"dasharray\": \"none\", \"gridOn\": true}, \"visible\": true, \"fontsize\": 10.0, \"position\": \"bottom\", \"nticks\": 11, \"tickvalues\": null}, {\"scale\": \"linear\", \"tickformat\": null, \"grid\": {\"color\": \"#D3D3D3\", \"alpha\": 0.7, \"dasharray\": \"none\", \"gridOn\": true}, \"visible\": true, \"fontsize\": 10.0, \"position\": \"left\", \"nticks\": 10, \"tickvalues\": null}], \"lines\": [{\"drawstyle\": \"default\", \"color\": \"#1F77B4\", \"yindex\": 4, \"coordinates\": \"data\", \"dasharray\": \"none\", \"zorder\": 2, \"alpha\": 1, \"xindex\": 0, \"linewidth\": 1.5, \"data\": \"data01\", \"id\": \"el7874737895824\"}, {\"drawstyle\": \"default\", \"color\": \"#FF7F0E\", \"yindex\": 5, \"coordinates\": \"data\", \"dasharray\": \"none\", \"zorder\": 2, \"alpha\": 1, \"xindex\": 0, \"linewidth\": 1.5, \"data\": \"data01\", \"id\": \"el7874549876560\"}, {\"drawstyle\": \"default\", \"color\": \"#2CA02C\", \"yindex\": 6, \"coordinates\": \"data\", \"dasharray\": \"none\", \"zorder\": 2, \"alpha\": 1, \"xindex\": 0, \"linewidth\": 1.5, \"data\": \"data01\", \"id\": \"el7874549875728\"}], \"markers\": [], \"id\": \"el7874737705552\", \"ydomain\": [0.5553440798302687, 0.9877585068621296], \"collections\": [], \"xscale\": \"date\", \"bbox\": [0.07586805555555555, 0.06499999999999984, 0.9075810185185186, 0.39833333333333343]}], \"height\": 720.0, \"width\": 864.0, \"plugins\": [{\"type\": \"reset\"}, {\"enabled\": false, \"button\": true, \"type\": \"zoom\"}, {\"enabled\": false, \"button\": true, \"type\": \"boxzoom\"}], \"data\": {\"data01\": [[732681.0, 0.7108400928066204, 0.7281405385912838, 0.8140509529447283, 0.755630394551581, 0.8122238805632995, 0.9100314497751019], [732709.0, 0.7137408235156792, 0.7325565681074988, 0.8116553627717281, 0.755630394551581, 0.8189147040419387, 0.9175493022568205], [732737.0, 0.7251063678866136, 0.7441616181288323, 0.8115912567550081, 0.76013363572942, 0.8232388542060293, 0.9239230164488104], [732765.0, 0.7093209917684318, 0.7324705936036896, 0.812277576207805, 0.7652456909586937, 0.8144805824995485, 0.9239230164488104], [732793.0, 0.7040618784087757, 0.7274575044522225, 0.7878793111482507, 0.7672374284911493, 0.8112230287898513, 0.9229246209507975], [732821.0, 0.7014431819601403, 0.7131088230898546, 0.8003787856865664, 0.7540956938900123, 0.8068088060949484, 0.9116715358524925], [732849.0, 0.6980635078875556, 0.7135347073977476, 0.7912053565240611, 0.7576026237166072, 0.8057316107434848, 0.9030955321069671], [732877.0, 0.6928799035540784, 0.7101152044218713, 0.7933398925101965, 0.7562386714095864, 0.8088389276202521, 0.8872494460820265], [732905.0, 0.7053825807455868, 0.7175749091868708, 0.793644616793942, 0.7371876210466987, 0.801328903689535, 0.9164336885142605], [732933.0, 0.7018262551947306, 0.7213035348687039, 0.7922235864682203, 0.7477457534849625, 0.804249710069859, 0.9160763208141954], [732961.0, 0.6992994129024821, 0.7158059222974128, 0.7826059824007358, 0.7540835131069203, 0.8071613289181447, 0.9166217840427437], [732989.0, 0.7176424577040564, 0.7349250566223863, 0.7961716871772822, 0.7497980430868606, 0.8105728510423362, 0.9211798017425257], [733017.0, 0.7081771371688509, 0.7259507272169448, 0.8150880690724882, 0.7464123282650666, 0.8130067771947822, 0.9073130285363352], [733045.0, 0.7303449812517689, 0.7489019164432258, 0.8255468496827184, 0.7374374349829934, 0.7999697911674672, 0.8992811742512926], [733073.0, 0.7322481430955339, 0.7550830934284863, 0.828628142311747, 0.7331210118527941, 0.7976500203899844, 0.8976810730234307], [733101.0, 0.7359042086191641, 0.7561212491857736, 0.8329774489033338, 0.7185754999882983, 0.7955145847676892, 0.9681033056334086], [733129.0, 0.734021620856326, 0.7546652418971015, 0.8244420366310582, 0.7208492024455441, 0.7816822052580235, 0.9677993258481132], [733157.0, 0.7323794656728011, 0.7517806601824186, 0.8218193649874401, 0.7177899098665741, 0.779613281521885, 0.9659542085709785], [733185.0, 0.7303553385094103, 0.7499576491587685, 0.825947041422129, 0.7296386610363335, 0.7890222732455036, 0.9659542085709785], [733213.0, 0.7303332689604898, 0.752254397259291, 0.8154741001127879, 0.7320463074224809, 0.7873497512661085, 0.9647468480060604], [733241.0, 0.7311339086902193, 0.7512032349433835, 0.8256010060119753, 0.7229120391043661, 0.7816802100306478, 0.9652538133221216], [733269.0, 0.7264029287100406, 0.745193461957443, 0.8258057536382342, 0.7127906460974432, 0.7853054299617955, 0.9002037953910071], [733297.0, 0.734294290487755, 0.7500709550456999, 0.826357695034598, 0.6957182900208548, 0.7573310363591812, 0.8912360567653478], [733325.0, 0.742402018891285, 0.7601653038399837, 0.8307705634758042, 0.6433397920518025, 0.7220559103010576, 0.8823394336427267], [733353.0, 0.7451212099888168, 0.7588245447377263, 0.8100720446119014, 0.6343123045324004, 0.7279831720215664, 0.8823394336427267], [733381.0, 0.7440419796928093, 0.7549771807410945, 0.8084724801007985, 0.6040227392077655, 0.6905189455347933, 0.9105941168744648], [733409.0, 0.7071335788185765, 0.721919841979372, 0.7997422551590645, 0.6254624122187352, 0.6899795063807898, 0.891516705999279], [733437.0, 0.7093520802222222, 0.7203551766139644, 0.7929158562556932, 0.6124562880219088, 0.6797131290987202, 0.8915008093840965], [733465.0, 0.715036004983613, 0.7241585002619335, 0.7949459488867071, 0.6028217414983879, 0.6529691587312891, 0.8940136630089071], [733493.0, 0.70694821135375, 0.7168744921255876, 0.7951650838457521, 0.610142436726763, 0.6706130151716179, 0.8939195478737993], [733521.0, 0.7033547563052214, 0.7139128796308853, 0.7943689067825791, 0.633902892450194, 0.6928171403088348, 0.8860526531235046], [733549.0, 0.7012130579407425, 0.7158265423993944, 0.8171150131375635, 0.6272353416225431, 0.6826412122577127, 0.8722350858561855], [733577.0, 0.6976640588299562, 0.7106190250082959, 0.8016737860049992, 0.6387842369342637, 0.7069379548867849, 0.9013441301924133], [733605.0, 0.6920889000130094, 0.7081719645277104, 0.8018812974315707, 0.6306108177637924, 0.6958609769081514, 0.9539538839821422], [733633.0, 0.6881625614399994, 0.704291862514537, 0.805729586150681, 0.6530655286398046, 0.7208030467532202, 0.9567648958719368], [733661.0, 0.6819624172259058, 0.7021160839603119, 0.7806548535774488, 0.659080466581934, 0.7331878422137618, 0.9554680883921878], [733689.0, 0.6828449948724455, 0.692866970583689, 0.7820280172469155, 0.6803176617870118, 0.7517148695985877, 0.950931514292474], [733717.0, 0.6873043310135245, 0.7021705635485269, 0.788854653859327, 0.6738075225769984, 0.7399164981936692, 0.9517505393531575], [733745.0, 0.6847779532065601, 0.7002326354884632, 0.7950995425080888, 0.6579867992059866, 0.7375766764000905, 0.866504238530382], [733780.0, 0.6635715462860027, 0.6764196629963765, 0.7720234018686899, 0.6759784769947044, 0.7401735255773306, 0.8969492674582478], [733808.0, 0.6725479288472294, 0.6897911030550199, 0.7770539887735045, 0.6689547487279939, 0.7420025808939923, 0.8936276710272661], [733836.0, 0.6673626860025291, 0.6778365065477384, 0.7779810534881128, 0.6800162681417178, 0.75967595801015, 0.8830266834569377], [733871.0, 0.659767872534297, 0.6716277712248331, 0.7662427865267853, 0.7048474825124543, 0.7832177995991632, 0.9228220357861894], [733899.0, 0.6669333806279657, 0.6792088367247464, 0.7623380342642585, 0.6970524782788897, 0.7751090193917478, 0.9130662189148582], [733927.0, 0.6718544158311315, 0.6855519693176801, 0.7759653494294465, 0.679785083864633, 0.7641984568177975, 0.8828584528729317], [733955.0, 0.6772857114664091, 0.6919614427580343, 0.7788579005903689, 0.6586927415832408, 0.7527082693937933, 0.9075597571634525], [733983.0, 0.6738278642433588, 0.6859143881740487, 0.7643954309694484, 0.6729111188043969, 0.7556590993677202, 0.908230583038579], [734011.0, 0.680433026134503, 0.6969366246288411, 0.7826713031290689, 0.6626144114642838, 0.7517117729914197, 0.906772743705661], [734039.0, 0.6731184711962513, 0.6868999939889439, 0.775024699808895, 0.6726047858271043, 0.7489040590694811, 0.9087879618480149], [734067.0, 0.670303356156659, 0.6851491986572927, 0.7439871483757202, 0.6778303331029044, 0.7531372659820362, 0.90809818118059], [734095.0, 0.6724703537833088, 0.6890112649692179, 0.7494069595527673, 0.6822933440224591, 0.7560881401248771, 0.9084940091205342], [734123.0, 0.6667732326697559, 0.6867288663502258, 0.7494069595527673, 0.7060177662921536, 0.7858047614087894, 0.9110680917836581], [734144.0, 0.6876740419130771, 0.7051967362804057, 0.7793359701629038, 0.7138201172851124, 0.7845435899100737, 0.9174556781153566], [734151.0, 0.6855653846245467, 0.7012486702289892, 0.771496411573185, 0.729447445552567, 0.7874591328108415, 0.9174825069758055], [734179.0, 0.6845936431276038, 0.7003373605109108, 0.7913698276695575, 0.7271340494560588, 0.7894680869764941, 0.9041691711719577], [734207.0, 0.6846973929631398, 0.7058487020484221, 0.7962340390469754, 0.6971805494938826, 0.7739835901513926, 0.9108553657432299], [734235.0, 0.6840367956593976, 0.6995946906266264, 0.7954319134145756, 0.701987298022709, 0.7757334518232885, 0.8870381942896322], [734263.0, 0.6834080550511471, 0.7016861522722135, 0.8087414166336488, 0.6912762915921369, 0.7612189804552951, 0.9011494153107484], [734291.0, 0.6854050131711107, 0.705043714197118, 0.811092888406492, 0.697564686741081, 0.7758455760871358, 0.9192300302136416], [734319.0, 0.6855817321836255, 0.6995529291830681, 0.811442288189378, 0.704364780592341, 0.7769674550741085, 0.9472929168891897], [734347.0, 0.688836301403977, 0.7046133795717998, 0.8116068586901077, 0.6912849943885925, 0.7709015903814682, 0.919783639382479], [734375.0, 0.702977242744476, 0.7219560002142169, 0.8034938220812916, 0.6697606114911224, 0.7518211196697406, 0.9528497084664852], [734403.0, 0.708588008643538, 0.7313226206394141, 0.8041289573570365, 0.6473587754238963, 0.742417756963125, 0.8978273037742961], [734431.0, 0.6988076431102767, 0.7180574335808471, 0.8036024546209358, 0.6524663620427604, 0.7441574378192267, 0.8901863232791017], [734459.0, 0.7046492413588213, 0.7173782481786319, 0.7751728598693304, 0.643717678115691, 0.7289910826202656, 0.892704534628565], [734487.0, 0.7064658085554982, 0.7176984190803677, 0.7820183467329931, 0.6470391019217149, 0.7229099571054415, 0.891943673238943], [734508.0, 0.693650954720539, 0.7136369926927622, 0.7709898720478073, 0.659861848473433, 0.7231488073506611, 0.9058702821967575], [734515.0, 0.6934517727541555, 0.7124871458779842, 0.7666496858527485, 0.6575518559731955, 0.726761433837837, 0.9064402747026358], [734543.0, 0.6926438312342471, 0.7058617242359729, 0.7736899269778768, 0.6684248475328207, 0.72235120196089, 0.9065797468994568], [734571.0, 0.6896606957701422, 0.7060296894623492, 0.7776608268363691, 0.6648138499252036, 0.7138599076227256, 0.8977432865144505], [734606.0, 0.695368350280542, 0.7081362940015998, 0.7711720193028362, 0.6656362622316045, 0.7215205880047943, 0.9096801694837835], [734634.0, 0.6949811895977953, 0.7117304212006726, 0.7748818208343282, 0.6557519704137026, 0.7151701538676749, 0.8927312194710023], [734662.0, 0.702941979244604, 0.7131359576369641, 0.7726579123376083, 0.648956568553226, 0.6999035714955297, 0.9294377448646957], [734690.0, 0.6989764609222716, 0.7147477818315782, 0.7671793227565472, 0.6392740582464548, 0.7006867571230625, 0.9315437649683174], [734718.0, 0.7018917535674603, 0.7190772348867998, 0.77116934995226, 0.6246660614563502, 0.6761994636664238, 0.9217358855082372], [734746.0, 0.701280319423117, 0.7183438049429562, 0.7776349033831036, 0.6288196552814288, 0.6842838444100243, 0.8942624280409968], [734774.0, 0.6991946491009361, 0.7129108705209919, 0.7900771732721402, 0.6260598270556257, 0.689867072078456, 0.8726399307759587], [734802.0, 0.7068791413104488, 0.7222158936075354, 0.786932817148942, 0.6198162660720601, 0.6855439425880079, 0.8497325974471109], [734830.0, 0.7074665389190911, 0.7234463233546139, 0.7893355421042847, 0.6286663263590887, 0.6763476893659865, 0.8416786396874962], [734858.0, 0.699775467029579, 0.7156755120388879, 0.7891263890921317, 0.6221455133070274, 0.6811044096837253, 0.8456294468189351], [734872.0, 0.6915818565839325, 0.7073924225575824, 0.8001254344578568, 0.624976492767488, 0.6761206147990988, 0.8345826080229126], [734886.0, 0.6870407551199231, 0.704662655956515, 0.800817288750533, 0.6210975115347587, 0.680275276742537, 0.8345826080229126], [734914.0, 0.6837865367414169, 0.7002247173504847, 0.8167937091022476, 0.6307162234591913, 0.6856931442145566, 0.8345826080229126], [734942.0, 0.6829345938980068, 0.7022203177126315, 0.818219974230163, 0.6188594058159436, 0.6898236862745728, 0.8904371209092076], [734970.0, 0.6831099591785833, 0.7048141607765435, 0.8026333957339207, 0.6253862266177226, 0.6771343831458105, 0.8453612581263691], [734998.0, 0.6777520179950041, 0.701313413533047, 0.7875867343044219, 0.6330821648500861, 0.6873986209854724, 0.8834664027153505], [735026.0, 0.6754859093056372, 0.7028445739291235, 0.7857935202060378, 0.6365523831145783, 0.68191251959248, 0.860817934079138], [735054.0, 0.6782878260878575, 0.6950853871695263, 0.7848559218888702, 0.6343031794660166, 0.6806372973474466, 0.89121327867197], [735082.0, 0.6733399120654908, 0.6889389470881214, 0.7664122500947671, 0.6352934143029648, 0.6816069126245633, 0.8917260111804818], [735110.0, 0.677618330355386, 0.6988218245275956, 0.7826198133309377, 0.6345960714931733, 0.6826462439949459, 0.8487132965516503], [735138.0, 0.6715254721291323, 0.6876357195712562, 0.7631150929270343, 0.6395485946314593, 0.6945063943601929, 0.8490615593886637], [735166.0, 0.6664312323498303, 0.6863340895555285, 0.7629217253270815, 0.6479417252091636, 0.7060532944854138, 0.9131575598064605], [735194.0, 0.6641041576902009, 0.6866814493792959, 0.7700013286555186, 0.642474897982823, 0.7080713763852788, 0.954028931706318], [735222.0, 0.6640394940780098, 0.6848385000152688, 0.7737472546181384, 0.6438027821475789, 0.7040730415830256, 0.9546174397631862], [735236.0, 0.6802042794678484, 0.7068958694354939, 0.7930200996547987, 0.642890506730374, 0.7058477346185673, 0.9541541382896925], [735250.0, 0.6788977845978603, 0.7060456026139272, 0.8022462405785407, 0.6455691782789246, 0.707197523196424, 0.9558724237763916], [735278.0, 0.6833858511227283, 0.7078208066862538, 0.8096250813003382, 0.6427187244975558, 0.7063777943001002, 0.9224866440824189], [735306.0, 0.6819788596715102, 0.7078189666069239, 0.8005919133536988, 0.6434539855141601, 0.7064087506916268, 0.9172371798693368], [735334.0, 0.6872684809914423, 0.7087011173345322, 0.8058856029830878, 0.6378443016640487, 0.6947909174568718, 0.9042982424362568], [735362.0, 0.6875607104582621, 0.7063453155476347, 0.806781513035909, 0.6139964025714099, 0.6787287097317143, 0.8516854312982757], [735390.0, 0.6811792492545474, 0.7016733099662409, 0.7976311193156205, 0.6418809969638617, 0.7071026676087718, 0.8841715476491365], [735425.0, 0.6844443263442296, 0.702285872214036, 0.7976311193156205, 0.6423750280525301, 0.706847806836054, 0.8839897876968391], [735453.0, 0.6864746208846404, 0.704273293574511, 0.8054138240056697, 0.6360233584034268, 0.7048628159613166, 0.9049603303534289], [735481.0, 0.6849226071881722, 0.704459235278055, 0.8042629038760755, 0.6432837049023401, 0.7118521961896791, 0.9049603303534289], [735509.0, 0.6866946636307701, 0.7056280529662229, 0.8060631619836041, 0.630651323267476, 0.6888866485439522, 0.8568574402905231], [735537.0, 0.6821686119967935, 0.6994574688976046, 0.7987720393387939, 0.6231349053987407, 0.6877175872975931, 0.8469079337549851], [735565.0, 0.6793715672704241, 0.6957274861484365, 0.7820437400395658, 0.6195886383159109, 0.6793802216238713, 0.8701747754266806], [735593.0, 0.6791649674851644, 0.6979306467959476, 0.7820437400395658, 0.6130356499935204, 0.6638243744083765, 0.8488162972148571], [735600.0, 0.7042017281105313, 0.7256654463869281, 0.8161564665875406, 0.6116549615263877, 0.6728446348799868, 0.8675276510594296], [735621.0, 0.7022191004798815, 0.7240380994726088, 0.8265054702219812, 0.6086151502556221, 0.6667968987891784, 0.865554949662528], [735649.0, 0.6951242467674575, 0.7147838140012621, 0.8057325848808717, 0.6127335514679533, 0.6692241282642803, 0.861414491408093], [735677.0, 0.6961523813552539, 0.7157424925618052, 0.8261243569717357, 0.6174444439363037, 0.6650365896346785, 0.865554949662528], [735705.0, 0.6972252526715856, 0.7136445994812752, 0.8267613302743131, 0.6222451922477291, 0.6785768626181334, 0.8678249638100077], [735733.0, 0.6978309662822133, 0.7162545772560384, 0.8155169745146005, 0.6169063697586626, 0.6932157256596198, 0.8813896321307741], [735761.0, 0.6982464589267552, 0.7163725987544336, 0.8166539268765287, 0.618499941974225, 0.6934989960750881, 0.8921780384361178], [735789.0, 0.6990556368387393, 0.7159060926167824, 0.8155412071653788, 0.6132664471915035, 0.6810171165050461, 0.8705682292596675], [735817.0, 0.7019571763574476, 0.7181657187439833, 0.8127023361673582, 0.6020152845157667, 0.6606943196019248, 0.8652593857416613], [735845.0, 0.7063226520678401, 0.720700387255853, 0.8116269620641025, 0.5936236989880307, 0.6638404136643333, 0.8710281092489031], [735873.0, 0.7026337079766114, 0.7226981491169604, 0.8100140032283057, 0.5817182543509756, 0.6558851967092001, 0.8756999268443643], [735901.0, 0.6998071488512636, 0.7139587286441242, 0.8119373230296668, 0.5881933933647298, 0.6550293895471404, 0.8778570171510041], [735929.0, 0.6998071488512636, 0.7148216855360601, 0.7852407041861894, 0.5850528548843624, 0.6402698357786318, 0.8801238522871454], [735971.0, 0.7126307835799626, 0.7367289500901714, 0.800151024382359, 0.5873495791115715, 0.6402442989948274, 0.8797102353649947], [735999.0, 0.7129551395837903, 0.7336470464333249, 0.800151024382359, 0.5749992810589897, 0.6256042695928061, 0.8751235101188543], [736027.0, 0.7022308814035577, 0.728855123042971, 0.7894124960982014, 0.5796369737421337, 0.6414168401946065, 0.8769355963420182], [736055.0, 0.7010266796908777, 0.7219266894705931, 0.7860672389120522, 0.579018825720459, 0.6355865084341483, 0.8778894225926457], [736083.0, 0.7028516772898028, 0.7233221235925945, 0.7911219897695901, 0.5846048084727316, 0.6409379204938671, 0.9087962836251327], [736111.0, 0.7002364638367943, 0.7231650081120728, 0.7892599050035459, 0.5758489379524514, 0.6383393682240326, 0.9013891607295778], [736139.0, 0.7037754668402216, 0.727694802166237, 0.7798025579267781, 0.5770697515923183, 0.6297708539704419, 0.8996514961035119], [736167.0, 0.697983646948611, 0.7174436592409389, 0.7771019722836722, 0.585188318950309, 0.6412381377868849, 0.9007395737298911], [736195.0, 0.6968773836197032, 0.718798231185017, 0.7724056667375263, 0.586781488657261, 0.6434671407039274, 0.8994194219210051], [736223.0, 0.6985432961976841, 0.7270046100538591, 0.7853826943122106, 0.5827343027394395, 0.6454014624039989, 0.9191419224981878], [736251.0, 0.6979361052634714, 0.7248658628548212, 0.7849584759415033, 0.5836071102409736, 0.6412360696700581, 0.9085072213613076], [736279.0, 0.7007259810542634, 0.7223746013423303, 0.7933218795250649, 0.5801942658801595, 0.629480372269797, 0.8764218721180015], [736307.0, 0.6946480282596081, 0.7191659261126713, 0.7874248841473896, 0.5807925289346211, 0.6325325844105123, 0.8731342872500967]]}, \"id\": \"el7874549875280\"});\n",
       "            })\n",
       "         });\n",
       "}\n",
       "</script>"
      ],
      "text/plain": [
       "<IPython.core.display.HTML object>"
      ]
     },
     "execution_count": 16,
     "metadata": {},
     "output_type": "execute_result"
    }
   ],
   "source": [
    "def plot_score_time_series(data):\n",
    "    # prepare data\n",
    "    df_long_sts, df_short_sts = create_score_time_series(data)\n",
    "    \n",
    "    # create plots\n",
    "    fig, subplots = plt.subplots(nrows=2, ncols=1, figsize=(12,10))\n",
    "    \n",
    "    # plot and customization\n",
    "    #max, = subplots[0].plot(df_long_sts['max_score'])\n",
    "    #median, = subplots[0].plot(df_long_sts['median_score'])\n",
    "    #min, \n",
    "    subplots[0].plot(df_long_sts)\n",
    "    subplots[0].set_xlabel('Time Line', fontsize = 15)\n",
    "    subplots[0].set_ylabel('Score', fontsize = 15)\n",
    "    subplots[0].set_title('LONG BUY: score vs time', fontsize = 20)\n",
    "    subplots[0].grid(color='lightgray', alpha=0.7)\n",
    "    #subplots[0].legend(bbox_to_anchor=(1.05, 1), loc=2)\n",
    "   \n",
    "    \n",
    "    subplots[1].plot(df_short_sts)\n",
    "    subplots[1].set_xlabel('Time Line', fontsize = 15)\n",
    "    subplots[1].set_ylabel('Score', fontsize = 15)\n",
    "    subplots[1].set_title('SHORT SELL: score vs time', fontsize = 20)\n",
    "    subplots[1].grid(color='lightgray', alpha=0.7)\n",
    "    #subplots[1].legend(bbox_to_anchor=(1.05, 1), loc=2)\n",
    "    plt.tight_layout()\n",
    "   \n",
    "    return fig\n",
    "\n",
    "\n",
    "d3_display(plot_score_time_series(df_target_portfolio))"
   ]
  },
  {
   "cell_type": "code",
   "execution_count": null,
   "metadata": {
    "collapsed": true
   },
   "outputs": [],
   "source": []
  },
  {
   "cell_type": "code",
   "execution_count": null,
   "metadata": {
    "collapsed": true
   },
   "outputs": [],
   "source": []
  }
 ],
 "metadata": {
  "extensions": {
   "jupyter_dashboards": {
    "activeView": "report_default",
    "version": 1,
    "views": {
     "grid_default": {
      "cellMargin": 10,
      "defaultCellHeight": 20,
      "maxColumns": 12,
      "name": "grid",
      "type": "grid"
     },
     "report_default": {
      "name": "report",
      "type": "report"
     }
    }
   }
  },
  "kernelspec": {
   "display_name": "Python 2",
   "language": "python",
   "name": "python2"
  },
  "language_info": {
   "codemirror_mode": {
    "name": "ipython",
    "version": 2
   },
   "file_extension": ".py",
   "mimetype": "text/x-python",
   "name": "python",
   "nbconvert_exporter": "python",
   "pygments_lexer": "ipython2",
   "version": "2.7.13"
  }
 },
 "nbformat": 4,
 "nbformat_minor": 2
}
