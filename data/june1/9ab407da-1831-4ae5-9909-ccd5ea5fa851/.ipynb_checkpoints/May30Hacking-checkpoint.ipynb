{
 "cells": [
  {
   "cell_type": "code",
   "execution_count": 105,
   "metadata": {
    "collapsed": true,
    "extensions": {
     "jupyter_dashboards": {
      "version": 1,
      "views": {
       "grid_default": {
        "hidden": true
       },
       "report_default": {
        "hidden": true
       }
      }
     }
    }
   },
   "outputs": [],
   "source": [
    "import pandas as pd\n",
    "import numpy as np\n",
    "import matplotlib.pyplot as plt\n",
    "\n",
    "from ipywidgets import widgets, interactive, interact, Layout, HTML as ipyHTML\n",
    "from IPython.display import display, HTML, clear_output\n",
    "import time\n",
    "\n",
    "%matplotlib inline\n",
    "from mpld3._display import display as d3_display\n",
    "\n",
    "df_portfolio = pd.read_pickle('portfolio.pkl')\n",
    "df_transactions = pd.read_pickle('transactions.pkl')\n",
    "df_metrics = pd.read_pickle('metrics.pkl')\n",
    "df_simulation = pd.read_pickle('simulation.pkl')\n",
    "df_orders = pd.read_pickle('orders.pkl')\n",
    "df_target_portfolio = pd.read_pickle('target_portfolio.pkl')"
   ]
  },
  {
   "cell_type": "markdown",
   "metadata": {},
   "source": [
    "# View"
   ]
  },
  {
   "cell_type": "code",
   "execution_count": 122,
   "metadata": {
    "extensions": {
     "jupyter_dashboards": {
      "version": 1,
      "views": {
       "grid_default": {
        "col": 0,
        "height": 10,
        "hidden": false,
        "row": 48,
        "width": 8
       },
       "report_default": {
        "hidden": false
       }
      }
     }
    }
   },
   "outputs": [
    {
     "data": {
      "application/vnd.jupyter.widget-view+json": {
       "model_id": "68673c81abe24ac0b0d2516b2fe0e44c"
      }
     },
     "metadata": {},
     "output_type": "display_data"
    },
    {
     "data": {
      "text/plain": [
       "['_view_name',\n",
       " '_dom_classes',\n",
       " 'msg_throttle',\n",
       " '_model_name',\n",
       " '_view_module',\n",
       " '_model_module_version',\n",
       " '_view_module_version',\n",
       " 'box_style',\n",
       " 'layout',\n",
       " '_model_module',\n",
       " 'children']"
      ]
     },
     "execution_count": 122,
     "metadata": {},
     "output_type": "execute_result"
    }
   ],
   "source": [
    "\"\"\"This chunk is for displaying df_target_portfolio\"\"\"\n",
    "# we need to fix it\n",
    "df_target_portfolio = pd.read_pickle('target_portfolio.pkl')\n",
    "#\n",
    "def target_portfolio_view(df_tp):\n",
    "    \"\"\"This funtion returns a new view of portfolio dataframe and keep track of total value of portfolio at date\"\"\"    \n",
    "    df = df_tp\n",
    "    \"\"\"format\"\"\"    \n",
    "    df['tradingitemid'] = df['tradingitemid'].astype(int)\n",
    "    df['amount'] = df['amount'].map('{:,.2%}'.format)\n",
    "    df['limit_hi'] = df['limit_hi'].map('${:,.2f}'.format) \n",
    "    df['limit_lo'] = df['limit_lo'].map('${:,.2f}'.format)  \n",
    "    df['price'] = df['price'].map('${:,.2f}'.format) \n",
    "    df['score'] = df['score'].map('{:,.2%}'.format)\n",
    "    \n",
    "    cols = ['date', 'tradingitemid', 'companyname', 'symbol', 'exchange', 'score', 'order_type',\n",
    "            'amount', 'price', 'limit_lo', 'limit_hi', 'portfolioid']\n",
    "    df = df.loc[:, cols]\n",
    "    return df\n",
    "\n",
    "\n",
    "df_tp_view = target_portfolio_view(df_target_portfolio)    \n",
    "\n",
    "def target_portfolio_view_date_select(date, sortby):  \n",
    "    display(df_tp_view.loc[df_tp_view.date == date, :].sort_values(by=sortby))\n",
    "    \n",
    "    \n",
    "w = interactive(target_portfolio_view_date_select, \n",
    "                date= widgets.DatePicker(value = df_tp_view.date[0], description='Date'),\n",
    "                sortby = widgets.Dropdown(\n",
    "                options=[col for col in df_tp_view.columns.values],\n",
    "                value=df_tp_view.columns.values[0],\n",
    "                description='Sort by')\n",
    "           )\n",
    "display(w)\n",
    "\n",
    "w.keys"
   ]
  },
  {
   "cell_type": "code",
   "execution_count": 56,
   "metadata": {
    "extensions": {
     "jupyter_dashboards": {
      "version": 1,
      "views": {
       "grid_default": {},
       "report_default": {
        "hidden": false
       }
      }
     }
    }
   },
   "outputs": [
    {
     "data": {
      "text/html": [
       "<div>\n",
       "<table border=\"1\" class=\"dataframe\">\n",
       "  <thead>\n",
       "    <tr style=\"text-align: right;\">\n",
       "      <th></th>\n",
       "      <th>date</th>\n",
       "      <th>tradingitemid</th>\n",
       "      <th>order_type</th>\n",
       "      <th>price</th>\n",
       "      <th>shares</th>\n",
       "      <th>companyname</th>\n",
       "      <th>symbol</th>\n",
       "      <th>exchange</th>\n",
       "      <th>batch</th>\n",
       "      <th>name</th>\n",
       "      <th>value</th>\n",
       "    </tr>\n",
       "  </thead>\n",
       "  <tbody>\n",
       "    <tr>\n",
       "      <th>0</th>\n",
       "      <td>2007-01-12</td>\n",
       "      <td>2586910</td>\n",
       "      <td>LONG_BUY</td>\n",
       "      <td>40.886833</td>\n",
       "      <td>4891.0</td>\n",
       "      <td>Acuity Brands, Inc.</td>\n",
       "      <td>AYI</td>\n",
       "      <td>NYSE</td>\n",
       "      <td>overnight_2017-05-30</td>\n",
       "      <td>9ab407da-1831-4ae5-9909-ccd5ea5fa851</td>\n",
       "      <td>199977.501137</td>\n",
       "    </tr>\n",
       "    <tr>\n",
       "      <th>1</th>\n",
       "      <td>2007-01-12</td>\n",
       "      <td>2587606</td>\n",
       "      <td>LONG_BUY</td>\n",
       "      <td>34.687634</td>\n",
       "      <td>5765.0</td>\n",
       "      <td>Airgas, Inc.</td>\n",
       "      <td>ARG</td>\n",
       "      <td>NYSE</td>\n",
       "      <td>overnight_2017-05-30</td>\n",
       "      <td>9ab407da-1831-4ae5-9909-ccd5ea5fa851</td>\n",
       "      <td>199974.207211</td>\n",
       "    </tr>\n",
       "    <tr>\n",
       "      <th>2</th>\n",
       "      <td>2007-01-12</td>\n",
       "      <td>2588302</td>\n",
       "      <td>LONG_BUY</td>\n",
       "      <td>61.320381</td>\n",
       "      <td>3261.0</td>\n",
       "      <td>Alltel Corporation</td>\n",
       "      <td>AT</td>\n",
       "      <td>NYSE</td>\n",
       "      <td>overnight_2017-05-30</td>\n",
       "      <td>9ab407da-1831-4ae5-9909-ccd5ea5fa851</td>\n",
       "      <td>199965.762978</td>\n",
       "    </tr>\n",
       "    <tr>\n",
       "      <th>3</th>\n",
       "      <td>2007-01-12</td>\n",
       "      <td>2588446</td>\n",
       "      <td>SHORT_SELL</td>\n",
       "      <td>62.496025</td>\n",
       "      <td>-1600.0</td>\n",
       "      <td>Altair Nanotechnologies Inc.</td>\n",
       "      <td>ALTI</td>\n",
       "      <td>NasdaqCM</td>\n",
       "      <td>overnight_2017-05-30</td>\n",
       "      <td>9ab407da-1831-4ae5-9909-ccd5ea5fa851</td>\n",
       "      <td>-99993.640137</td>\n",
       "    </tr>\n",
       "    <tr>\n",
       "      <th>4</th>\n",
       "      <td>2007-01-12</td>\n",
       "      <td>2590623</td>\n",
       "      <td>LONG_BUY</td>\n",
       "      <td>29.300732</td>\n",
       "      <td>6825.0</td>\n",
       "      <td>Arch Chemicals, Inc.</td>\n",
       "      <td>ARJ</td>\n",
       "      <td>NYSE</td>\n",
       "      <td>overnight_2017-05-30</td>\n",
       "      <td>9ab407da-1831-4ae5-9909-ccd5ea5fa851</td>\n",
       "      <td>199977.493572</td>\n",
       "    </tr>\n",
       "  </tbody>\n",
       "</table>\n",
       "</div>"
      ],
      "text/plain": [
       "        date  tradingitemid  order_type      price  shares  \\\n",
       "0 2007-01-12        2586910    LONG_BUY  40.886833  4891.0   \n",
       "1 2007-01-12        2587606    LONG_BUY  34.687634  5765.0   \n",
       "2 2007-01-12        2588302    LONG_BUY  61.320381  3261.0   \n",
       "3 2007-01-12        2588446  SHORT_SELL  62.496025 -1600.0   \n",
       "4 2007-01-12        2590623    LONG_BUY  29.300732  6825.0   \n",
       "\n",
       "                    companyname symbol  exchange                 batch  \\\n",
       "0           Acuity Brands, Inc.    AYI      NYSE  overnight_2017-05-30   \n",
       "1                  Airgas, Inc.    ARG      NYSE  overnight_2017-05-30   \n",
       "2            Alltel Corporation     AT      NYSE  overnight_2017-05-30   \n",
       "3  Altair Nanotechnologies Inc.   ALTI  NasdaqCM  overnight_2017-05-30   \n",
       "4          Arch Chemicals, Inc.    ARJ      NYSE  overnight_2017-05-30   \n",
       "\n",
       "                                   name          value  \n",
       "0  9ab407da-1831-4ae5-9909-ccd5ea5fa851  199977.501137  \n",
       "1  9ab407da-1831-4ae5-9909-ccd5ea5fa851  199974.207211  \n",
       "2  9ab407da-1831-4ae5-9909-ccd5ea5fa851  199965.762978  \n",
       "3  9ab407da-1831-4ae5-9909-ccd5ea5fa851  -99993.640137  \n",
       "4  9ab407da-1831-4ae5-9909-ccd5ea5fa851  199977.493572  "
      ]
     },
     "execution_count": 56,
     "metadata": {},
     "output_type": "execute_result"
    }
   ],
   "source": [
    "df_portfolio.head()"
   ]
  },
  {
   "cell_type": "code",
   "execution_count": null,
   "metadata": {
    "collapsed": true
   },
   "outputs": [],
   "source": [
    "df=pd.DataFrame({'a': np.arange(5)})\n",
    "print df.assign(b=lambda x: x.a)"
   ]
  },
  {
   "cell_type": "code",
   "execution_count": 302,
   "metadata": {
    "extensions": {
     "jupyter_dashboards": {
      "version": 1,
      "views": {
       "grid_default": {
        "col": 0,
        "height": 27,
        "hidden": false,
        "row": 58,
        "width": 9
       },
       "report_default": {
        "hidden": false
       }
      }
     }
    },
    "scrolled": false
   },
   "outputs": [
    {
     "data": {
      "application/vnd.jupyter.widget-view+json": {
       "model_id": "7555c00f4dd84dcd88f210f8342480d5"
      }
     },
     "metadata": {},
     "output_type": "display_data"
    },
    {
     "data": {
      "application/vnd.jupyter.widget-view+json": {
       "model_id": "a769703ed840404c876ca66deafcb29e"
      }
     },
     "metadata": {},
     "output_type": "display_data"
    },
    {
     "data": {
      "application/vnd.jupyter.widget-view+json": {
       "model_id": "dc4434a6bf7545b4a1e9b43d179c8fca"
      }
     },
     "metadata": {},
     "output_type": "display_data"
    },
    {
     "name": "stdout",
     "output_type": "stream",
     "text": [
      "()\n"
     ]
    }
   ],
   "source": [
    "\"\"\"This chunk is for displaying df_portfolio\"\"\"\n",
    "def portfolio_view(df):\n",
    "    \"\"\"This funtion returns a new view of portfolio dataframe and keep track of total value of portfolio at date\"\"\"\n",
    "    df['value'] = (df.price * df.shares)#.map('${:,.2f}'.format) \n",
    "    df_tot_value = df.groupby(by=['date'])[['value']].sum().rename(columns={'value': 'total_value'}).reset_index()\n",
    "    df = pd.merge(df, df_tot_value, on='date', how='outer')\n",
    "    df['percent of portfolio'] = (df.value / df.total_value)\n",
    "    \"\"\"format\"\"\"\n",
    "    df['shares'] = df['shares'].astype(int).map('{:,.0f}'.format)\n",
    "    df['price'] = df['price'].map('${:,.2f}'.format) \n",
    "    df['value'] = df['value'].map('${:,.2f}'.format) \n",
    "    df['percent of portfolio'] = df['percent of portfolio'].map('{:,.2%}'.format)\n",
    "    df['total_value'] = df['total_value'].map('${:,.2f}'.format)\n",
    "    df_tot_value['total_value'] = df_tot_value['total_value'].map('${:,.2f}'.format)\n",
    "    \n",
    "    cols = ['date', 'tradingitemid', 'companyname', 'symbol', 'exchange', 'price', 'shares', \n",
    "            'value', 'percent of portfolio', 'total_value']\n",
    "    df = df.loc[:, cols]\n",
    "    return df, df_tot_value\n",
    "\n",
    "df_p_view, df_tot_value = portfolio_view(df_portfolio)    \n",
    "\n",
    "def portfolio_view_date_select(date, sortby):      \n",
    "    df1 = df_p_view.loc[df_p_view.date == date, :].sort_values(by=sortby)\n",
    "    display(df1)\n",
    "    \n",
    "interact_dataframe = interactive(portfolio_view_date_select, \n",
    "                                 date = widgets.DatePicker(value = df_p_view.date[0], description='Date'),\n",
    "                                 sortby = widgets.Dropdown(\n",
    "                                     options=[col for col in df_p_view.columns.values],\n",
    "                                     value=df_p_view.columns.values[0],\n",
    "                                     description='Sort by'\n",
    "                                 )\n",
    "                                )\n",
    "\n",
    "last_week = widgets.Button(description=\"last week\") \n",
    "next_week = widgets.Button(description=\"next week\")    \n",
    "\n",
    "def forward(next_week):\n",
    "    interact_dataframe.children[0].value = interact_dataframe.children[0].value + pd.Timedelta('7 days')\n",
    "\n",
    "def backward(last_week):\n",
    "    interact_dataframe.children[0].value = interact_dataframe.children[0].value - pd.Timedelta('7 days')\n",
    "\n",
    "button_box = HBox([Label(\"Click here: \"), last_week, next_week])    \n",
    "total_value_box = HBox([Label(\"Total portfolio value: \"), Button(description=df_tot_value.loc[df_tot_value.date == interact_dataframe.children[0].value, \"total_value\"][0])]\n",
    "                      ,layout = Layout(width='100%'))     \n",
    "display(total_value_box, button_box, interact_dataframe)\n",
    "\n",
    "#interact_dataframe.layout.width = '180%'\n",
    "#interact_dataframe.layout.height = '900px'\n",
    "#interact_dataframe.box_style=\n",
    "print()\n",
    "\n",
    "next_week.on_click(forward)\n",
    "last_week.on_click(backward)"
   ]
  },
  {
   "cell_type": "markdown",
   "metadata": {},
   "source": [
    "# CSS"
   ]
  },
  {
   "cell_type": "code",
   "execution_count": 257,
   "metadata": {
    "extensions": {
     "jupyter_dashboards": {
      "version": 1,
      "views": {
       "grid_default": {},
       "report_default": {
        "hidden": false
       }
      }
     }
    },
    "scrolled": false
   },
   "outputs": [
    {
     "data": {
      "application/vnd.jupyter.widget-view+json": {
       "model_id": "88cd4f0573984721ae6075001099747c"
      }
     },
     "metadata": {},
     "output_type": "display_data"
    }
   ],
   "source": [
    "from ipywidgets import Label, HBox, VBox\n",
    "\n",
    "top_layout = dict(\n",
    "    border='dashed 1px red',\n",
    "    height='25px',\n",
    "    font_size='20px',\n",
    "    overflow='scroll'\n",
    ")\n",
    "top_box = HBox([Label('hello, world!') for i in range(20)], layout=top_layout)\n",
    "\n",
    "bottom_layout = dict(\n",
    "    border='dashed 1px green',\n",
    "#     height='50px',\n",
    "    flex='1 1 auto'\n",
    ")\n",
    "# bottom_box = HBox([Label('hello, world!') for i in range(20)], layout=bottom_layout)\n",
    "bottom_box = HBox([interactive(df_p_view)], layout=bottom_layout)\n",
    "container_layout = dict(\n",
    "    border='solid 1px blue',\n",
    "    height='500px',\n",
    "    width='100%',\n",
    "    display='flex',\n",
    "    align_items='center',\n",
    "    overflow_x='scroll',\n",
    ")\n",
    "VBox([top_box, bottom_box], layout=Layout(**container_layout))"
   ]
  },
  {
   "cell_type": "markdown",
   "metadata": {
    "extensions": {
     "jupyter_dashboards": {
      "version": 1,
      "views": {
       "grid_default": {},
       "report_default": {
        "hidden": true
       }
      }
     }
    }
   },
   "source": [
    "# holding_period"
   ]
  },
  {
   "cell_type": "code",
   "execution_count": null,
   "metadata": {
    "collapsed": true
   },
   "outputs": [],
   "source": []
  },
  {
   "cell_type": "markdown",
   "metadata": {
    "extensions": {
     "jupyter_dashboards": {
      "version": 1,
      "views": {
       "grid_default": {},
       "report_default": {
        "hidden": true
       }
      }
     }
    }
   },
   "source": [
    "# plot"
   ]
  },
  {
   "cell_type": "code",
   "execution_count": 103,
   "metadata": {
    "extensions": {
     "jupyter_dashboards": {
      "version": 1,
      "views": {
       "grid_default": {},
       "report_default": {
        "hidden": false
       }
      }
     }
    }
   },
   "outputs": [
    {
     "data": {
      "image/png": "[encoded data removed]",
      "text/plain": [
       "<matplotlib.figure.Figure at 0x12c90ab10>"
      ]
     },
     "metadata": {},
     "output_type": "display_data"
    }
   ],
   "source": [
    "fig, subplots = plt.subplots(5, 1)"
   ]
  },
  {
   "cell_type": "code",
   "execution_count": 101,
   "metadata": {
    "collapsed": true,
    "extensions": {
     "jupyter_dashboards": {
      "version": 1,
      "views": {
       "grid_default": {},
       "report_default": {
        "hidden": true
       }
      }
     }
    }
   },
   "outputs": [],
   "source": [
    "\n",
    "def drawdown(series):\n",
    "    series = pd.Series(series)\n",
    "    return series / series.expanding().max() - 1.0\n",
    "\n",
    "\n",
    "def annualized_return(d0, e0, d1, e1):\n",
    "    return (e1 / e0) ** (365.0 / (d1 - d0).days) - 1.0\n",
    "\n",
    "\n",
    "\n",
    "\n",
    "def plot_equity(data, subplot):\n",
    "    for df_metrics, _ in data:            \n",
    "        subplot.plot(df_metrics.date, (df_metrics.equity - 0 * df_metrics.equity.iloc[0]) / 1E6,\n",
    "                        label=df_metrics.name)\n",
    "    subplot.set_ylabel('equity (M)')\n",
    "    subplot.set_autoscaley_on(True)\n",
    "    subplot.legend(bbox_to_anchor=(1.05, 1), loc=2, borderaxespad=0.)\n",
    "        \n",
    "def plot_drawdown(data, subplot):\n",
    "    for df_metrics, _ in data:\n",
    "        subplot.plot(df_metrics.date, 100.0 * drawdown(df_metrics.equity), label=df_metrics.name)\n",
    "    subplot.set_ylabel('drawdown (%)')\n",
    "    subplot.set_ylim([-105, 5])\n",
    "    subplot.legend(bbox_to_anchor=(1.05, 1), loc=2, borderaxespad=0.)\n",
    "       \n",
    "def plot_positions(data, subplot):\n",
    "    for df_metrics, _ in data:            \n",
    "        subplot.plot(df_metrics.date, (df_metrics.positions), label=df_metrics.name)\n",
    "        subplot.set_ylabel('positions')\n",
    "        subplot.legend(bbox_to_anchor=(1.05, 1), loc=2, borderaxespad=0.)\n",
    "    \n",
    "def plot_exposure(data, subplot):\n",
    "    for df_metrics, _ in data:\n",
    "        subplot.plot(df_metrics.date, 100.0 * df_metrics.gross_exposure, \n",
    "                     label='gross_{}'.format(df_metrics.name))\n",
    "        subplot.plot(df_metrics.date, 100.0 * df_metrics.long_exposure,\n",
    "                     label='long_{}'.format(df_metrics.name))\n",
    "        subplot.plot(df_metrics.date, 100.0 * df_metrics.short_exposure,\n",
    "                     label='short_{}'.format(df_metrics.name))\n",
    "        subplot.set_ylabel('exposure (%)')\n",
    "        subplot.set_ylim([0, None])\n",
    "        subplot.legend(bbox_to_anchor=(-0.25, 1), loc=2, borderaxespad=0.)\n",
    "\n",
    "        \n",
    "def plot_turnover(data, subplot):\n",
    "    for df_metrics, df_transactions in data:\n",
    "        df_join = df_metrics.set_index('date')\\\n",
    "        .join(\n",
    "            df_transactions.set_index('date')\n",
    "            .assign(amount_abs=lambda x: x.amount.abs())\n",
    "            .groupby(level='date')\n",
    "            .amount_abs\n",
    "            .sum(),\n",
    "            how='outer'\n",
    "            )\n",
    "        df_join['turnover'] = df_join.amount_abs / df_join.equity\n",
    "        subplot.plot(df_join.index, 100.0 * df_join.turnover.rolling(52).sum(),\n",
    "                     label='gross_{}'.format(df_metrics.name))\n",
    "    subplot.set_ylabel('turnover (%)')\n",
    "    subplot.set_ylim([0, None])\n",
    "    subplot.legend(bbox_to_anchor=(1.05, 1), loc=2, borderaxespad=0.)\n",
    "\n",
    "\n",
    "    \n",
    "\n"
   ]
  },
  {
   "cell_type": "code",
   "execution_count": null,
   "metadata": {
    "collapsed": true,
    "extensions": {
     "jupyter_dashboards": {
      "version": 1,
      "views": {
       "grid_default": {},
       "report_default": {
        "hidden": true
       }
      }
     }
    }
   },
   "outputs": [],
   "source": []
  },
  {
   "cell_type": "code",
   "execution_count": null,
   "metadata": {
    "collapsed": true,
    "extensions": {
     "jupyter_dashboards": {
      "version": 1,
      "views": {
       "grid_default": {},
       "report_default": {
        "hidden": true
       }
      }
     }
    }
   },
   "outputs": [],
   "source": []
  },
  {
   "cell_type": "code",
   "execution_count": null,
   "metadata": {
    "collapsed": true,
    "extensions": {
     "jupyter_dashboards": {
      "version": 1,
      "views": {
       "grid_default": {
        "hidden": true
       },
       "report_default": {
        "hidden": true
       }
      }
     }
    }
   },
   "outputs": [],
   "source": []
  },
  {
   "cell_type": "code",
   "execution_count": 113,
   "metadata": {
    "collapsed": true,
    "extensions": {
     "jupyter_dashboards": {
      "version": 1,
      "views": {
       "grid_default": {
        "hidden": true
       },
       "report_default": {
        "hidden": true
       }
      }
     }
    }
   },
   "outputs": [],
   "source": [
    "import pandas as pd\n",
    "import numpy as np\n",
    "\n",
    "\n",
    "# View 1: target_portfolio JOIN order\n",
    "def target_portfolio_join_order(df_target_portfolio, df_order):\n",
    "    idx_cols = ['portfolioid', 'tradingitemid']\n",
    "    df0 = df_target_portfolio[\n",
    "        [c for c in df_target_portfolio.columns if c not in {'name', 'batch'}]\n",
    "    ].rename(columns={\n",
    "        'amount': 'target_amount_percent'\n",
    "    }).set_index(idx_cols)\n",
    "\n",
    "    df1 = df_order[\n",
    "        [c for c in df_order.columns if c not in {'name', 'batch', 'limit_lo', 'limit_hi'}]\n",
    "    ].set_index(idx_cols)\n",
    "    return df0.join(df1, how='inner', lsuffix='__target', rsuffix='__order').reset_index()\n",
    "\n",
    "\n",
    "# View 2: transaction JOIN order\n",
    "def order_join_transaction(df_order, df_transaction):\n",
    "    idx_cols = ['orderid', 'tradingitemid']\n",
    "    df0 = df_order[\n",
    "        [c for c in df_order.columns if c not in {'name', 'batch'}]\n",
    "    ].rename(columns={\n",
    "        'amount': 'target_amount_percent'\n",
    "    }).set_index(idx_cols)\n",
    "\n",
    "    df1 = df_transaction[\n",
    "        [c for c in df_transaction.columns if c not in {'name', 'batch'}]\n",
    "    ].set_index(idx_cols)\n",
    "    return df0.join(df1, how='inner', lsuffix='__order', rsuffix='__transaction').reset_index()"
   ]
  },
  {
   "cell_type": "code",
   "execution_count": null,
   "metadata": {
    "collapsed": true,
    "extensions": {
     "jupyter_dashboards": {
      "version": 1,
      "views": {
       "grid_default": {},
       "report_default": {
        "hidden": true
       }
      }
     }
    }
   },
   "outputs": [],
   "source": []
  },
  {
   "cell_type": "code",
   "execution_count": 126,
   "metadata": {
    "extensions": {
     "jupyter_dashboards": {
      "version": 1,
      "views": {
       "grid_default": {},
       "report_default": {
        "hidden": false
       }
      }
     }
    }
   },
   "outputs": [
    {
     "data": {
      "text/plain": [
       "[ipywidgets.widgets.widget_int.IntRangeSlider,\n",
       " ipywidgets.widgets.widget_selection.RadioButtons,\n",
       " ipywidgets.widgets.widget_int.Play,\n",
       " ipywidgets.widgets.widget_controller.Axis,\n",
       " ipywidgets.widgets.widget_float.FloatSlider,\n",
       " ipywidgets.widgets.widget_int.IntSlider,\n",
       " ipywidgets.widgets.widget_image.Image,\n",
       " ipywidgets.widgets.widget_box.HBox,\n",
       " ipywidgets.widgets.widget_selection.SelectMultiple,\n",
       " ipywidgets.widgets.widget_string.HTML,\n",
       " ipywidgets.widgets.widget_box.Box,\n",
       " ipywidgets.widgets.widget_int.SliderStyle,\n",
       " ipywidgets.widgets.widget_selectioncontainer.Accordion,\n",
       " ipywidgets.widgets.widget_button.Button,\n",
       " ipywidgets.widgets.widget_bool.Valid,\n",
       " ipywidgets.widgets.widget_bool.Checkbox,\n",
       " ipywidgets.widgets.widget_selection.SelectionSlider,\n",
       " ipywidgets.widgets.widget_string.Text,\n",
       " ipywidgets.widgets.widget_selection.ToggleButtons,\n",
       " ipywidgets.widgets.widget_float.FloatRangeSlider,\n",
       " ipywidgets.widgets.widget_color.ColorPicker,\n",
       " ipywidgets.widgets.widget_selection.Dropdown,\n",
       " ipywidgets.widgets.widget_string.Label,\n",
       " ipywidgets.widgets.widget_controller.Controller,\n",
       " ipywidgets.widgets.widget_float.FloatText,\n",
       " ipywidgets.widgets.widget_float.BoundedFloatText,\n",
       " ipywidgets.widgets.widget_link.DirectionalLink,\n",
       " ipywidgets.widgets.widget_bool.ToggleButton,\n",
       " ipywidgets.widgets.widget_selection.Select,\n",
       " ipywidgets.widgets.widget_int.IntProgress,\n",
       " ipywidgets.widgets.widget_string.Textarea,\n",
       " ipywidgets.widgets.widget_string.HTMLMath,\n",
       " ipywidgets.widgets.widget_link.Link,\n",
       " ipywidgets.widgets.widget_selectioncontainer.Tab,\n",
       " ipywidgets.widgets.widget_int.IntText,\n",
       " ipywidgets.widgets.widget_button.ButtonStyle,\n",
       " ipywidgets.widgets.widget_float.FloatProgress,\n",
       " ipywidgets.widgets.widget_int.BoundedIntText,\n",
       " ipywidgets.widgets.widget_date.DatePicker,\n",
       " ipywidgets.widgets.widget_int.ProgressStyle,\n",
       " ipywidgets.widgets.widget_box.VBox,\n",
       " ipywidgets.widgets.widget_controller.Button]"
      ]
     },
     "execution_count": 126,
     "metadata": {},
     "output_type": "execute_result"
    }
   ],
   "source": [
    "widgets.Widget.widget_types.values()"
   ]
  },
  {
   "cell_type": "code",
   "execution_count": 125,
   "metadata": {
    "extensions": {
     "jupyter_dashboards": {
      "version": 1,
      "views": {
       "grid_default": {
        "col": 0,
        "height": 12,
        "hidden": false,
        "row": 85,
        "width": 12
       },
       "report_default": {
        "hidden": false
       }
      }
     }
    }
   },
   "outputs": [
    {
     "data": {
      "application/vnd.jupyter.widget-view+json": {
       "model_id": "eb8e5c1539634b0e802a2b136a230dad"
      }
     },
     "metadata": {},
     "output_type": "display_data"
    }
   ],
   "source": [
    "widgets.Text(value='Hello', disabled = True)\n",
    "\n"
   ]
  },
  {
   "cell_type": "code",
   "execution_count": 123,
   "metadata": {
    "extensions": {
     "jupyter_dashboards": {
      "version": 1,
      "views": {
       "grid_default": {
        "col": 0,
        "height": 112,
        "hidden": false,
        "row": 97,
        "width": 7
       },
       "report_default": {
        "hidden": false
       }
      }
     }
    },
    "scrolled": false
   },
   "outputs": [
    {
     "data": {
      "text/html": [
       "<div>\n",
       "<table border=\"1\" class=\"dataframe\">\n",
       "  <thead>\n",
       "    <tr style=\"text-align: right;\">\n",
       "      <th></th>\n",
       "      <th>tradingitemid</th>\n",
       "      <th>order_type</th>\n",
       "      <th>new_date</th>\n",
       "      <th>exit_date</th>\n",
       "      <th>holding_period</th>\n",
       "      <th>price_change_percent</th>\n",
       "    </tr>\n",
       "  </thead>\n",
       "  <tbody>\n",
       "    <tr>\n",
       "      <th>0</th>\n",
       "      <td>2593872</td>\n",
       "      <td>LONG_SELL</td>\n",
       "      <td>2007-01-12</td>\n",
       "      <td>2007-02-09 00:00:00</td>\n",
       "      <td>28 days 00:00:00</td>\n",
       "      <td>-0.056986</td>\n",
       "    </tr>\n",
       "    <tr>\n",
       "      <th>1</th>\n",
       "      <td>2595672</td>\n",
       "      <td>LONG_SELL</td>\n",
       "      <td>2007-01-12</td>\n",
       "      <td>2007-02-09 00:00:00</td>\n",
       "      <td>28 days 00:00:00</td>\n",
       "      <td>0.060672</td>\n",
       "    </tr>\n",
       "    <tr>\n",
       "      <th>2</th>\n",
       "      <td>2596492</td>\n",
       "      <td>LONG_SELL</td>\n",
       "      <td>2007-01-12</td>\n",
       "      <td>2007-02-09 00:00:00</td>\n",
       "      <td>28 days 00:00:00</td>\n",
       "      <td>0.195197</td>\n",
       "    </tr>\n",
       "    <tr>\n",
       "      <th>3</th>\n",
       "      <td>2598371</td>\n",
       "      <td>LONG_SELL</td>\n",
       "      <td>2007-01-12</td>\n",
       "      <td>2007-02-09 00:00:00</td>\n",
       "      <td>28 days 00:00:00</td>\n",
       "      <td>0.170342</td>\n",
       "    </tr>\n",
       "    <tr>\n",
       "      <th>4</th>\n",
       "      <td>2601707</td>\n",
       "      <td>LONG_SELL</td>\n",
       "      <td>2007-01-12</td>\n",
       "      <td>2007-02-09 00:00:00</td>\n",
       "      <td>28 days 00:00:00</td>\n",
       "      <td>0.070503</td>\n",
       "    </tr>\n",
       "    <tr>\n",
       "      <th>5</th>\n",
       "      <td>2603626</td>\n",
       "      <td>LONG_SELL</td>\n",
       "      <td>2007-01-12</td>\n",
       "      <td>2007-02-09 00:00:00</td>\n",
       "      <td>28 days 00:00:00</td>\n",
       "      <td>0.033548</td>\n",
       "    </tr>\n",
       "    <tr>\n",
       "      <th>6</th>\n",
       "      <td>2614630</td>\n",
       "      <td>LONG_SELL</td>\n",
       "      <td>2007-01-12</td>\n",
       "      <td>2007-02-09 00:00:00</td>\n",
       "      <td>28 days 00:00:00</td>\n",
       "      <td>0.004617</td>\n",
       "    </tr>\n",
       "    <tr>\n",
       "      <th>7</th>\n",
       "      <td>2619216</td>\n",
       "      <td>LONG_SELL</td>\n",
       "      <td>2007-01-12</td>\n",
       "      <td>2007-02-09 00:00:00</td>\n",
       "      <td>28 days 00:00:00</td>\n",
       "      <td>0.073042</td>\n",
       "    </tr>\n",
       "    <tr>\n",
       "      <th>8</th>\n",
       "      <td>2620841</td>\n",
       "      <td>LONG_SELL</td>\n",
       "      <td>2007-01-12</td>\n",
       "      <td>2007-02-09 00:00:00</td>\n",
       "      <td>28 days 00:00:00</td>\n",
       "      <td>0.064558</td>\n",
       "    </tr>\n",
       "    <tr>\n",
       "      <th>9</th>\n",
       "      <td>2626233</td>\n",
       "      <td>LONG_SELL</td>\n",
       "      <td>2007-01-12</td>\n",
       "      <td>2007-02-09 00:00:00</td>\n",
       "      <td>28 days 00:00:00</td>\n",
       "      <td>0.106740</td>\n",
       "    </tr>\n",
       "    <tr>\n",
       "      <th>10</th>\n",
       "      <td>2632118</td>\n",
       "      <td>LONG_SELL</td>\n",
       "      <td>2007-01-12</td>\n",
       "      <td>2007-02-09 00:00:00</td>\n",
       "      <td>28 days 00:00:00</td>\n",
       "      <td>0.124905</td>\n",
       "    </tr>\n",
       "    <tr>\n",
       "      <th>11</th>\n",
       "      <td>2634344</td>\n",
       "      <td>LONG_SELL</td>\n",
       "      <td>2007-01-12</td>\n",
       "      <td>2007-02-09 00:00:00</td>\n",
       "      <td>28 days 00:00:00</td>\n",
       "      <td>0.064815</td>\n",
       "    </tr>\n",
       "    <tr>\n",
       "      <th>12</th>\n",
       "      <td>2650116</td>\n",
       "      <td>LONG_SELL</td>\n",
       "      <td>2007-01-12</td>\n",
       "      <td>2007-02-09 00:00:00</td>\n",
       "      <td>28 days 00:00:00</td>\n",
       "      <td>0.104044</td>\n",
       "    </tr>\n",
       "    <tr>\n",
       "      <th>13</th>\n",
       "      <td>2660931</td>\n",
       "      <td>LONG_SELL</td>\n",
       "      <td>2007-01-12</td>\n",
       "      <td>2007-02-09 00:00:00</td>\n",
       "      <td>28 days 00:00:00</td>\n",
       "      <td>0.019220</td>\n",
       "    </tr>\n",
       "    <tr>\n",
       "      <th>14</th>\n",
       "      <td>2661626</td>\n",
       "      <td>LONG_SELL</td>\n",
       "      <td>2007-01-12</td>\n",
       "      <td>2007-02-09 00:00:00</td>\n",
       "      <td>28 days 00:00:00</td>\n",
       "      <td>-0.010064</td>\n",
       "    </tr>\n",
       "    <tr>\n",
       "      <th>15</th>\n",
       "      <td>5059144</td>\n",
       "      <td>LONG_SELL</td>\n",
       "      <td>2007-01-12</td>\n",
       "      <td>2007-02-09 00:00:00</td>\n",
       "      <td>28 days 00:00:00</td>\n",
       "      <td>0.096287</td>\n",
       "    </tr>\n",
       "    <tr>\n",
       "      <th>16</th>\n",
       "      <td>27287160</td>\n",
       "      <td>LONG_SELL</td>\n",
       "      <td>2007-01-12</td>\n",
       "      <td>2007-02-09 00:00:00</td>\n",
       "      <td>28 days 00:00:00</td>\n",
       "      <td>0.092654</td>\n",
       "    </tr>\n",
       "    <tr>\n",
       "      <th>17</th>\n",
       "      <td>9670036</td>\n",
       "      <td>SHORT_COVER</td>\n",
       "      <td>2007-01-12</td>\n",
       "      <td>2007-02-09 00:00:00</td>\n",
       "      <td>28 days 00:00:00</td>\n",
       "      <td>-0.051962</td>\n",
       "    </tr>\n",
       "    <tr>\n",
       "      <th>18</th>\n",
       "      <td>28674542</td>\n",
       "      <td>SHORT_COVER</td>\n",
       "      <td>2007-01-12</td>\n",
       "      <td>2007-02-09 00:00:00</td>\n",
       "      <td>28 days 00:00:00</td>\n",
       "      <td>-0.146055</td>\n",
       "    </tr>\n",
       "    <tr>\n",
       "      <th>19</th>\n",
       "      <td>2604518</td>\n",
       "      <td>LONG_SELL</td>\n",
       "      <td>2007-01-12</td>\n",
       "      <td>2007-03-02 00:00:00</td>\n",
       "      <td>49 days 00:00:00</td>\n",
       "      <td>0.071321</td>\n",
       "    </tr>\n",
       "    <tr>\n",
       "      <th>20</th>\n",
       "      <td>2587782</td>\n",
       "      <td>LONG_SELL</td>\n",
       "      <td>2007-02-09</td>\n",
       "      <td>2007-03-09 00:00:00</td>\n",
       "      <td>28 days 00:00:00</td>\n",
       "      <td>-0.085240</td>\n",
       "    </tr>\n",
       "    <tr>\n",
       "      <th>21</th>\n",
       "      <td>2623773</td>\n",
       "      <td>LONG_SELL</td>\n",
       "      <td>2007-02-09</td>\n",
       "      <td>2007-03-09 00:00:00</td>\n",
       "      <td>28 days 00:00:00</td>\n",
       "      <td>0.003575</td>\n",
       "    </tr>\n",
       "    <tr>\n",
       "      <th>22</th>\n",
       "      <td>2624192</td>\n",
       "      <td>LONG_SELL</td>\n",
       "      <td>2007-02-09</td>\n",
       "      <td>2007-03-09 00:00:00</td>\n",
       "      <td>28 days 00:00:00</td>\n",
       "      <td>-0.039424</td>\n",
       "    </tr>\n",
       "    <tr>\n",
       "      <th>23</th>\n",
       "      <td>2628667</td>\n",
       "      <td>LONG_SELL</td>\n",
       "      <td>2007-02-09</td>\n",
       "      <td>2007-03-09 00:00:00</td>\n",
       "      <td>28 days 00:00:00</td>\n",
       "      <td>0.098389</td>\n",
       "    </tr>\n",
       "    <tr>\n",
       "      <th>24</th>\n",
       "      <td>2628884</td>\n",
       "      <td>LONG_SELL</td>\n",
       "      <td>2007-02-09</td>\n",
       "      <td>2007-03-09 00:00:00</td>\n",
       "      <td>28 days 00:00:00</td>\n",
       "      <td>-0.062256</td>\n",
       "    </tr>\n",
       "    <tr>\n",
       "      <th>25</th>\n",
       "      <td>2632409</td>\n",
       "      <td>LONG_SELL</td>\n",
       "      <td>2007-02-09</td>\n",
       "      <td>2007-03-09 00:00:00</td>\n",
       "      <td>28 days 00:00:00</td>\n",
       "      <td>-0.080591</td>\n",
       "    </tr>\n",
       "    <tr>\n",
       "      <th>26</th>\n",
       "      <td>2634721</td>\n",
       "      <td>LONG_SELL</td>\n",
       "      <td>2007-02-09</td>\n",
       "      <td>2007-03-09 00:00:00</td>\n",
       "      <td>28 days 00:00:00</td>\n",
       "      <td>-0.012620</td>\n",
       "    </tr>\n",
       "    <tr>\n",
       "      <th>27</th>\n",
       "      <td>2659551</td>\n",
       "      <td>LONG_SELL</td>\n",
       "      <td>2007-02-09</td>\n",
       "      <td>2007-03-09 00:00:00</td>\n",
       "      <td>28 days 00:00:00</td>\n",
       "      <td>-0.048290</td>\n",
       "    </tr>\n",
       "    <tr>\n",
       "      <th>28</th>\n",
       "      <td>2660015</td>\n",
       "      <td>LONG_SELL</td>\n",
       "      <td>2007-02-09</td>\n",
       "      <td>2007-03-09 00:00:00</td>\n",
       "      <td>28 days 00:00:00</td>\n",
       "      <td>-0.030557</td>\n",
       "    </tr>\n",
       "    <tr>\n",
       "      <th>29</th>\n",
       "      <td>2944686</td>\n",
       "      <td>LONG_SELL</td>\n",
       "      <td>2007-02-09</td>\n",
       "      <td>2007-03-09 00:00:00</td>\n",
       "      <td>28 days 00:00:00</td>\n",
       "      <td>-0.010138</td>\n",
       "    </tr>\n",
       "    <tr>\n",
       "      <th>...</th>\n",
       "      <td>...</td>\n",
       "      <td>...</td>\n",
       "      <td>...</td>\n",
       "      <td>...</td>\n",
       "      <td>...</td>\n",
       "      <td>...</td>\n",
       "    </tr>\n",
       "    <tr>\n",
       "      <th>2453</th>\n",
       "      <td>2587662</td>\n",
       "      <td>LONG_SELL</td>\n",
       "      <td>2016-03-11</td>\n",
       "      <td>2016-11-18 00:00:00</td>\n",
       "      <td>252 days 00:00:00</td>\n",
       "      <td>0.195932</td>\n",
       "    </tr>\n",
       "    <tr>\n",
       "      <th>2454</th>\n",
       "      <td>2610781</td>\n",
       "      <td>LONG_SELL</td>\n",
       "      <td>2016-03-11</td>\n",
       "      <td>2016-11-18 00:00:00</td>\n",
       "      <td>252 days 00:00:00</td>\n",
       "      <td>0.117723</td>\n",
       "    </tr>\n",
       "    <tr>\n",
       "      <th>2455</th>\n",
       "      <td>37284900</td>\n",
       "      <td>LONG_SELL</td>\n",
       "      <td>2016-01-15</td>\n",
       "      <td>2016-11-18 00:00:00</td>\n",
       "      <td>308 days 00:00:00</td>\n",
       "      <td>0.734108</td>\n",
       "    </tr>\n",
       "    <tr>\n",
       "      <th>2456</th>\n",
       "      <td>2601563</td>\n",
       "      <td>LONG_SELL</td>\n",
       "      <td>2015-01-09</td>\n",
       "      <td>2016-11-18 00:00:00</td>\n",
       "      <td>679 days 00:00:00</td>\n",
       "      <td>0.250318</td>\n",
       "    </tr>\n",
       "    <tr>\n",
       "      <th>2457</th>\n",
       "      <td>118786324</td>\n",
       "      <td>SHORT_COVER</td>\n",
       "      <td>2016-10-21</td>\n",
       "      <td>2016-11-18 00:00:00</td>\n",
       "      <td>28 days 00:00:00</td>\n",
       "      <td>-0.073128</td>\n",
       "    </tr>\n",
       "    <tr>\n",
       "      <th>2458</th>\n",
       "      <td>2632313</td>\n",
       "      <td>SHORT_COVER</td>\n",
       "      <td>2016-09-23</td>\n",
       "      <td>2016-11-18 00:00:00</td>\n",
       "      <td>56 days 00:00:00</td>\n",
       "      <td>-0.064607</td>\n",
       "    </tr>\n",
       "    <tr>\n",
       "      <th>2459</th>\n",
       "      <td>22408080</td>\n",
       "      <td>SHORT_COVER</td>\n",
       "      <td>2016-08-26</td>\n",
       "      <td>2016-11-18 00:00:00</td>\n",
       "      <td>84 days 00:00:00</td>\n",
       "      <td>-0.302917</td>\n",
       "    </tr>\n",
       "    <tr>\n",
       "      <th>2460</th>\n",
       "      <td>2617194</td>\n",
       "      <td>SHORT_COVER</td>\n",
       "      <td>2016-06-03</td>\n",
       "      <td>2016-11-18 00:00:00</td>\n",
       "      <td>168 days 00:00:00</td>\n",
       "      <td>-0.540670</td>\n",
       "    </tr>\n",
       "    <tr>\n",
       "      <th>2461</th>\n",
       "      <td>2624586</td>\n",
       "      <td>SHORT_COVER</td>\n",
       "      <td>2015-12-04</td>\n",
       "      <td>2016-11-18 00:00:00</td>\n",
       "      <td>350 days 00:00:00</td>\n",
       "      <td>0.288432</td>\n",
       "    </tr>\n",
       "    <tr>\n",
       "      <th>2462</th>\n",
       "      <td>10286456</td>\n",
       "      <td>SHORT_COVER</td>\n",
       "      <td>2015-08-14</td>\n",
       "      <td>2016-11-18 00:00:00</td>\n",
       "      <td>462 days 00:00:00</td>\n",
       "      <td>-0.826763</td>\n",
       "    </tr>\n",
       "    <tr>\n",
       "      <th>2463</th>\n",
       "      <td>108803915</td>\n",
       "      <td>SHORT_COVER</td>\n",
       "      <td>2015-06-19</td>\n",
       "      <td>2016-11-18 00:00:00</td>\n",
       "      <td>518 days 00:00:00</td>\n",
       "      <td>-0.283689</td>\n",
       "    </tr>\n",
       "    <tr>\n",
       "      <th>2464</th>\n",
       "      <td>22813853</td>\n",
       "      <td>SHORT_COVER</td>\n",
       "      <td>2015-04-24</td>\n",
       "      <td>2016-11-18 00:00:00</td>\n",
       "      <td>574 days 00:00:00</td>\n",
       "      <td>-0.162900</td>\n",
       "    </tr>\n",
       "    <tr>\n",
       "      <th>2465</th>\n",
       "      <td>30417519</td>\n",
       "      <td>SHORT_COVER</td>\n",
       "      <td>2016-08-26</td>\n",
       "      <td>2016-11-25 00:00:00</td>\n",
       "      <td>91 days 00:00:00</td>\n",
       "      <td>-0.103070</td>\n",
       "    </tr>\n",
       "    <tr>\n",
       "      <th>2466</th>\n",
       "      <td>2637854</td>\n",
       "      <td>SHORT_COVER</td>\n",
       "      <td>2016-07-29</td>\n",
       "      <td>2016-11-25 00:00:00</td>\n",
       "      <td>119 days 00:00:00</td>\n",
       "      <td>-0.530887</td>\n",
       "    </tr>\n",
       "    <tr>\n",
       "      <th>2467</th>\n",
       "      <td>2625650</td>\n",
       "      <td>SHORT_COVER</td>\n",
       "      <td>2016-07-01</td>\n",
       "      <td>2016-12-09 00:00:00</td>\n",
       "      <td>161 days 00:00:00</td>\n",
       "      <td>0.102324</td>\n",
       "    </tr>\n",
       "    <tr>\n",
       "      <th>2468</th>\n",
       "      <td>2654466</td>\n",
       "      <td>SHORT_COVER</td>\n",
       "      <td>2012-02-17</td>\n",
       "      <td>2016-12-09 00:00:00</td>\n",
       "      <td>1757 days 00:00:00</td>\n",
       "      <td>-0.867961</td>\n",
       "    </tr>\n",
       "    <tr>\n",
       "      <th>2469</th>\n",
       "      <td>2590144</td>\n",
       "      <td>LONG_SELL</td>\n",
       "      <td>2016-11-18</td>\n",
       "      <td>2016-12-16 00:00:00</td>\n",
       "      <td>28 days 00:00:00</td>\n",
       "      <td>0.026233</td>\n",
       "    </tr>\n",
       "    <tr>\n",
       "      <th>2470</th>\n",
       "      <td>2602239</td>\n",
       "      <td>LONG_SELL</td>\n",
       "      <td>2016-11-18</td>\n",
       "      <td>2016-12-16 00:00:00</td>\n",
       "      <td>28 days 00:00:00</td>\n",
       "      <td>0.059149</td>\n",
       "    </tr>\n",
       "    <tr>\n",
       "      <th>2471</th>\n",
       "      <td>2619034</td>\n",
       "      <td>LONG_SELL</td>\n",
       "      <td>2016-11-18</td>\n",
       "      <td>2016-12-16 00:00:00</td>\n",
       "      <td>28 days 00:00:00</td>\n",
       "      <td>-0.029096</td>\n",
       "    </tr>\n",
       "    <tr>\n",
       "      <th>2472</th>\n",
       "      <td>2638038</td>\n",
       "      <td>LONG_SELL</td>\n",
       "      <td>2016-10-21</td>\n",
       "      <td>2016-12-16 00:00:00</td>\n",
       "      <td>56 days 00:00:00</td>\n",
       "      <td>0.089157</td>\n",
       "    </tr>\n",
       "    <tr>\n",
       "      <th>2473</th>\n",
       "      <td>37179596</td>\n",
       "      <td>SHORT_COVER</td>\n",
       "      <td>2016-11-18</td>\n",
       "      <td>2016-12-16 00:00:00</td>\n",
       "      <td>28 days 00:00:00</td>\n",
       "      <td>0.104287</td>\n",
       "    </tr>\n",
       "    <tr>\n",
       "      <th>2474</th>\n",
       "      <td>110049187</td>\n",
       "      <td>SHORT_COVER</td>\n",
       "      <td>2016-08-26</td>\n",
       "      <td>2016-12-16 00:00:00</td>\n",
       "      <td>112 days 00:00:00</td>\n",
       "      <td>-0.079630</td>\n",
       "    </tr>\n",
       "    <tr>\n",
       "      <th>2475</th>\n",
       "      <td>142081146</td>\n",
       "      <td>SHORT_COVER</td>\n",
       "      <td>2016-08-26</td>\n",
       "      <td>2016-12-16 00:00:00</td>\n",
       "      <td>112 days 00:00:00</td>\n",
       "      <td>-0.326127</td>\n",
       "    </tr>\n",
       "    <tr>\n",
       "      <th>2476</th>\n",
       "      <td>143092166</td>\n",
       "      <td>SHORT_COVER</td>\n",
       "      <td>2016-03-11</td>\n",
       "      <td>2016-12-16 00:00:00</td>\n",
       "      <td>280 days 00:00:00</td>\n",
       "      <td>-0.684056</td>\n",
       "    </tr>\n",
       "    <tr>\n",
       "      <th>2477</th>\n",
       "      <td>2598539</td>\n",
       "      <td>LONG_SELL</td>\n",
       "      <td>2016-07-01</td>\n",
       "      <td>2016-12-23 00:00:00</td>\n",
       "      <td>175 days 00:00:00</td>\n",
       "      <td>0.459813</td>\n",
       "    </tr>\n",
       "    <tr>\n",
       "      <th>2478</th>\n",
       "      <td>2604420</td>\n",
       "      <td>SHORT_COVER</td>\n",
       "      <td>2016-11-18</td>\n",
       "      <td>2016-12-23 00:00:00</td>\n",
       "      <td>35 days 00:00:00</td>\n",
       "      <td>-0.047350</td>\n",
       "    </tr>\n",
       "    <tr>\n",
       "      <th>2479</th>\n",
       "      <td>2630447</td>\n",
       "      <td>SHORT_COVER</td>\n",
       "      <td>2014-03-28</td>\n",
       "      <td>2016-12-23 00:00:00</td>\n",
       "      <td>1001 days 00:00:00</td>\n",
       "      <td>-0.407168</td>\n",
       "    </tr>\n",
       "    <tr>\n",
       "      <th>2480</th>\n",
       "      <td>83652436</td>\n",
       "      <td>SHORT_COVER</td>\n",
       "      <td>2016-07-01</td>\n",
       "      <td>2016-12-30 00:00:00</td>\n",
       "      <td>182 days 00:00:00</td>\n",
       "      <td>-0.274777</td>\n",
       "    </tr>\n",
       "    <tr>\n",
       "      <th>2481</th>\n",
       "      <td>20384343</td>\n",
       "      <td>SHORT_COVER</td>\n",
       "      <td>2016-05-06</td>\n",
       "      <td>2016-12-30 00:00:00</td>\n",
       "      <td>238 days 00:00:00</td>\n",
       "      <td>-0.604505</td>\n",
       "    </tr>\n",
       "    <tr>\n",
       "      <th>2482</th>\n",
       "      <td>39098165</td>\n",
       "      <td>SHORT_COVER</td>\n",
       "      <td>2013-11-01</td>\n",
       "      <td>2016-12-30 00:00:00</td>\n",
       "      <td>1155 days 00:00:00</td>\n",
       "      <td>-0.760323</td>\n",
       "    </tr>\n",
       "  </tbody>\n",
       "</table>\n",
       "<p>2483 rows × 6 columns</p>\n",
       "</div>"
      ],
      "text/plain": [
       "      tradingitemid   order_type   new_date            exit_date  \\\n",
       "0           2593872    LONG_SELL 2007-01-12  2007-02-09 00:00:00   \n",
       "1           2595672    LONG_SELL 2007-01-12  2007-02-09 00:00:00   \n",
       "2           2596492    LONG_SELL 2007-01-12  2007-02-09 00:00:00   \n",
       "3           2598371    LONG_SELL 2007-01-12  2007-02-09 00:00:00   \n",
       "4           2601707    LONG_SELL 2007-01-12  2007-02-09 00:00:00   \n",
       "5           2603626    LONG_SELL 2007-01-12  2007-02-09 00:00:00   \n",
       "6           2614630    LONG_SELL 2007-01-12  2007-02-09 00:00:00   \n",
       "7           2619216    LONG_SELL 2007-01-12  2007-02-09 00:00:00   \n",
       "8           2620841    LONG_SELL 2007-01-12  2007-02-09 00:00:00   \n",
       "9           2626233    LONG_SELL 2007-01-12  2007-02-09 00:00:00   \n",
       "10          2632118    LONG_SELL 2007-01-12  2007-02-09 00:00:00   \n",
       "11          2634344    LONG_SELL 2007-01-12  2007-02-09 00:00:00   \n",
       "12          2650116    LONG_SELL 2007-01-12  2007-02-09 00:00:00   \n",
       "13          2660931    LONG_SELL 2007-01-12  2007-02-09 00:00:00   \n",
       "14          2661626    LONG_SELL 2007-01-12  2007-02-09 00:00:00   \n",
       "15          5059144    LONG_SELL 2007-01-12  2007-02-09 00:00:00   \n",
       "16         27287160    LONG_SELL 2007-01-12  2007-02-09 00:00:00   \n",
       "17          9670036  SHORT_COVER 2007-01-12  2007-02-09 00:00:00   \n",
       "18         28674542  SHORT_COVER 2007-01-12  2007-02-09 00:00:00   \n",
       "19          2604518    LONG_SELL 2007-01-12  2007-03-02 00:00:00   \n",
       "20          2587782    LONG_SELL 2007-02-09  2007-03-09 00:00:00   \n",
       "21          2623773    LONG_SELL 2007-02-09  2007-03-09 00:00:00   \n",
       "22          2624192    LONG_SELL 2007-02-09  2007-03-09 00:00:00   \n",
       "23          2628667    LONG_SELL 2007-02-09  2007-03-09 00:00:00   \n",
       "24          2628884    LONG_SELL 2007-02-09  2007-03-09 00:00:00   \n",
       "25          2632409    LONG_SELL 2007-02-09  2007-03-09 00:00:00   \n",
       "26          2634721    LONG_SELL 2007-02-09  2007-03-09 00:00:00   \n",
       "27          2659551    LONG_SELL 2007-02-09  2007-03-09 00:00:00   \n",
       "28          2660015    LONG_SELL 2007-02-09  2007-03-09 00:00:00   \n",
       "29          2944686    LONG_SELL 2007-02-09  2007-03-09 00:00:00   \n",
       "...             ...          ...        ...                  ...   \n",
       "2453        2587662    LONG_SELL 2016-03-11  2016-11-18 00:00:00   \n",
       "2454        2610781    LONG_SELL 2016-03-11  2016-11-18 00:00:00   \n",
       "2455       37284900    LONG_SELL 2016-01-15  2016-11-18 00:00:00   \n",
       "2456        2601563    LONG_SELL 2015-01-09  2016-11-18 00:00:00   \n",
       "2457      118786324  SHORT_COVER 2016-10-21  2016-11-18 00:00:00   \n",
       "2458        2632313  SHORT_COVER 2016-09-23  2016-11-18 00:00:00   \n",
       "2459       22408080  SHORT_COVER 2016-08-26  2016-11-18 00:00:00   \n",
       "2460        2617194  SHORT_COVER 2016-06-03  2016-11-18 00:00:00   \n",
       "2461        2624586  SHORT_COVER 2015-12-04  2016-11-18 00:00:00   \n",
       "2462       10286456  SHORT_COVER 2015-08-14  2016-11-18 00:00:00   \n",
       "2463      108803915  SHORT_COVER 2015-06-19  2016-11-18 00:00:00   \n",
       "2464       22813853  SHORT_COVER 2015-04-24  2016-11-18 00:00:00   \n",
       "2465       30417519  SHORT_COVER 2016-08-26  2016-11-25 00:00:00   \n",
       "2466        2637854  SHORT_COVER 2016-07-29  2016-11-25 00:00:00   \n",
       "2467        2625650  SHORT_COVER 2016-07-01  2016-12-09 00:00:00   \n",
       "2468        2654466  SHORT_COVER 2012-02-17  2016-12-09 00:00:00   \n",
       "2469        2590144    LONG_SELL 2016-11-18  2016-12-16 00:00:00   \n",
       "2470        2602239    LONG_SELL 2016-11-18  2016-12-16 00:00:00   \n",
       "2471        2619034    LONG_SELL 2016-11-18  2016-12-16 00:00:00   \n",
       "2472        2638038    LONG_SELL 2016-10-21  2016-12-16 00:00:00   \n",
       "2473       37179596  SHORT_COVER 2016-11-18  2016-12-16 00:00:00   \n",
       "2474      110049187  SHORT_COVER 2016-08-26  2016-12-16 00:00:00   \n",
       "2475      142081146  SHORT_COVER 2016-08-26  2016-12-16 00:00:00   \n",
       "2476      143092166  SHORT_COVER 2016-03-11  2016-12-16 00:00:00   \n",
       "2477        2598539    LONG_SELL 2016-07-01  2016-12-23 00:00:00   \n",
       "2478        2604420  SHORT_COVER 2016-11-18  2016-12-23 00:00:00   \n",
       "2479        2630447  SHORT_COVER 2014-03-28  2016-12-23 00:00:00   \n",
       "2480       83652436  SHORT_COVER 2016-07-01  2016-12-30 00:00:00   \n",
       "2481       20384343  SHORT_COVER 2016-05-06  2016-12-30 00:00:00   \n",
       "2482       39098165  SHORT_COVER 2013-11-01  2016-12-30 00:00:00   \n",
       "\n",
       "          holding_period  price_change_percent  \n",
       "0       28 days 00:00:00             -0.056986  \n",
       "1       28 days 00:00:00              0.060672  \n",
       "2       28 days 00:00:00              0.195197  \n",
       "3       28 days 00:00:00              0.170342  \n",
       "4       28 days 00:00:00              0.070503  \n",
       "5       28 days 00:00:00              0.033548  \n",
       "6       28 days 00:00:00              0.004617  \n",
       "7       28 days 00:00:00              0.073042  \n",
       "8       28 days 00:00:00              0.064558  \n",
       "9       28 days 00:00:00              0.106740  \n",
       "10      28 days 00:00:00              0.124905  \n",
       "11      28 days 00:00:00              0.064815  \n",
       "12      28 days 00:00:00              0.104044  \n",
       "13      28 days 00:00:00              0.019220  \n",
       "14      28 days 00:00:00             -0.010064  \n",
       "15      28 days 00:00:00              0.096287  \n",
       "16      28 days 00:00:00              0.092654  \n",
       "17      28 days 00:00:00             -0.051962  \n",
       "18      28 days 00:00:00             -0.146055  \n",
       "19      49 days 00:00:00              0.071321  \n",
       "20      28 days 00:00:00             -0.085240  \n",
       "21      28 days 00:00:00              0.003575  \n",
       "22      28 days 00:00:00             -0.039424  \n",
       "23      28 days 00:00:00              0.098389  \n",
       "24      28 days 00:00:00             -0.062256  \n",
       "25      28 days 00:00:00             -0.080591  \n",
       "26      28 days 00:00:00             -0.012620  \n",
       "27      28 days 00:00:00             -0.048290  \n",
       "28      28 days 00:00:00             -0.030557  \n",
       "29      28 days 00:00:00             -0.010138  \n",
       "...                  ...                   ...  \n",
       "2453   252 days 00:00:00              0.195932  \n",
       "2454   252 days 00:00:00              0.117723  \n",
       "2455   308 days 00:00:00              0.734108  \n",
       "2456   679 days 00:00:00              0.250318  \n",
       "2457    28 days 00:00:00             -0.073128  \n",
       "2458    56 days 00:00:00             -0.064607  \n",
       "2459    84 days 00:00:00             -0.302917  \n",
       "2460   168 days 00:00:00             -0.540670  \n",
       "2461   350 days 00:00:00              0.288432  \n",
       "2462   462 days 00:00:00             -0.826763  \n",
       "2463   518 days 00:00:00             -0.283689  \n",
       "2464   574 days 00:00:00             -0.162900  \n",
       "2465    91 days 00:00:00             -0.103070  \n",
       "2466   119 days 00:00:00             -0.530887  \n",
       "2467   161 days 00:00:00              0.102324  \n",
       "2468  1757 days 00:00:00             -0.867961  \n",
       "2469    28 days 00:00:00              0.026233  \n",
       "2470    28 days 00:00:00              0.059149  \n",
       "2471    28 days 00:00:00             -0.029096  \n",
       "2472    56 days 00:00:00              0.089157  \n",
       "2473    28 days 00:00:00              0.104287  \n",
       "2474   112 days 00:00:00             -0.079630  \n",
       "2475   112 days 00:00:00             -0.326127  \n",
       "2476   280 days 00:00:00             -0.684056  \n",
       "2477   175 days 00:00:00              0.459813  \n",
       "2478    35 days 00:00:00             -0.047350  \n",
       "2479  1001 days 00:00:00             -0.407168  \n",
       "2480   182 days 00:00:00             -0.274777  \n",
       "2481   238 days 00:00:00             -0.604505  \n",
       "2482  1155 days 00:00:00             -0.760323  \n",
       "\n",
       "[2483 rows x 6 columns]"
      ]
     },
     "execution_count": 123,
     "metadata": {},
     "output_type": "execute_result"
    }
   ],
   "source": [
    "create_holding_period(df_ot)"
   ]
  },
  {
   "cell_type": "code",
   "execution_count": 122,
   "metadata": {
    "collapsed": true,
    "extensions": {
     "jupyter_dashboards": {
      "version": 1,
      "views": {
       "grid_default": {
        "hidden": true
       },
       "report_default": {
        "hidden": true
       }
      }
     }
    }
   },
   "outputs": [],
   "source": [
    "def create_holding_period(df_ot):\n",
    "    \"\"\"This is the function that takes the merged dataframe df_ot and outputs dataframe holding period\"\"\"\n",
    "    def initial_df(df_ot):\n",
    "        df = df_ot.loc[\n",
    "            df_ot.position_status != \"REBAL\",:\n",
    "        ].loc[\n",
    "            :, ['date__transaction', 'tradingitemid', 'order_type', 'position_status', 'price__transaction']\n",
    "        ].dropna(subset=['price__transaction']).sort_values(by=['tradingitemid', 'date__transaction'])\n",
    "        return df\n",
    "       \n",
    "    def insert_place_holders(df):        \n",
    "        for column in ['new_date', 'exit_date', 'holding_period', 'new_price', 'exit_price', \n",
    "                       'price_change_amount', 'price_change_percent']:\n",
    "            df[column] = np.full(df.shape[0], np.nan)\n",
    "        return df\n",
    "\n",
    "    def fill_holding_period(df):\n",
    "        length = df.shape[0]\n",
    "        # reindex df        \n",
    "        df.index = range(length)\n",
    "        \n",
    "        # for first row, its status is always \"NEW\"\n",
    "        df.loc[0, 'new_date'] = df.loc[0, 'date__transaction']\n",
    "        df.loc[0, 'new_price'] = df.loc[0, 'price__transaction']\n",
    "        \n",
    "        # for last row, it depends\n",
    "        if (df.loc[length - 1, 'position_status'] == 'NEW'):\n",
    "            df.loc[length - 1, 'new_date'] = df.loc[length - 1, 'date__transaction']\n",
    "            df.loc[length - 1, 'new_price'] = df.loc[length - 1, 'price__transaction']\n",
    "            \n",
    "        if (df.loc[length - 1, 'position_status'] == 'EXIT'):\n",
    "            df.loc[length - 1, 'exit_date'] = df.loc[length - 1, 'date__transaction']\n",
    "            df.loc[length - 1, 'exit_price'] = df.loc[length - 1, 'price__transaction']\n",
    "            #\n",
    "            i = 0\n",
    "            while pd.isnull(df.loc[length - 1 - i, 'new_date']):\n",
    "                i += 1\n",
    "            #\n",
    "            df.loc[length - 1, 'holding_period'] = df.loc[length - 1, 'exit_date'] - df.loc[length - 1 - i, 'new_date']\n",
    "            df.loc[length - 1, 'price_change_amount'] = df.loc[length - 1, 'exit_price'] - df.loc[length - 1 - i, 'new_price']\n",
    "            df.loc[length - 1, 'price_change_percent'] = (df.loc[length - 1, 'exit_price'] - df.loc[length - 1 - i, 'new_price']) / df.loc[length - 1 - i, 'new_price']   \n",
    "                \n",
    "        for row in range(1, df.shape[0] - 1):    \n",
    "            if (df.loc[row, 'position_status'] == 'NEW'):\n",
    "                df.loc[row, 'new_date'] = df.loc[row, 'date__transaction']\n",
    "                df.loc[row, 'new_price'] = df.loc[row, 'price__transaction']\n",
    "    \n",
    "            if (df.loc[row, 'position_status'] == 'EXIT') & ((df.loc[row + 1, 'position_status'] == 'NEW')):\n",
    "                df.loc[row, 'exit_date'] = df.loc[row, 'date__transaction']\n",
    "                df.loc[row, 'exit_price'] = df.loc[row, 'price__transaction']\n",
    "                #\n",
    "                i = 0\n",
    "                while pd.isnull(df.loc[row - i, 'new_date']):\n",
    "                    i += 1\n",
    "                #\n",
    "                df.loc[row, 'holding_period'] = df.loc[row, 'exit_date'] - df.loc[row - i, 'new_date']\n",
    "                df.loc[row, 'price_change_amount'] = df.loc[row, 'exit_price'] - df.loc[row - i, 'new_price']\n",
    "                df.loc[row, 'price_change_percent'] = (df.loc[row, 'exit_price'] - df.loc[row - i, 'new_price']) / df.loc[row - i, 'new_price']                      \n",
    "        \n",
    "        return df\n",
    "    \n",
    "    def get_holding_period(df):\n",
    "        df = df.dropna(subset=['holding_period']).loc[\n",
    "            :, ['tradingitemid', 'order_type', 'new_date', 'exit_date', 'holding_period', 'price_change_percent']\n",
    "        ]\n",
    "        df['new_date'] = df.exit_date - df.holding_period\n",
    "        df = df.sort_values(by=[\"exit_date\", \"order_type\", \"holding_period\"])\n",
    "        df.index = range(df.shape[0])\n",
    "        return df\n",
    "\n",
    "    df = initial_df(df_ot)\n",
    "    df = insert_place_holders(df)\n",
    "    df = fill_holding_period(df)\n",
    "    df = get_holding_period(df)\n",
    "        \n",
    "    return df\n",
    "\n",
    "\n",
    "# Below functions for holding period plot\n",
    "\"\"\"\n",
    "require %matplotlib inline\n",
    "require from mpld3._display import d3_display\n",
    "require d3_display() to generate plots\n",
    "\"\"\"\n",
    "def plot_holding_vs_price_change(data, by='M'):\n",
    "    \"\"\"prepare data\"\"\"\n",
    "    df_long = data.loc[data.order_type == \"LONG_SELL\", :].sort_index()\n",
    "    df_long['holding_period'] = (df_long.holding_period / np.timedelta64(1, 'D')).astype(int)\n",
    "    df_long = df_long.set_index('exit_date').drop(['tradingitemid_x', 'order_type'], axis=1).resample(by).mean()\n",
    "    \n",
    "    df_short = data.loc[data.order_type == \"SHORT_COVER\", :].sort_index()\n",
    "    df_short['holding_period'] = (df_short.holding_period / np.timedelta64(1, 'D')).astype(int)\n",
    "    df_short = df_short.set_index('exit_date').drop(['tradingitemid_x', 'order_type'], axis=1).resample(by).mean()\n",
    "    \n",
    "    \"\"\"create plots\"\"\"\n",
    "    fig, subplots = plt.subplots(nrows=2, ncols=2, figsize=(12,10))\n",
    "    \n",
    "    \"\"\"plot and customization\"\"\"\n",
    "    subplots[0,0].plot(df_long['holding_period'])\n",
    "    subplots[0,0].set_xlabel('Time Line')\n",
    "    subplots[0,0].set_ylabel('Avg days held by ' + by)\n",
    "    subplots[0,0].set_title('For Long Position')\n",
    "    subplots[0,0].grid(color='lightgray', alpha=0.7)\n",
    "   \n",
    "    subplots[1,0].plot(df_long['price_change_percent'])\n",
    "    subplots[1,0].set_xlabel('Time Line')\n",
    "    subplots[1,0].set_ylabel('Avg price change by ' + by)\n",
    "    subplots[1,0].grid(color='lightgray', alpha=0.7)\n",
    "\n",
    "    subplots[0,1].plot(df_short['holding_period'])\n",
    "    subplots[0,1].set_xlabel('Time Line')\n",
    "    subplots[0,1].set_ylabel('Avg days held by ' + by)\n",
    "    subplots[0,1].set_title('For Short Position')\n",
    "    subplots[0,1].grid(color='lightgray', alpha=0.7)\n",
    "   \n",
    "    subplots[1,1].plot(df_short['price_change_percent'])\n",
    "    subplots[1,1].set_xlabel('Time Line')\n",
    "    subplots[1,1].set_ylabel('Avg price change by ' + by)\n",
    "    subplots[1,1].grid(color='lightgray', alpha=0.7)\n",
    "\n",
    "    return fig\n"
   ]
  }
 ],
 "metadata": {
  "extensions": {
   "jupyter_dashboards": {
    "activeView": "report_default",
    "version": 1,
    "views": {
     "grid_default": {
      "cellMargin": 10,
      "defaultCellHeight": 20,
      "maxColumns": 12,
      "name": "grid",
      "type": "grid"
     },
     "report_default": {
      "name": "report",
      "type": "report"
     }
    }
   }
  },
  "kernelspec": {
   "display_name": "Python 2",
   "language": "python",
   "name": "python2"
  },
  "language_info": {
   "codemirror_mode": {
    "name": "ipython",
    "version": 2
   },
   "file_extension": ".py",
   "mimetype": "text/x-python",
   "name": "python",
   "nbconvert_exporter": "python",
   "pygments_lexer": "ipython2",
   "version": "2.7.13"
  }
 },
 "nbformat": 4,
 "nbformat_minor": 2
}
