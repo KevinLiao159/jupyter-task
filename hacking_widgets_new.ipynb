{
 "cells": [
  {
   "cell_type": "code",
   "execution_count": 6,
   "metadata": {
    "collapsed": true,
    "extensions": {
     "jupyter_dashboards": {
      "version": 1,
      "views": {
       "grid_default": {
        "hidden": true
       },
       "report_default": {
        "hidden": true
       }
      }
     }
    },
    "scrolled": true
   },
   "outputs": [],
   "source": [
    "import pandas as pd\n",
    "import numpy as np\n",
    "import matplotlib.pyplot as plt\n",
    "\n",
    "from ipywidgets import widgets, interactive, interact, Layout, Box, HTML as ipyHTML\n",
    "from IPython.display import display, HTML, clear_output\n",
    "\n",
    "df_p = pd.read_pickle(\"portfolio.pkl\")\n",
    "metrics_df = pd.read_pickle(\"metrics_df.pkl\")"
   ]
  },
  {
   "cell_type": "code",
   "execution_count": 7,
   "metadata": {
    "collapsed": true,
    "extensions": {
     "jupyter_dashboards": {
      "version": 1,
      "views": {
       "grid_default": {
        "hidden": true
       },
       "report_default": {
        "hidden": true
       }
      }
     }
    }
   },
   "outputs": [],
   "source": [
    "# %%html\n",
    "# <style>\n",
    "# .output_wrapper, .output {\n",
    "#     height:auto !important;\n",
    "# }\n",
    "# .output_scroll {\n",
    "#     box-shadow:none !important;\n",
    "#     webkit-box-shadow:none !important;\n",
    "# }\n",
    "# .output_subarea table {\n",
    "#     box-shadow: 10px 5px 5px black;\n",
    "#     border: 4px solid rgba(0,0,0,0.8);\n",
    "# }\n",
    "# #.widget-datepicker {\n",
    "#     #visibility: hidden;\n",
    "# #}\n",
    "# </style>"
   ]
  },
  {
   "cell_type": "code",
   "execution_count": 74,
   "metadata": {
    "extensions": {
     "jupyter_dashboards": {
      "version": 1,
      "views": {
       "grid_default": {
        "col": 4,
        "height": 4,
        "hidden": false,
        "row": 2,
        "width": 4
       },
       "report_default": {
        "hidden": false
       }
      }
     }
    }
   },
   "outputs": [
    {
     "data": {
      "text/html": [
       "<style>\n",
       "  .widget-select-multiple option {\n",
       "    font-size: 26px;\n",
       "    margin: 20px 0px 30px;\n",
       "  }\n",
       "  .widget-select-multiple select {\n",
       "    padding: 0px 20px;\n",
       "  }\n",
       "  .ouput_scroll {\n",
       "    overflow: hidden;\n",
       "  }\n",
       "  .output_scroll > .output_area:first-child {\n",
       "      border-bottom: 1px solid black;\n",
       "      min-height: 30px;\n",
       "  }\n",
       "  .output_scroll > .output_area:nth-child(2) {\n",
       "      overflow: auto;\n",
       "  }\n",
       "  .output_scroll > .output_area:nth-child(2) .output_subarea {\n",
       "      overflow: scroll;\n",
       "      min-width: 1015px;\n",
       "  }\n",
       "  .output_wrapper, .output {\n",
       "      height:auto !important;\n",
       "  }\n",
       "</style>"
      ],
      "text/plain": [
       "<IPython.core.display.HTML object>"
      ]
     },
     "metadata": {},
     "output_type": "display_data"
    }
   ],
   "source": [
    "%%html\n",
    "<style>\n",
    "  .widget-select-multiple option {\n",
    "    font-size: 26px;\n",
    "    margin: 20px 0px 30px;\n",
    "  }\n",
    "  .widget-select-multiple select {\n",
    "    padding: 0px 20px;\n",
    "  }\n",
    "  .ouput_scroll {\n",
    "    overflow: hidden;\n",
    "  }\n",
    "  .output_scroll > .output_area:first-child {\n",
    "      border-bottom: 1px solid black;\n",
    "      min-height: 30px;\n",
    "  }\n",
    "  .output_scroll > .output_area:nth-child(2) {\n",
    "      overflow: auto;\n",
    "  }\n",
    "  .output_scroll > .output_area:nth-child(2) .output_subarea {\n",
    "      overflow: scroll;\n",
    "      min-width: 1015px;\n",
    "  }\n",
    "  .output_wrapper, .output {\n",
    "      height:auto !important;\n",
    "  }\n",
    "</style>"
   ]
  },
  {
   "cell_type": "markdown",
   "metadata": {
    "extensions": {
     "jupyter_dashboards": {
      "version": 1,
      "views": {
       "grid_default": {
        "col": 0,
        "height": 4,
        "hidden": false,
        "row": 2,
        "width": 4
       },
       "report_default": {
        "hidden": false
       }
      }
     }
    }
   },
   "source": [
    "### Batch View"
   ]
  },
  {
   "cell_type": "code",
   "execution_count": 73,
   "metadata": {
    "extensions": {
     "jupyter_dashboards": {
      "version": 1,
      "views": {
       "grid_default": {
        "hidden": true
       },
       "report_default": {
        "hidden": false
       }
      }
     }
    }
   },
   "outputs": [
    {
     "data": {
      "application/vnd.jupyter.widget-view+json": {
       "model_id": "786aaeeff2db4a02bd88894bb2a17501"
      }
     },
     "metadata": {},
     "output_type": "display_data"
    }
   ],
   "source": [
    "\"\"\"setting html style for metrics dataframe\"\"\"\n",
    "styles =[\n",
    "    {'selector': '.row_heading, .blank', 'props': [('display', 'none;')]},\n",
    "    {'selector': 'tr:nth-child(even)', 'props': [('background-color', '#f2f2f2;')]},\n",
    "    {'selector': 'td', 'props': [('height', '20px;')]},\n",
    "]\n",
    "attributes = 'class=\"table\";'\n",
    "\n",
    "\"\"\"multiselect box for plots\"\"\"\n",
    "plotboxes = widgets.SelectMultiple(\n",
    "    options=[x for x in metrics_df.index],        \n",
    "    disabled=False,\n",
    "    layout=Layout(display=\"flex\", flex_flow='column', height='100%', width='100%')\n",
    ")\n",
    "\n",
    "left_box = widgets.VBox([widgets.Label(value = 'Plot ?'), plotboxes]) \n",
    "\n",
    "table = widgets.HBox([\n",
    "    left_box, \n",
    "    ipyHTML(\n",
    "        metrics_df.style.set_table_styles(styles).set_table_attributes(attributes).render(),\n",
    "        layout=Layout(overflow_x='scroll', hight = '50%')\n",
    "           )\n",
    "])    \n",
    "display(table)"
   ]
  },
  {
   "cell_type": "markdown",
   "metadata": {
    "extensions": {
     "jupyter_dashboards": {
      "version": 1,
      "views": {
       "grid_default": {
        "col": 0,
        "height": 2,
        "hidden": false,
        "row": 0,
        "width": 12
       },
       "report_default": {
        "hidden": false
       }
      }
     }
    }
   },
   "source": [
    "### Portfolio View"
   ]
  },
  {
   "cell_type": "code",
   "execution_count": 19,
   "metadata": {
    "extensions": {
     "jupyter_dashboards": {
      "version": 1,
      "views": {
       "grid_default": {
        "hidden": true
       },
       "report_default": {
        "hidden": false
       }
      }
     }
    }
   },
   "outputs": [
    {
     "data": {
      "application/vnd.jupyter.widget-view+json": {
       "model_id": "47f43a833327447eab5966acde82f75e"
      }
     },
     "metadata": {},
     "output_type": "display_data"
    },
    {
     "data": {
      "application/vnd.jupyter.widget-view+json": {
       "model_id": "630f48b08fc04c5e83842f2e0232f0e5"
      }
     },
     "metadata": {},
     "output_type": "display_data"
    }
   ],
   "source": [
    "def portfolio_view(_df_p):\n",
    "    \"\"\"This funtion returns a new view of portfolio dataframe and keep track of net_exposure of portfolio at date\"\"\"\n",
    "    df = _df_p.copy()\n",
    "\n",
    "    df['value'] = (df.price * df.shares)\n",
    "    df_net_exposure = df.groupby(by=['date'])[['value']].sum().rename(columns={'value': 'net_exposure'}).reset_index()\n",
    "    df = pd.merge(df, df_net_exposure, on='date', how='outer')    \n",
    "    df['percent_of_net'] = (df.value / df.net_exposure)\n",
    "    df['amount'] = (df.price * df.shares.abs())\n",
    "    df['extra_stuff1'] = 'TBD1'\n",
    "    df['extra_stuff2'] = 'TBD2'\n",
    "    df['extra_stuff3'] = 'TBD3'\n",
    "    df['extra_stuff4'] = 'TBD4'\n",
    "    \n",
    "    \"\"\"select cols\"\"\"\n",
    "    cols = ['date', 'tradingitemid', 'companyname', 'symbol', 'exchange', 'price', 'shares', \n",
    "            'value', 'percent_of_net', 'batch', 'name', 'amount', 'extra_stuff1', 'extra_stuff2', 'extra_stuff3',\n",
    "           'extra_stuff4']\n",
    "    df = df.loc[:, cols]\n",
    "    \n",
    "    return df, df_net_exposure\n",
    "\n",
    "df_p_view, df_net_exposure = portfolio_view(df_p)    \n",
    "\n",
    "\n",
    "def portfolio_view_date_select(date):\n",
    "    \"\"\"This function interacts with datePick and SortBy to display the target_portfolio dataframe\"\"\"\n",
    "    df = df_p_view.loc[df_p_view.date == date, :]  \n",
    "    \n",
    "    print(\"net exposure: \" + str(df_net_exposure.loc[df_net_exposure.date == date].iloc[0,1]))\n",
    "\n",
    "    display(df)\n",
    "\n",
    "    \n",
    "\n",
    "\"\"\"create the interactive object\"\"\" \n",
    "interact_df_p = interactive(portfolio_view_date_select, \n",
    "                            date=widgets.DatePicker(value = df_p_view.date[0], description='Date'))\n",
    "\n",
    "\"\"\"button for skip date\"\"\"\n",
    "last_week = widgets.Button(description=\"previous date\") \n",
    "next_week = widgets.Button(description=\"next date\")    \n",
    "\n",
    "df_date_t = pd.DataFrame({\"date\": df_p.date.unique()})\n",
    "\n",
    "def forward(next_week):\n",
    "    interact_df_p.children[0].value=df_date_t.iloc[df_date_t.index[df_date_t.date==interact_df_p.children[0].value] + 1].iloc[0,0]\n",
    "    \n",
    "def backward(last_week):\n",
    "    interact_df_p.children[0].value=df_date_t.iloc[df_date_t.index[df_date_t.date==interact_df_p.children[0].value] - 1].iloc[0,0]\n",
    "\n",
    "next_week.on_click(forward)\n",
    "last_week.on_click(backward)  \n",
    "\n",
    "button_box = widgets.HBox([widgets.Label(\"Click here: \"), last_week, next_week])    \n",
    "\n",
    "\n",
    "display(button_box, interact_df_p)\n",
    "\n",
    "pd.set_option(\"display.max_rows\", None)"
   ]
  },
  {
   "cell_type": "code",
   "execution_count": null,
   "metadata": {
    "collapsed": true,
    "extensions": {
     "jupyter_dashboards": {
      "version": 1,
      "views": {
       "grid_default": {
        "hidden": true
       },
       "report_default": {
        "hidden": true
       }
      }
     }
    }
   },
   "outputs": [],
   "source": []
  }
 ],
 "metadata": {
  "extensions": {
   "jupyter_dashboards": {
    "activeView": "report_default",
    "version": 1,
    "views": {
     "grid_default": {
      "cellMargin": 10,
      "defaultCellHeight": 20,
      "maxColumns": 12,
      "name": "grid",
      "type": "grid"
     },
     "report_default": {
      "name": "report",
      "type": "report"
     }
    }
   }
  },
  "kernelspec": {
   "display_name": "Python 2",
   "language": "python",
   "name": "python2"
  },
  "language_info": {
   "codemirror_mode": {
    "name": "ipython",
    "version": 2
   },
   "file_extension": ".py",
   "mimetype": "text/x-python",
   "name": "python",
   "nbconvert_exporter": "python",
   "pygments_lexer": "ipython2",
   "version": "2.7.13"
  }
 },
 "nbformat": 4,
 "nbformat_minor": 2
}
